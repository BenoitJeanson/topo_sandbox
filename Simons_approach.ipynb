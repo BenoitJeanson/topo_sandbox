{
 "cells": [
  {
   "cell_type": "markdown",
   "metadata": {},
   "source": [
    "# Initial setups"
   ]
  },
  {
   "cell_type": "markdown",
   "metadata": {},
   "source": [
    "## Imports and structs"
   ]
  },
  {
   "cell_type": "code",
   "execution_count": 1,
   "metadata": {},
   "outputs": [
    {
     "name": "stdout",
     "output_type": "stream",
     "text": [
      "Set parameter Username\n",
      "Academic license - for non-commercial use only - expires 2024-11-27\n"
     ]
    }
   ],
   "source": [
    "using JuMP\n",
    "using Gurobi\n",
    "env = Gurobi.Env()\n",
    "using PowerSystems\n",
    "\n",
    "using CSV\n",
    "\n",
    "using Graphs\n",
    "using MetaGraphsNext\n",
    "using CairoMakie\n",
    "using GraphMakie\n",
    "using SparseArrays\n",
    "using GraphMakie.NetworkLayout\n",
    "\n",
    "import LaTeXStrings\n",
    "\n",
    "CairoMakie.activate!(type = \"svg\")"
   ]
  },
  {
   "cell_type": "code",
   "execution_count": 2,
   "metadata": {},
   "outputs": [],
   "source": [
    "mutable struct Branch\n",
    "    b::Float64\n",
    "    p_max::Float64\n",
    "    v_nom1::Float64\n",
    "    v_nom2::Float64\n",
    "    p::Float64\n",
    "    outage::Bool\n",
    "    trip::Bool\n",
    "    Branch(b, p_max) = new(b, p_max, 0, 0, 0, false, false)\n",
    "    Branch(b, p_max, v_nom1, v_nom2) = new(b, p_max, v_nom1, v_nom2, 0, false, false)\n",
    "    Branch(b::Branch) = new(b.b, b.p_max, b.v_nom1, b.v_nom2, b.p, false, false)\n",
    "    Branch(b::Branch, p_max) = new(b.b, p_max, b.v_nom1, b.v_nom2, b.p, false, false)\n",
    "end\n",
    "\n",
    "struct BranchId\n",
    "    bus1::Int64\n",
    "    bus2::Int64\n",
    "end"
   ]
  },
  {
   "cell_type": "code",
   "execution_count": 3,
   "metadata": {},
   "outputs": [],
   "source": [
    "mutable struct SubBus\n",
    "    p::Float64\n",
    "    branch_ids::Vector{Int8}\n",
    "end\n",
    "\n",
    "mutable struct BusConf\n",
    "    bus::Int16\n",
    "    subBuses::Vector{SubBus}\n",
    "end"
   ]
  },
  {
   "cell_type": "markdown",
   "metadata": {},
   "source": [
    "## Utility functions"
   ]
  },
  {
   "cell_type": "markdown",
   "metadata": {},
   "source": [
    "## Graph"
   ]
  },
  {
   "cell_type": "code",
   "execution_count": 4,
   "metadata": {},
   "outputs": [
    {
     "data": {
      "text/plain": [
       "e_index_for (generic function with 1 method)"
      ]
     },
     "metadata": {},
     "output_type": "display_data"
    }
   ],
   "source": [
    "e_index_for(g::MetaGraph, e::Graphs.SimpleEdge) = g[label_for(g,src(e)), label_for(g,dst(e))]"
   ]
  },
  {
   "cell_type": "code",
   "execution_count": 5,
   "metadata": {},
   "outputs": [
    {
     "data": {
      "text/plain": [
       "add_subBus (generic function with 4 methods)"
      ]
     },
     "metadata": {},
     "output_type": "display_data"
    }
   ],
   "source": [
    "function add_subBus(g::MetaGraph, busconfs::Vector{BusConf})\n",
    "    h=deepcopy(g)\n",
    "    e_labels = collect(edge_labels(h))\n",
    "    for bc in busconfs\n",
    "        bc_bus_label = label_for(g, bc.bus)\n",
    "        # Map the branches of the subBus\n",
    "        sb2edges = Dict(sb => [e_labels[br] for br in sb.branch_ids] for sb in bc.subBuses)\n",
    "        edges_origin = collect(edges(h))\n",
    "        edges_to_remove = [edges_origin[br] for sb in bc.subBuses for br in sb.branch_ids]\n",
    "        for e in edges_to_remove\n",
    "            rem_edge!(h, src(e), dst(e))\n",
    "        end\n",
    "\n",
    "        # Build the new bus and connect the branches\n",
    "        for (i, sb) in enumerate(bc.subBuses)\n",
    "            #create the new vertex\n",
    "            new_v_label = \"$(bc_bus_label)-$i\"\n",
    "            h[new_v_label] = sb.p\n",
    "            h[bc_bus_label] = h[bc_bus_label] - sb.p\n",
    "            # connect the copy of the branches\n",
    "            for br in sb2edges[sb]\n",
    "                new_e_label = br[1] == bc_bus_label ? (new_v_label, br[2]) : (br[1], new_v_label)\n",
    "                h[new_e_label...] = g[br...]\n",
    "            end\n",
    "        end\n",
    "    end\n",
    "    h\n",
    "end\n",
    "\n",
    "function add_subBus(edge_ids::Union{Int, Vector{Int}}, g, busconfs::Vector{BusConf})\n",
    "    edge_moved_to_end = [br for bc in busconfs for sb in bc.subBuses for br in sb.branch_ids]\n",
    "    \n",
    "    function a_sb(e_id)\n",
    "        ff = findfirst(isequal(e_id), edge_moved_to_end)\n",
    "        if isnothing(ff)\n",
    "            return e_id - length([br for bc in busconfs for sb in bc.subBuses for br in sb.branch_ids if br ≤ e_id])\n",
    "        else\n",
    "            return ne(g) - length(edge_moved_to_end) + ff\n",
    "        end\n",
    "    end\n",
    "\n",
    "    if isa(edge_ids, Int)\n",
    "        return a_sb(edge_ids)\n",
    "    end\n",
    "\n",
    "    res_edge_ids = copy(edge_ids)\n",
    "    foreach(((i,e_id),) ->res_edge_ids[i] = a_sb(e_id), enumerate(res_edge_ids))\n",
    "    return res_edge_ids\n",
    "end\n",
    "\n",
    "function add_subBus(g::MetaGraph, busconfs::Vector{BusConf}, edge_ids::Vector{Int})\n",
    "    add_subBus(g, busconfs), add_subBus(edge_ids,g, busconfs)\n",
    "end\n",
    "\n",
    "function add_subBus(g::MetaGraph, busconfs::Vector{BusConf}, edge_ids::Vector{Int}, id::Int)\n",
    "    add_subBus(g, busconfs), add_subBus(edge_ids, g, busconfs), add_subBus(id, g, busconfs)\n",
    "end\n"
   ]
  },
  {
   "cell_type": "markdown",
   "metadata": {},
   "source": [
    "### Minigrid"
   ]
  },
  {
   "cell_type": "code",
   "execution_count": 6,
   "metadata": {},
   "outputs": [
    {
     "data": {
      "text/plain": [
       "build_simple_grid (generic function with 1 method)"
      ]
     },
     "metadata": {},
     "output_type": "display_data"
    }
   ],
   "source": [
    "function build_simple_grid(;micro = true)\n",
    "    g = MetaGraph(\n",
    "        DiGraph();\n",
    "        label_type=String,\n",
    "        vertex_data_type = Float64,\n",
    "        edge_data_type = Branch,\n",
    "    )\n",
    "    g[\"1\"] = micro ? -2 : -3\n",
    "    for i=2:(micro ? 3 : 4)\n",
    "        g[\"$i\"] = 1\n",
    "    end\n",
    "    g[\"1\",\"2\"] = Branch(1, 1)\n",
    "    g[\"2\",\"3\"] = Branch(1, 1)\n",
    "    if micro\n",
    "        g[\"1\",\"3\"] = Branch(1,1)\n",
    "    else\n",
    "        g[\"3\",\"4\"] = Branch(1, 1)\n",
    "        g[\"2\",\"4\"] = Branch(1, 1)\n",
    "        g[\"1\",\"4\"] = Branch(1, 1)\n",
    "    end\n",
    "    g\n",
    "end\n"
   ]
  },
  {
   "cell_type": "markdown",
   "metadata": {},
   "source": [
    "### Parse MatPower files"
   ]
  },
  {
   "cell_type": "code",
   "execution_count": 7,
   "metadata": {},
   "outputs": [
    {
     "data": {
      "text/plain": [
       "network2graph (generic function with 2 methods)"
      ]
     },
     "metadata": {},
     "output_type": "display_data"
    }
   ],
   "source": [
    "function network2graph(sys::System, v=false)\n",
    "    g = MetaGraph(\n",
    "        DiGraph();\n",
    "        label_type=String,\n",
    "        vertex_data_type = Float64,\n",
    "        edge_data_type = Branch,\n",
    "    )\n",
    "\n",
    "    init_p_bus(g, sys, objType, op) = \n",
    "        for k in get_components(objType, sys)\n",
    "            v && println(\"bus $(k.bus.number)\\t$(repr(op)) $(k.active_power)\")\n",
    "            g[\"$(k.bus.number)\"] = op(haskey(g,\"$(k.bus.number)\") ? g[\"$(k.bus.number)\"] : 0, k.active_power)\n",
    "        end\n",
    "    init_p_bus(g, sys, PowerLoad, +)\n",
    "    init_p_bus(g, sys, Generator, -)\n",
    "    \n",
    "    v && println(\"branches\")\n",
    "    for k in get_components(ACBranch, sys)\n",
    "        if !haskey(g, \"$(k.arc.from.number)\")\n",
    "            v && println(\"bus: $(k.arc.from.number)\")\n",
    "            g[\"$(k.arc.from.number)\"] = 0\n",
    "        end\n",
    "        if !haskey(g, \"$(k.arc.to.number)\")\n",
    "            v && println(\"bus: $(k.arc.to.number)\")\n",
    "            g[\"$(k.arc.to.number)\"] = 0\n",
    "        end\n",
    "        v && println(\"(\\\"$(k.arc.from.number)\\\", \\\"$(k.arc.to.number)\\\") \")\n",
    "        g[\"$(k.arc.from.number)\", \"$(k.arc.to.number)\"] = Branch(1/k.x, 10, k.arc.from.base_voltage, k.arc.to.base_voltage)\n",
    "    end\n",
    "    \n",
    "    to_remove = []\n",
    "    for node in vertices(g)\n",
    "        if isempty(inneighbors(g,node)) && isempty(outneighbors(g,node))\n",
    "            push!(to_remove, label_for(g,node))\n",
    "        end\n",
    "    end\n",
    "    v && !isempty(to_remove) && println(\"\\nremove nodes: $to_remove\")\n",
    "\n",
    "    foreach(node-> rem_vertex!(g, code_for(g,node)), to_remove)\n",
    "    \n",
    "    g\n",
    "end"
   ]
  },
  {
   "cell_type": "code",
   "execution_count": 8,
   "metadata": {},
   "outputs": [
    {
     "data": {
      "text/plain": [
       "balance! (generic function with 1 method)"
      ]
     },
     "metadata": {},
     "output_type": "display_data"
    }
   ],
   "source": [
    "function balance!(g)\n",
    "    non_zeros = [label for label in labels(g) if g[label] ≠ 0]\n",
    "    imbalance = sum(g[label] for label in non_zeros) / length(non_zeros)\n",
    "    for label in non_zeros\n",
    "        g[label] -= imbalance\n",
    "    end\n",
    "end"
   ]
  },
  {
   "cell_type": "code",
   "execution_count": 9,
   "metadata": {},
   "outputs": [
    {
     "data": {
      "text/plain": [
       "check_flow_consistency (generic function with 1 method)"
      ]
     },
     "metadata": {},
     "output_type": "display_data"
    }
   ],
   "source": [
    "function check_flow_consistency(g; v::Bool=false)\n",
    "    flows = Dict(l => g[l...].p for l in edge_labels(g))\n",
    "    injections = Dict(l => g[l] for l in labels(g))\n",
    "\n",
    "    # Initialize net flows for each node\n",
    "    net_flows = Dict{String, Float64}()\n",
    "\n",
    "    # Update net flows based on branch flows\n",
    "    for ((from, to), flow) in flows\n",
    "        net_flows[from] = get(net_flows, from, 0.0) - flow\n",
    "        net_flows[to] = get(net_flows, to, 0.0) + flow\n",
    "    end\n",
    "\n",
    "    # Compare with injections\n",
    "    consistent = true\n",
    "\n",
    "    v && println(\"\\nComparison with injections:\")\n",
    "    for (node, injection) in injections\n",
    "        net_flow = get(net_flows, node, 0.0)\n",
    "\n",
    "        v && println(\"Node $node: Injection = $injection, Net Flow = $net_flow, Difference = $(injection - net_flow)\")\n",
    "        if abs(injection - net_flow) > 1e-9  # Tolerance for floating-point comparison\n",
    "            consistent = false\n",
    "        end\n",
    "    end\n",
    "\n",
    "    if v\n",
    "        if consistent\n",
    "            println(\"\\nThe flows and injections are consistent.\")\n",
    "        else\n",
    "            println(\"\\nThe flows and injections are not consistent.\")\n",
    "        end\n",
    "    end\n",
    "    consistent\n",
    "end"
   ]
  },
  {
   "cell_type": "markdown",
   "metadata": {},
   "source": [
    "### Tune the grid with constraints - indicators on OTS results"
   ]
  },
  {
   "cell_type": "code",
   "execution_count": 10,
   "metadata": {},
   "outputs": [
    {
     "data": {
      "text/plain": [
       "indicators (generic function with 1 method)"
      ]
     },
     "metadata": {},
     "output_type": "display_data"
    }
   ],
   "source": [
    "add_constraint(g, fun) = foreach(e -> fun(e_index_for(g,e)), edges(g))\n",
    "\n",
    "set_limitations(branches, lim) = Dict( k => begin\n",
    "        br_out = Branch(br_in, br_in.v_nom1 == 138.0 ? lim : 10)\n",
    "    end for (k,br_in) in branches)\n",
    "\n",
    "function indicators(model)\n",
    "    sw = [s for s in model[:sw] if value(s) == 0.0]\n",
    "    ls = [l for l in model[:ls] if value(l) ≠ 0.0]\n",
    "    sw, ls\n",
    "end"
   ]
  },
  {
   "cell_type": "markdown",
   "metadata": {},
   "source": [
    "### LaTeX"
   ]
  },
  {
   "cell_type": "code",
   "execution_count": 11,
   "metadata": {},
   "outputs": [
    {
     "data": {
      "text/plain": [
       "filter_latex_formulation (generic function with 1 method)"
      ]
     },
     "metadata": {},
     "output_type": "display_data"
    }
   ],
   "source": [
    "function filter_latex_formulation(model, word)\n",
    "    lf = repr(latex_formulation(model))\n",
    "    word == \"\" && return LaTeXStrings.LaTeXString(lf)\n",
    "    splited = split(lf ,\"\\n\")\n",
    "    filtered = join(filter(line-> occursin(word, line), splited), \"\\n\")\n",
    "    joined = join([\"\\\\begin{aligned}\", filtered\n",
    "                , \"\\\\end{aligned}\"], \" \")\n",
    "    LaTeXStrings.LaTeXString(joined)\n",
    "end"
   ]
  },
  {
   "cell_type": "markdown",
   "metadata": {},
   "source": [
    "### Get results"
   ]
  },
  {
   "cell_type": "code",
   "execution_count": 12,
   "metadata": {},
   "outputs": [
    {
     "data": {
      "text/plain": [
       "store_result (generic function with 1 method)"
      ]
     },
     "metadata": {},
     "output_type": "display_data"
    }
   ],
   "source": [
    "function store_result(model, filename)\n",
    "    open(filename, \"w\") do file\n",
    "        foreach(k->println(file, \"$k, $(value(k))\"), all_variables(model))\n",
    "    end\n",
    "end"
   ]
  },
  {
   "cell_type": "markdown",
   "metadata": {},
   "source": [
    "## Drawing"
   ]
  },
  {
   "cell_type": "code",
   "execution_count": 13,
   "metadata": {},
   "outputs": [
    {
     "data": {
      "text/plain": [
       "generate_csv"
      ]
     },
     "metadata": {},
     "output_type": "display_data"
    }
   ],
   "source": [
    "\"\"\"\n",
    "    generate_csv(Dict{String, Point2}) -> String\n",
    "    \n",
    "Generates a String that represents a CSV file from the dict of Points\n",
    "\"\"\"\n",
    "function generate_csv(dic)\n",
    "    println(\"bus_i,x,y\")\n",
    "    foreach(l->println(\"$l, $(dic[l][1]), $(dic[l][2])\"), sort(collect(keys(dic)), by=x-> parse(Int, x)))\n",
    "end"
   ]
  },
  {
   "cell_type": "code",
   "execution_count": 14,
   "metadata": {},
   "outputs": [
    {
     "data": {
      "text/plain": [
       "load_coord"
      ]
     },
     "metadata": {},
     "output_type": "display_data"
    }
   ],
   "source": [
    "\"\"\"\n",
    "    load_coord(filename) -> Dict{String, Point2}\n",
    "\n",
    "Load a csv file containing the coordinates\n",
    "\"\"\"\n",
    "function load_coord(file)\n",
    "    csv_data = CSV.File(file)\n",
    "    coord = Dict{String, Point2}()\n",
    "    foreach(row -> coord[\"$(row.bus_i)\"] = Point(row.x, row.y), csv_data)\n",
    "    coord\n",
    "end"
   ]
  },
  {
   "cell_type": "code",
   "execution_count": 15,
   "metadata": {},
   "outputs": [
    {
     "data": {
      "text/plain": [
       "complete_subBus_coords (generic function with 1 method)"
      ]
     },
     "metadata": {},
     "output_type": "display_data"
    }
   ],
   "source": [
    "function complete_subBus_coords(g, init_points)\n",
    "    res_points = Point2[]\n",
    "    for lab in labels(g)\n",
    "        if haskey(init_points, lab)\n",
    "            push!(res_points, init_points[lab])\n",
    "        else\n",
    "            neighbs = [label_for(g, c) for c in all_neighbors(g, code_for(g, lab))]\n",
    "            push!(neighbs, split(lab, \"-\")[1])\n",
    "            push!(res_points, 1/length(neighbs) * reduce(+, [init_points[lab] for lab in neighbs]))\n",
    "        end\n",
    "    end\n",
    "    res_points\n",
    "end"
   ]
  },
  {
   "cell_type": "code",
   "execution_count": 16,
   "metadata": {},
   "outputs": [
    {
     "data": {
      "text/plain": [
       "draw (generic function with 1 method)"
      ]
     },
     "metadata": {},
     "output_type": "display_data"
    }
   ],
   "source": [
    "function draw(g_orig::MetaGraph;\n",
    "\n",
    "                outages = [],\n",
    "                trip = nothing,\n",
    "    \n",
    "                fig_size = (900, 600),\n",
    "                font_size = 15,\n",
    "                layout = Stress(Ptype=Float32),\n",
    "                margin_ratio =7,\n",
    "                digits = 2,\n",
    "    \n",
    "                node_label = (g, label; digits = 2) -> \"$label($(round(g[label], digits=digits)))\",\n",
    "                marker = (g, label) -> g[label]>=0 ? :rect : :circle,\n",
    "                node_size = (g, label, max_p) -> sqrt(abs(g[label]))/sqrt(max_p)*80,\n",
    "\n",
    "                edge_labels = (br; digits = 2) -> repr(round(br.p, digits=digits)),\n",
    "                edge_coloring = (br; tol=1e-6) -> br.outage ? :black : (abs(br.p>br.p_max + tol) ? :red : :green),\n",
    "                edge_style = branch -> branch.trip ? :dot : :solid,\n",
    "                edge_width = 3,\n",
    "                arrow_size = 25,\n",
    "                )\n",
    "\n",
    "    g = copy(g_orig)\n",
    "    max_p = maximum(collect(labels(g)) .|> l->abs(g[l]))\n",
    "    gLabels = [label_for(g, v) for v in vertices(g)]\n",
    "    to_reverse = []\n",
    "    for (i,e) in enumerate(edges(g))\n",
    "        br = e_index_for(g, e)\n",
    "        if i in outages\n",
    "            br.outage = true\n",
    "        end\n",
    "        if i == trip\n",
    "            br.trip = true\n",
    "        end\n",
    "        if br.p<0\n",
    "            push!(to_reverse, e)\n",
    "        end\n",
    "    end\n",
    "    for e in to_reverse\n",
    "        b = e_index_for(g, e)\n",
    "        b.p = -b.p\n",
    "        rem_edge!(g, src(e), dst(e))\n",
    "        g[label_for(g,dst(e)), label_for(g,src(e))] = b\n",
    "    end\n",
    "\n",
    "    fig = Figure(size = fig_size, fontsize = font_size)\n",
    "    ax = Axis(fig[1, 1])\n",
    "\n",
    "    x_min, x_max, y_min, y_max = reduce(((x_min, x_max, y_min, y_max), pt) \n",
    "        -> (min(pt[1], x_min), max(pt[1], x_max), min(pt[2], y_min), max(pt[2], y_max)), \n",
    "        layout isa Dict{String, Point2} ? values(layout) : layout(g) , init = (0,0,0,0))\n",
    "    delta_x, delta_y = ((x_max - x_min) , (y_max - y_min)) ./ margin_ratio\n",
    "    xlims!(ax, x_min-delta_x, x_max+delta_x)\n",
    "    ylims!(ax, y_min-delta_y, y_max+delta_y)\n",
    "    \n",
    "    g_labels = [label_for(g, v) for v in vertices(g)]\n",
    "    branches = [e_index_for(g, e) for e in edges(g)]\n",
    "\n",
    "    graphplot!(ax, g;\n",
    "        layout = layout isa Dict{String, Point2} ? complete_subBus_coords(g, layout) : layout,\n",
    "        node_size = [node_size(g, l, max_p) for l in gLabels],\n",
    "        node_attr = (marker = [marker(g, l) for l in g_labels], color= :white, strokecolor = :red, strokewidth = 3,),\n",
    "        nlabels = [node_label(g, l, digits=digits) for l in g_labels],\n",
    "        elabels = [edge_labels(b, digits=digits) for b in branches],\n",
    "        edge_plottype = :beziersegments,\n",
    "\t\tedge_attr = (linestyle = [edge_style(b) for b in branches],),\n",
    "        edge_color = [edge_coloring(b) for b in branches],\n",
    "        edge_width = edge_width,\n",
    "        arrow_size = arrow_size,\n",
    "        arrow_shift = :end,\n",
    "        )\n",
    "    hidedecorations!(ax)\n",
    "    hidespines!(ax)\n",
    "\n",
    "    ax.aspect = DataAspect()\n",
    "    display(fig)\n",
    "    fig\n",
    "end"
   ]
  },
  {
   "cell_type": "markdown",
   "metadata": {},
   "source": [
    "# Models"
   ]
  },
  {
   "cell_type": "markdown",
   "metadata": {},
   "source": [
    "## DC-PF with linear algebra"
   ]
  },
  {
   "cell_type": "code",
   "execution_count": 17,
   "metadata": {},
   "outputs": [
    {
     "data": {
      "text/plain": [
       "dc_flow (generic function with 1 method)"
      ]
     },
     "metadata": {},
     "output_type": "display_data"
    }
   ],
   "source": [
    "function dc_flow!(g; outages = [], trip = nothing)\n",
    "    A = incidence_matrix(g; oriented = true)'\n",
    "    for outage in outages\n",
    "        A[outage,:] .= 0\n",
    "    end\n",
    "    if trip ≠ nothing\n",
    "        A[trip,:] .= 0\n",
    "    end\n",
    "    D = spdiagm([e_index_for(g,e).b for e in edges(g)])\n",
    "    B = A'*D*A\n",
    "    B_inv = inv(Matrix(B + fill(1/nv(g), nv(g), nv(g)))) - fill(1/nv(g), nv(g), nv(g))\n",
    "    \n",
    "    p_to_f = D*A*B_inv\n",
    "    flows = p_to_f * [g[label_for(g, v)] for v in vertices(g)]\n",
    "    for (i,e) in enumerate(edges(g))\n",
    "        e_index_for(g, e).p = flows[i]\n",
    "    end\n",
    "    g\n",
    "end\n",
    "\n",
    "function dc_flow(g; outages = [], trip = nothing)\n",
    "    h=deepcopy(g)\n",
    "    dc_flow!(h, outages = outages, trip = trip)\n",
    "end\n"
   ]
  },
  {
   "cell_type": "markdown",
   "metadata": {},
   "source": [
    "## Secured DC OTS"
   ]
  },
  {
   "cell_type": "markdown",
   "metadata": {},
   "source": [
    "With $\\mathcal{C}$ the set of contingencies, $\\mathcal{V}$ the set of edges and $\\mathcal{E}$ the set of edges.\n",
    "\n",
    "$$\n",
    "\\begin{split}\n",
    "    \\rho^* = \\arg\\,\\min_{\\pmb{\\gamma},\\vec{v}, \\pmb{\\beta}, \\pmb{f}, \\rho}\\, & \\rho +\\alpha \\sum_{e \\in \\mathcal{E}}{v_e}\\\\\n",
    "    s.t.\\\\\n",
    "    \\vec{f_c} = \\pmb{DA\\hat{B}^{-1}} \\vec{p} + (\\pmb{D - DA\\hat{B}^{-1}A^TD})(\\vec{\\beta_c} + \\vec{\\gamma_c}) & \\quad \\forall c \\in \\mathcal{C} \\\\\n",
    "    |\\vec{f_c}| \\preceq \\rho \\overline{\\vec{f_c}} & \\quad \\forall c \\in \\mathcal{C} \\\\\n",
    "    (1-\\vec{v}) \\odot \\vec{\\gamma_c} = 0 & \\quad \\forall c \\in \\mathcal{C} \\\\\n",
    "    \\beta_{c, e} = 0 & \\quad \\forall (c,e) \\in \\mathcal{C}\\times\\mathcal{E}\\ |\\ c\\ne e \\\\\n",
    "    v_{e} \\in \\{0,1\\} & \\quad \\forall e \\in \\mathcal{E} \\\\\n",
    "\\end{split}\n",
    "$$\n",
    "\n",
    "The cost function is the weighted sum of the maximum overload and the sum of line openings. The later term reduces the number of line openings, the weight $\\alpha$ can be pretty low so that it does not impede the main cost.\n",
    "\n",
    "A lower bound can be set on the overload so that $\\rho \\ge \\rho\\_min\\_bound$ (the default value is 0). Thus, when a line is below this bound, no measure is to be taken. A bound set to 1 implies the operational limits are targeted.\n",
    "\n",
    "A variant of the first term ($is\\_single\\_\\rho = false$) consists in minimizing the sum of $\\rho_e - \\rho\\_min\\_bound \\, \\forall e \\in \\mathcal{E}$ over all the line. This allows to not only focus on the most loaded line, but to takes into account all the line above the threshold. \n",
    "\n",
    "Ensuring connectedness using a fictitious mirror graph with variables $\\star$, having with the same switching and 1 source bus is injecting $|\\mathcal{V}| - 1$ (no unit as it is fictitious injection), and each of the others is withdrawing $1$, which ensures there is a connected path from any of them to the source bus. This is done for all the contingencies. \n",
    "\n",
    "$$\n",
    "\\begin{split}\n",
    "\\overrightarrow{f^\\star_{c}} \\odot (1-\\overrightarrow{u_c}) = 0 & \\quad \\forall c \\in \\mathcal{C} \\\\\n",
    "\\overrightarrow{f^\\star_{c}} \\odot (1-\\overrightarrow{v}) = 0 & \\quad \\forall c \\in \\mathcal{C} \\\\\n",
    "(f^\\star_{c, e} - \\phi^\\star_{c, dst(e)} - \\phi^\\star_{c, src(e)}) * u_{c,e} = 0 & \\quad \\forall (c,e) \\in \\mathcal{C}\\times\\mathcal{E} \\\\\n",
    "(f^\\star_{c, e} - \\phi^\\star_{c, dst(e)} - \\phi^\\star_{c, src(e)}) * v_e = 0 & \\quad \\forall (c,e) \\in \\mathcal{C}\\times\\mathcal{E} \\\\\n",
    "p^\\star_i = \\sum_{e \\in \\mathcal{E}|dst(e)=i}{f^\\star_{c,e}} - \\sum_{e \\in \\mathcal{E}|src(e)=i}{f^\\star_{c,e}}  & \\quad \\forall (c, i) \\in \\mathcal{C}\\times\\{1..|\\mathcal{V}|\\} \\\\\n",
    "p^\\star_i  = 1 & \\quad \\forall i \\in \\{1..|\\mathcal{V}| - 1\\} \\\\\n",
    "p^\\star_n = - (|\\mathcal{V}| - 1) \\\\\n",
    "\\end{split}\n",
    "$$\n",
    "\n",
    "Which translates into:\n",
    "$$\n",
    "\\begin{split}\n",
    "|\\overrightarrow{f^\\star_{c}}| \\le M * (1-\\overrightarrow{u_c}) & \\quad \\forall c \\in \\mathcal{C} \\\\\n",
    "|\\overrightarrow{f^\\star_{c}}| \\le M * (1-\\overrightarrow{v}) & \\quad \\forall c \\in \\mathcal{C} \\\\\n",
    "|f^\\star_{c, e} - \\phi^\\star_{c, dst(e)} - \\phi^\\star_{c, src(e)}|  \\le M * u_{c,e} & \\quad \\forall (c,e) \\in \\mathcal{C}\\times\\mathcal{E} \\\\\n",
    "|f^\\star_{c, e} - \\phi^\\star_{c, dst(e)} - \\phi^\\star_{c, src(e)}|  \\le M * v_e & \\quad \\forall (c,e) \\in \\mathcal{C}\\times\\mathcal{E} \\\\\n",
    "p^\\star_i = \\sum_{e|dst(e)=i}{f^\\star_{c,e}} - \\sum_{e|src(e)=i}{f^\\star_{c,e}}  & \\quad \\forall (c, i) \\in \\mathcal{C}\\times\\{1..|\\mathcal{V}|\\} \\\\\n",
    "p^\\star_i  = 1 & \\quad \\forall i \\in \\{1..|\\mathcal{V}| - 1\\} \\\\\n",
    "p^\\star_n = - (|\\mathcal{V}| - 1) \\\\\n",
    "\\end{split}\n",
    "$$\n",
    "\n",
    "A void contingency is added to take the base case into consideration, and the parameter $n\\_1\\_connectedness$ ($true$ by default)can be set to $false$ if the connectedness is not to be considered in N-1."
   ]
  },
  {
   "cell_type": "markdown",
   "metadata": {},
   "source": [
    "## Init model"
   ]
  },
  {
   "cell_type": "code",
   "execution_count": 18,
   "metadata": {},
   "outputs": [
    {
     "data": {
      "text/plain": [
       "init_model (generic function with 7 methods)"
      ]
     },
     "metadata": {},
     "output_type": "display_data"
    }
   ],
   "source": [
    "function init_model(g::MetaGraph,\n",
    "                        contingencies::AbstractArray{Int} = Int[],\n",
    "                        is_single_ρ::Bool=true,\n",
    "                        ρ_min_bound::Float64 = 0.,\n",
    "                        n_1_connectedness::Bool = true,\n",
    "                        bus_confs::Vector{BusConf} = BusConf[],\n",
    "                        allow_branch_openings::Bool = true)\n",
    "\n",
    "    # model = direct_model(Gurobi.Optimizer())\n",
    "    model = Model(Gurobi.Optimizer)\n",
    "    # set_silent(model)\n",
    "    set_optimizer_attribute(model, \"DualReductions\", 0)\n",
    "    set_optimizer_attribute(model, \"LogFile\", \"my_log_file.txt\")\n",
    "  \n",
    "    model.ext[:g] = g\n",
    "    A = incidence_matrix(g; oriented = true)'\n",
    "    model.ext[:A] = A\n",
    "    model.ext[:branch_side2bus] = (br, side) -> findfirst(i-> A[br,i] == (side == 1 ? -1 : 1), 1:nv(g))\n",
    "    model.ext[:branch_bus2side] = (br, v) -> A[br,v] == 1 ? 2 : -A[br,v]\n",
    "\n",
    "    outages = collect(contingencies)\n",
    "    push!(outages, 0)\n",
    "    model.ext[:outages] = outages\n",
    "    model.ext[:nb_cases] = length(outages)\n",
    "    model.ext[:is_outage] = (i,j) -> j == outages[i] ? 1 : 0\n",
    "\n",
    "\n",
    "    model.ext[:p] = [g[label_for(g, v)] for v in vertices(g)]\n",
    "\n",
    "\n",
    "    model.ext[:is_single_ρ] = is_single_ρ\n",
    "    model.ext[:ρ_min_bound] = ρ_min_bound\n",
    "    model.ext[:n_1_connectedness] = n_1_connectedness\n",
    "    model.ext[:allow_branch_openings] = allow_branch_openings\n",
    "\n",
    "    model.ext[:bus_confs] = bus_confs\n",
    "    model.ext[:nb_bus_confs] = length(bus_confs)\n",
    "    model.ext[:bus_to_conf_ids] = reduce((acc, (index, conf)) -> (\n",
    "                push!(get!(acc, conf.bus, Vector{Int}()), index);\n",
    "                acc\n",
    "            ), enumerate(bus_confs),\n",
    "            init = Dict(i => Int[] for i in 1:nv(g))\n",
    "        )\n",
    "    model.ext[:branch_to_conf_ids] = reduce((acc, (index, conf)) -> (\n",
    "                foreach(br -> push!(get!(acc, br, Vector{Int}()), index),\n",
    "                        (br for sb in conf.subBuses for br in sb.branch_ids));\n",
    "                acc\n",
    "                ), enumerate(bus_confs),\n",
    "            init = Dict(i => Int[] for i in 1:ne(g))\n",
    "        )\n",
    "    model\n",
    "end"
   ]
  },
  {
   "cell_type": "markdown",
   "metadata": {},
   "source": [
    "## DC_matrices"
   ]
  },
  {
   "cell_type": "code",
   "execution_count": 19,
   "metadata": {},
   "outputs": [
    {
     "data": {
      "text/plain": [
       "create_dc_matrix (generic function with 1 method)"
      ]
     },
     "metadata": {},
     "output_type": "display_data"
    }
   ],
   "source": [
    "function create_dc_matrix(g)\n",
    "    A = incidence_matrix(g; oriented = true)'\n",
    "    D = spdiagm([e_index_for(g,e).b for e in edges(g)])\n",
    "    B = A'*D*A\n",
    "    B_inv = inv(Matrix(B + fill(1/nv(g), nv(g), nv(g))))\n",
    "    p_to_f = D*A*B_inv\n",
    "    δ_to_f = D - p_to_f*A'*D\n",
    "    A, D, B_inv, p_to_f, δ_to_f\n",
    "end"
   ]
  },
  {
   "cell_type": "markdown",
   "metadata": {},
   "source": [
    "## Flows"
   ]
  },
  {
   "cell_type": "code",
   "execution_count": 20,
   "metadata": {},
   "outputs": [
    {
     "data": {
      "text/plain": [
       "flows_def! (generic function with 1 method)"
      ]
     },
     "metadata": {},
     "output_type": "display_data"
    }
   ],
   "source": [
    "function flows_def!(model, big_M)\n",
    "\n",
    "    g, A, nb_cases, allow_branch_openings, bus_confs, nb_bus_confs, outages, is_outage, p = (model.ext[k]\n",
    "        for k in [:g, :A, :nb_cases, :allow_branch_openings, :bus_confs, :nb_bus_confs, :outages, :is_outage, :p])\n",
    "    \n",
    "    allow_branch_openings &&  (v_branch = model[:v_branch])\n",
    "    gen = model[:gen]\n",
    "    load = model[:load]\n",
    "    \n",
    "    cases = 1:nb_cases\n",
    "    n_1cases = 1:nb_cases-1\n",
    "    edge_ids = 1:ne(g)\n",
    "\n",
    "    big_M=5\n",
    "\n",
    "    @variable(model, flows[cases, 1:ne(g)])\n",
    "\n",
    "    if allow_branch_openings\n",
    "        @variable(model, γ_branch[1:nb_cases, 1:ne(g)])\n",
    "\n",
    "        @constraint(model, [c in cases],  γ_branch[c, :] .≤ v_branch .* big_M)\n",
    "        @constraint(model, [c in cases], -γ_branch[c, :] .≤ v_branch .* big_M)\n",
    "\n",
    "        @constraint(model, [c in cases],  flows[c,:] .≤ (1 .- v_branch) .* big_M)\n",
    "        @constraint(model, [c in cases], -flows[c,:] .≤ (1 .- v_branch) .* big_M)\n",
    "    end\n",
    "\n",
    "    @variable(model, v_bus[1:nb_bus_confs], Bin)\n",
    "    @variable(model, γ_bus[1:nb_cases, k=1:nb_bus_confs])\n",
    "\n",
    "    @constraint(model, [c in cases, 1:nb_bus_confs],  γ_bus[c, :] .≤ v_bus[:] .* big_M)\n",
    "    @constraint(model, [c in cases, 1:nb_bus_confs], -γ_bus[c, :] .≤ v_bus[:] .* big_M)\n",
    "\n",
    "    @variable(model, -big_M .≤ β[n_1cases] .≤ big_M)\n",
    "    @constraint(model, [c in n_1cases], flows[c, outages[c]] == 0)  # nb_cases is the index of the base case\n",
    "\n",
    "    D = spdiagm([e_index_for(g,e).b for e in edges(g)])\n",
    "    B = A'*D*A\n",
    "    N = nv(g)\n",
    "    B_inv = inv(Matrix(B + fill(1/N, N, N))) - fill(1/N, N, N)\n",
    "    p_to_f = D*A*B_inv\n",
    "    δ_to_f = D - p_to_f*A'*D\n",
    "\n",
    "    for c in cases\n",
    "        outage_phase = @expression(model, c == nb_cases ? 0 : β[c] .* [is_outage(c,e) for e in edge_ids])\n",
    "        line_opening_phase = @expression(model, allow_branch_openings ? γ_branch[c,:] : zeros(1:ne(g)))\n",
    "        bus_splitting_phase = @expression(model, isempty(bus_confs) ? 0\n",
    "            : [sum(br in sb.branch_ids ? (A[br, bus_confs[k].bus] * γ_bus[c, k]) : 0\n",
    "                    for k=1:nb_bus_confs for sb in bus_confs[k].subBuses) for br = 1:ne(g)])\n",
    "\n",
    "        @constraint(model,flows[c,:] .== p_to_f * (gen[c,:] .+ load[c,:]) \n",
    "                            + δ_to_f * (outage_phase .+ line_opening_phase .+ bus_splitting_phase))\n",
    "    end\n",
    "\n",
    "    for (k, bus, sb) in ((k, bc.bus, sb) for (k, bc) in enumerate(bus_confs) for sb in bc.subBuses)\n",
    "        @constraint(model, [c in cases],\n",
    "          sum(flows[c, br] * A[br, bus] for br in sb.branch_ids) - sb.p  ≤ (1 - v_bus[k]) * big_M)\n",
    "        @constraint(model, [c in cases], \n",
    "        -(sum(flows[c, br] * A[br, bus] for br in sb.branch_ids) - sb.p) ≤ (1 - v_bus[k]) * big_M)\n",
    "    end\n",
    "\n",
    "    #TODO: add and test @constraint(model, [c in cases, bus in keys(bus_to_conf_idss)], sum(bc) ≤ 1 for bc in bus_to_conf_ids[bus]) ie pas plus d'une conf par poste. Et il faut aussi des confs avec plus d'un 2e bus.\n",
    "\n",
    "end"
   ]
  },
  {
   "cell_type": "markdown",
   "metadata": {},
   "source": [
    "## Overload"
   ]
  },
  {
   "cell_type": "code",
   "execution_count": 21,
   "metadata": {},
   "outputs": [
    {
     "data": {
      "text/plain": [
       "overload_def!"
      ]
     },
     "metadata": {},
     "output_type": "display_data"
    }
   ],
   "source": [
    "\"\"\"\n",
    "    overload_def!(model,\n",
    "                        g::MetaGraph,\n",
    "                        nb_cases::Int,\n",
    "                        is_single_ρ::Bool,\n",
    "                        ρ_min_bound::Float64)\n",
    "\n",
    "overload is the value to be minimized. It relies on ρ which is flow/flow_limit - ρ_min_bound. ρ_min_bound=1 if the expectation is to get a situation without overload. It can be either the max of load over all the branches (is_single_ρ) or it can be the sum of the of all the over the min_bound load.\n",
    "\"\"\"\n",
    "function overload_def!(model)\n",
    "\n",
    "    g, is_single_ρ, ρ_min_bound, nb_cases = (model.ext[k] for k in [:g, :is_single_ρ, :ρ_min_bound, :nb_cases])\n",
    "    flows = model[:flows]\n",
    "\n",
    "    @variable(model, overload)\n",
    "    p_max = [e_index_for(g, br).p_max for br in edges(g)]\n",
    "    if is_single_ρ\n",
    "        @variable(model, ρ ≥ ρ_min_bound)\n",
    "        @constraint(model, overload == ρ - ρ_min_bound)\n",
    "    \n",
    "        @constraint(model, [i=1:nb_cases], flows[i,:] .≤ ρ.*p_max)\n",
    "        @constraint(model, [i=1:nb_cases], -ρ.*p_max  .≤ flows[i,:])\n",
    "    else\n",
    "        @variable(model, ρ[1:ne(g)] ≥ 0)\n",
    "        @constraint(model, overload == sum(ρ))\n",
    "    \n",
    "        @constraint(model, [i=nb_cases], flows[i,:] .≤ (ρ .+ ρ_min_bound).*p_max)\n",
    "        @constraint(model, [i=nb_cases], -(ρ .+ ρ_min_bound).*p_max .≤ flows[i,:])\n",
    "    end\n",
    "    overload\n",
    "end"
   ]
  },
  {
   "cell_type": "markdown",
   "metadata": {},
   "source": [
    "## C_W"
   ]
  },
  {
   "cell_type": "code",
   "execution_count": 22,
   "metadata": {},
   "outputs": [
    {
     "data": {
      "text/plain": [
       "c_w_def! (generic function with 1 method)"
      ]
     },
     "metadata": {},
     "output_type": "display_data"
    }
   ],
   "source": [
    "function c_w_def!(model)\n",
    "    g, nb_cases, outages, is_outage = (model.ext[k] for k in [:g, :nb_cases, :outages, :is_outage])\n",
    "\n",
    "    # c_w = max(is_outage, v_branch) == 1 if the corresponding branch is not connected to the base bus either by outage or line opening or bus splitting, ie c_w is ≤ 1, ≥ each of them, and ≤ the sum of them.\n",
    "    \n",
    "    cases = 1:nb_cases\n",
    "    edges = 1:ne(g)\n",
    "    @variable(model, c_w[cases, edges])\n",
    "    if haskey(model, :v_branch)\n",
    "        v_branch = model[:v_branch]\n",
    "        @constraint(model, [c in cases, e in edges], c_w[c, e] ≥ is_outage(c,e))\n",
    "        @constraint(model, [c in cases, e in edges], c_w[c, e] ≥ v_branch[e])\n",
    "        @constraint(model, [c in cases, e in edges], c_w[c, e] ≤ is_outage(c,e) + v_branch[e])\n",
    "    else\n",
    "        @constraint(model, [c in cases, e in edges], c_w[c, e] == is_outage(c,e))\n",
    "    end\n",
    "end"
   ]
  },
  {
   "cell_type": "markdown",
   "metadata": {},
   "source": [
    "## Base connectedness and light"
   ]
  },
  {
   "cell_type": "markdown",
   "metadata": {},
   "source": [
    "### base"
   ]
  },
  {
   "cell_type": "code",
   "execution_count": 23,
   "metadata": {},
   "outputs": [
    {
     "data": {
      "text/plain": [
       "base_connectedness! (generic function with 1 method)"
      ]
     },
     "metadata": {},
     "output_type": "display_data"
    }
   ],
   "source": [
    "function base_connectedness!(model)\n",
    "\n",
    "    g, bus_to_conf_ids, n_1_connectedness, bus_confs, nb_cases, A, bus_to_conf_ids, branch_to_conf_ids, branch_bus2side, branch_side2bus = (model.ext[bc_id] for bc_id in \n",
    "        [:g, :bus_to_conf_ids, :n_1_connectedness, :bus_confs, :nb_cases, :A, :bus_to_conf_ids, :branch_to_conf_ids, :branch_bus2side, :branch_side2bus])\n",
    "    \n",
    "    v_bus = model[:v_bus]\n",
    "    # connectivity constraints\n",
    "    nb_bus_tot = nv(g) + sum(length(bus_to_conf_ids[bus]) for bus in 1:nv(g))\n",
    "    big_M2 = nb_bus_tot\n",
    "    cases = (n_1_connectedness ? 1 : nb_cases):nb_cases        # nb_cases is the index of the base case\n",
    "    edges = 1:ne(g)\n",
    "    sides = 1:2\n",
    "    buses = 1:nv(g)\n",
    "    bus_confs_ids = 1:length(bus_confs)\n",
    "\n",
    "    c_w = model[:c_w]\n",
    "\n",
    "    # c_φ corresponds to the phase angle for source (1) and destination (2) of edges\n",
    "    # c_Φ_base corresponds to the phase of the bus in the case all lines of the substation are connected\n",
    "    @variable(model, c_φ[cases, edges, sides])\n",
    "    @variable(model, c_flows[cases, edges])\n",
    "    @variable(model, c_Φ_base[cases, buses])\n",
    "    @variable(model, c_Φ_split[cases, bus_confs_ids])\n",
    "    \n",
    "    # the flow in the branch equals the angle difference between the terminals\n",
    "    @constraint(model, [c in cases, e in edges], c_flows[c,e] == c_φ[c,e,2] - c_φ[c,e,1])\n",
    "    \n",
    "    # when a bus split is activated, then, the bus angle of the branch corresponds to the one of the new bus\n",
    "    for (bc_id, bus, br) in [(bc_id, bc.bus, br) for (bc_id, bc) in enumerate(bus_confs) \n",
    "                                                    for sb in bc.subBuses for br in sb.branch_ids]\n",
    "        side = branch_bus2side(br, bus)\n",
    "        @constraint(model, [cases],   c_φ[:, br, side] .- c_Φ_split[:, bc_id]  .≤ big_M2 * (1 - v_bus[bc_id]))\n",
    "        @constraint(model, [cases], -(c_φ[:, br, side] .- c_Φ_split[:, bc_id]) .≤ big_M2 * (1 - v_bus[bc_id]))\n",
    "    end\n",
    "\n",
    "    # terminal and bus angles are identical when the line is connected to the bus, which is the case when c_w==0 but not the case when the bus is split\n",
    "    for c in cases, br in edges, s in sides\n",
    "        is_a_conf_activated_on_bus = sum([v_bus[bc_id] for bc_id in filter(\n",
    "                        conf_id -> branch_bus2side(br, bus_confs[conf_id].bus) == s,\n",
    "                        branch_to_conf_ids[br])])\n",
    "        @constraint(model, c_φ[c, br, s] - c_Φ_base[c, branch_side2bus(br, s)]\n",
    "                                ≤ big_M2 * (c_w[c, br] + is_a_conf_activated_on_bus))\n",
    "        @constraint(model,-(c_φ[c, br, s] - c_Φ_base[c, branch_side2bus(br, s)])\n",
    "                                ≤ big_M2 * (c_w[c, br]  + is_a_conf_activated_on_bus))\n",
    "    end\n",
    "    \n",
    "    # c_flows are null when a line is open : c_w == 1\n",
    "    @constraint(model, [c in cases, e in edges],  c_flows[c, e] ≤ big_M2 * (1 - c_w[c, e]))\n",
    "    @constraint(model, [c in cases, e in edges], -c_flows[c, e] ≤ big_M2 * (1 - c_w[c, e]))\n",
    "\n",
    "    # the first bus holds a generator with n_bus_tot - 1 - its number of possible confs,\n",
    "    # each other consumes 1 + (the number of possible confs on the bus)\n",
    "    # This ensures the c_flows are balanced at the substation level\n",
    "    @constraint(model, [c  in cases, bus in buses], \n",
    "        (bus == 1 ? -nb_bus_tot : 0) + 1 + length(bus_to_conf_ids[bus]) - sum(c_flows[c, br] * A[br, bus] for br in 1:ne(g)) == 0)\n",
    "    \n",
    "    # But when confd are activated, the balance needs also to be ensured for the concened subBuses\n",
    "    for (bc_id, bc) in enumerate(bus_confs), c in cases\n",
    "        c_flows_on_bus_bus = @expression(model, \n",
    "            sum(c_flows[c, br] * A[br, bc.bus] for sb in bc.subBuses for br in sb.branch_ids))\n",
    "        @constraint(model,   1 - c_flows_on_bus_bus  ≤ big_M2 * (1 - v_bus[bc_id]))\n",
    "        @constraint(model, -(1 - c_flows_on_bus_bus) ≤ big_M2 * (1 - v_bus[bc_id]))\n",
    "    end\n",
    "end"
   ]
  },
  {
   "cell_type": "markdown",
   "metadata": {},
   "source": [
    "### light"
   ]
  },
  {
   "cell_type": "code",
   "execution_count": 24,
   "metadata": {},
   "outputs": [
    {
     "data": {
      "text/plain": [
       "base_connectedness_light! (generic function with 1 method)"
      ]
     },
     "metadata": {},
     "output_type": "display_data"
    }
   ],
   "source": [
    "function base_connectedness_light!(model)\n",
    "\n",
    "    g, bus_to_conf_ids, n_1_connectedness, bus_confs, nb_cases, A, bus_to_conf_ids, branch_to_conf_ids, branch_bus2side, branch_side2bus = (model.ext[bc_id] for bc_id in \n",
    "        [:g, :bus_to_conf_ids, :n_1_connectedness, :bus_confs, :nb_cases, :A, :bus_to_conf_ids, :branch_to_conf_ids, :branch_bus2side, :branch_side2bus])\n",
    "    \n",
    "    v_bus = model[:v_bus]\n",
    "    c_w = model[:c_w]\n",
    "\n",
    "    nb_bus_tot = nv(g) + sum(length(bus_to_conf_ids[bus]) for bus in 1:nv(g))\n",
    "    big_M2 = nb_bus_tot\n",
    "    cases = (n_1_connectedness ? 1 : nb_cases):nb_cases        # nb_cases is the index of the base case\n",
    "    edge_ids = 1:ne(g)\n",
    "    sides = 1:2\n",
    "    buses = 1:nv(g)\n",
    "    bus_confs_ids = 1:length(bus_confs)\n",
    "\n",
    "    sb_ids = bc_id -> 1:length(bus_confs[bc_id].subBuses)\n",
    "\n",
    "    @variable(model, c_flows[cases, edge_ids])\n",
    "    \n",
    "    bus = (e, s) -> findfirst(v -> A[e,v] == s, buses)\n",
    "\n",
    "    # # c_flows are null when a line is open : c_w == 1\n",
    "    @constraint(model, [c in cases, e in edge_ids],  c_flows[c, e] ≤ big_M2 * (1 - c_w[c, e]))\n",
    "    @constraint(model, [c in cases, e in edge_ids], -c_flows[c, e] ≤ big_M2 * (1 - c_w[c, e]))\n",
    "\n",
    "    # # the first bus holds a generator with n_bus_tot - 1 - its number of possible confs,\n",
    "    # # each other consumes 1 + (the number of possible confs on the bus)\n",
    "    # # This ensures the c_flows are balanced at the substation level\n",
    "    @constraint(model, [c  in cases, bus in buses], \n",
    "        (bus == 1 ? -nb_bus_tot : 0) + 1 + length(bus_to_conf_ids[bus]) - sum(c_flows[c, br] * A[br, bus] for br in 1:ne(g)) == 0)\n",
    "    \n",
    "    # But when confs are activated, the balance needs also to be ensured for the concerned subBuses\n",
    "    for (bc_id, bc) in enumerate(bus_confs), c in cases\n",
    "        c_flows_on_bus_bus = @expression(model, \n",
    "            sum(c_flows[c, br] * A[br, bc.bus] for sb in bc.subBuses for br in sb.branch_ids))\n",
    "        @constraint(model,   1 - c_flows_on_bus_bus  ≤ big_M2 * (1 - v_bus[bc_id]))\n",
    "        @constraint(model, -(1 - c_flows_on_bus_bus) ≤ big_M2 * (1 - v_bus[bc_id]))\n",
    "    end\n",
    "end"
   ]
  },
  {
   "cell_type": "markdown",
   "metadata": {},
   "source": [
    "## N-1 connectedness"
   ]
  },
  {
   "cell_type": "markdown",
   "metadata": {},
   "source": [
    "### ots"
   ]
  },
  {
   "cell_type": "code",
   "execution_count": 25,
   "metadata": {},
   "outputs": [
    {
     "data": {
      "text/plain": [
       "N_1_connectednes_def! (generic function with 1 method)"
      ]
     },
     "metadata": {},
     "output_type": "display_data"
    }
   ],
   "source": [
    "function N_1_connectednes_def!(model, bus_origin)\n",
    "    g, A, nb_cases, outages = (model.ext[k] for k in [:g, :A, :nb_cases, :outages])\n",
    "    cases = 1:nb_cases -1\n",
    "    edges = 1:ne(g)\n",
    "    nb_buses = nv(g)\n",
    "    buses = 1:nb_buses\n",
    "    \n",
    "    bigM_nb_v = nv(g) + 2\n",
    "    bigM_π = 2\n",
    "\n",
    "    v_branch = model[:v_branch]\n",
    "    c_w = model[:c_w]\n",
    "\n",
    "    incident = v -> [e for e in edges if A[e,v] ≠ 0]\n",
    "    opposite = (e,v) -> findfirst(i->(i ≠ v && A[e,i] ≠ 0) , buses)\n",
    "\n",
    "    @variable(model, cn1_a[cases], Bin)\n",
    "    @variable(model, cn1_b[cases], Bin)#lower_bound = 0, upper_bound = 1)\n",
    "    @variable(model, cn1_flows[cases, edges])\n",
    "    @variable(model, cn1_p_orig[cases])\n",
    "    @variable(model, πbus[cases, buses], Bin)# lower_bound = 0, upper_bound = 1)\n",
    "    @variable(model, cn1_ψ[cases, bus in buses, incident(bus)], Bin)# lower_bound = 0, upper_bound = 1)\n",
    "\n",
    "    @constraint(model, [cases], cn1_a[:] .+ cn1_b[:] .== 1)\n",
    "\n",
    "    @constraint(model, [c in cases, e in edges],  cn1_flows[c, e] ≤ bigM_nb_v * (1 - c_w[c, e]))\n",
    "    @constraint(model, [c in cases, e in edges], -cn1_flows[c, e] ≤ bigM_nb_v * (1 - c_w[c, e]))\n",
    "\n",
    "    @constraint(model, [c in cases, bus in [bus for bus in buses if bus ≠ bus_origin]],\n",
    "        πbus[c, bus]  - sum(A[e, bus] * cn1_flows[c, e] for e in edges) == 0)\n",
    "    @constraint(model, [c in cases],\n",
    "        cn1_p_orig[c] - sum(A[e,   bus_origin] * cn1_flows[c, e] for e in edges) == 0)\n",
    "\n",
    "    @constraint(model, [c in cases],   cn1_p_orig[c] + nb_buses - 1  ≤ bigM_nb_v * cn1_a[c])\n",
    "    @constraint(model, [c in cases], -(cn1_p_orig[c] + nb_buses - 1) ≤ bigM_nb_v * cn1_a[c])\n",
    "    \n",
    "    @constraint(model, [c in cases], πbus[c, bus_origin] == 1)\n",
    "    @constraint(model, [c in cases],\n",
    "          sum(abs(A[outages[c], bus]) * πbus[c, bus] for bus in buses) - 1  ≤ bigM_π * cn1_b[c])\n",
    "    @constraint(model, [c in cases],\n",
    "        -(sum(abs(A[outages[c], bus]) * πbus[c, bus] for bus in buses) - 1) ≤ bigM_π * cn1_b[c])\n",
    "\n",
    "    @constraint(model,[c in cases, bus in buses],\n",
    "        πbus[c, bus] ≤ sum(cn1_ψ[c, bus, e] for e in incident(bus)))\n",
    "    @constraint(model,[c in cases, bus in buses, e in incident(bus)],\n",
    "        πbus[c, bus] ≥ cn1_ψ[c, bus, e])\n",
    "    \n",
    "    @constraint(model,[c in cases, bus in buses, e in incident(bus)],\n",
    "        cn1_ψ[c, bus, e] ≥ πbus[c, opposite(e, bus)] - c_w[c, e])\n",
    "    @constraint(model,[c in cases, bus in buses, e in incident(bus)],\n",
    "        cn1_ψ[c, bus, e] ≤ πbus[c, opposite(e, bus)])\n",
    "    @constraint(model,[c in cases, bus in buses, e in incident(bus)],\n",
    "        cn1_ψ[c, bus, e] ≤ 1 - c_w[c, e])\n",
    "end"
   ]
  },
  {
   "cell_type": "markdown",
   "metadata": {},
   "source": [
    "### tnr"
   ]
  },
  {
   "cell_type": "code",
   "execution_count": 26,
   "metadata": {},
   "outputs": [
    {
     "data": {
      "text/plain": [
       "N_1_connectednes_bussplit_def! (generic function with 1 method)"
      ]
     },
     "metadata": {},
     "output_type": "display_data"
    }
   ],
   "source": [
    "function N_1_connectednes_bussplit_def!(model, bus_origin)\n",
    "    g, A, nb_cases, outages, bus_confs, bus_to_conf_ids = (model.ext[k] for k in [:g, :A, :nb_cases, :outages, :bus_confs, :bus_to_conf_ids])\n",
    "    cases = 1:nb_cases -1\n",
    "    edges = 1:ne(g)\n",
    "    nb_buses = nv(g)\n",
    "    buses = 1:nb_buses\n",
    "    buses_wo_O = (k for k in buses if k ≠ bus_origin)\n",
    "    \n",
    "    bigM_nb_v = 100# TODO: nv(g) + 2 + length(bus_confs)\n",
    "    \n",
    "    bus_confs_ids = 1:length(bus_confs)\n",
    "\n",
    "    sb_ids = bc_id -> 1:length(bus_confs[bc_id].subBuses)\n",
    "\n",
    "    v_bus = model[:v_bus]\n",
    "    c_w = model[:c_w]\n",
    "\n",
    "    incident = v -> [e for e in edges if A[e,v] ≠ 0]\n",
    "    terminal = e ->[bus for bus in buses if A[e, bus] ≠ 0]\n",
    "    opposite = (e,v) -> findfirst(i->(i ≠ v && A[e,i] ≠ 0) , buses)\n",
    "\n",
    "    @variable(model, cn1_a[cases], Bin)\n",
    "    @variable(model, cn1_b[cases], Bin)#lower_bound = 0, upper_bound = 1)\n",
    "    @variable(model, cn1_flows[cases, edges])\n",
    "    @variable(model, cn1_p_orig[cases])\n",
    "    @variable(model, cn1_πbus[cases, buses], Bin)# lower_bound = 0, upper_bound = 1)\n",
    "    @variable(model, cn1_hatπbus[cases, bc ∈ bus_confs_ids], Bin)# lower_bound = 0, upper_bound = 1)\n",
    "    \n",
    "    @variable(model, cn1_χ[cases, bus ∈ buses, incident(bus)], Bin)\n",
    "    @variable(model, cn1_χ_circ[cases, bus ∈ buses, incident(bus)], Bin)\n",
    "\n",
    "    @variable(model, cn1_Ψ[cases, bus ∈ buses, incident(bus)], Bin)\n",
    "    @variable(model, cn1_hat_Ψ[cases, bus_confs_ids], Bin)\n",
    "\n",
    "    for c ∈ cases, bus ∈ buses, edge ∈ incident(bus)\n",
    "        @constraint(model, cn1_χ[c, bus, edge] == cn1_χ_circ[c, bus, edge]\n",
    "                            + sum(cn1_hatπbus[c, conf] for conf ∈ bus_to_conf_ids[opposite(edge, bus)]))\n",
    "        @constraint(model, cn1_χ_circ[c, bus, edge] ≤ cn1_πbus[c, opposite(edge, bus)])\n",
    "        @constraint(model, cn1_χ_circ[c, bus, edge] ≤ 1\n",
    "                            - sum(v_bus[conf] for conf ∈ bus_to_conf_ids[opposite(edge, bus)]))\n",
    "        @constraint(model, cn1_χ_circ[c, bus, edge] ≥ cn1_πbus[c, opposite(edge, bus)]\n",
    "                            - sum(v_bus[conf] for conf ∈ bus_to_conf_ids[opposite(edge, bus)]))\n",
    "        \n",
    "        @constraint(model, cn1_Ψ[c, bus, edge] ≤ cn1_χ[c, bus, edge])\n",
    "        @constraint(model, cn1_Ψ[c, bus, edge] ≤ 1 - c_w[c, edge])\n",
    "        @constraint(model, cn1_Ψ[c, bus, edge] ≥ cn1_χ[c, bus, edge] - c_w[c, edge])\n",
    "    end\n",
    "\n",
    "\n",
    "    # @constraint(model, [c ∈ cases, \n",
    "    #                     bus ∈ buses,\n",
    "    #                     conf ∈ bus_to_conf_ids[bus], \n",
    "    #                     edge ∈ bus_confs[conf].subBuses[1].branch_ids],\n",
    "    #             cn1_hat_Ψ[c, conf] ≥ cn1_Ψ[c, bus , edge])\n",
    "    # @constraint(model, [c ∈ cases, \n",
    "    #                     bus ∈ buses,\n",
    "    #                     conf ∈ bus_to_conf_ids[bus]],\n",
    "    #     cn1_hat_Ψ[c, conf] ≤\n",
    "    #         sum(cn1_Ψ[c, bus , edge] for edge ∈ bus_confs[conf].subBuses[1].branch_ids)) \n",
    "\n",
    "    # @constraint(model, [c ∈ cases, conf ∈ bus_confs_ids],\n",
    "    #     cn1_hatπbus[c, conf] ≤ v_bus[conf])\n",
    "    # @constraint(model, [c ∈ cases, conf ∈ bus_confs_ids],\n",
    "    #     cn1_hatπbus[c, conf] ≤ cn1_hat_Ψ[c, conf])\n",
    "    # @constraint(model, [c ∈ cases, conf ∈ bus_confs_ids],\n",
    "    #     cn1_hatπbus[c, conf] ≥ v_bus[conf] + cn1_hat_Ψ[c, conf] - 1)\n",
    "\n",
    "    @constraint(model, [c ∈ cases, bus ∈ buses, edge ∈ incident(bus)],\n",
    "        cn1_πbus[c, bus] ≥ cn1_Ψ[c, bus, edge])\n",
    "    # @constraint(model, [c ∈ cases, bus ∈ buses],\n",
    "    #     cn1_πbus[c, bus] ≤ sum(cn1_Ψ[c, bus, edge] for edge in incident(bus)))\n",
    "\n",
    "    # @constraint(model, cn1_a[:] .+ cn1_b[:] .== 1)\n",
    "\n",
    "    # @constraint(model,[c ∈ cases],   sum(cn1_χ[c, term, outages[c]] for term in terminal(outages[c])) - 1  ≤ 1 - cn1_b[c])\n",
    "    # @constraint(model,[c ∈ cases], -(sum(cn1_χ[c, term, outages[c]] for term in terminal(outages[c])) - 1) ≤ 1 - cn1_b[c])\n",
    "\n",
    "    # n_1_sum_us = @expression(model, nv(g) - 1 + sum(v_bus[conf] for conf in bus_confs_ids))\n",
    "    # @constraint(model, [cases], cn1_p_orig[:] .- n_1_sum_us .≤ bigM_nb_v .* (1 .- cn1_a[:]))\n",
    "    # @constraint(model, [cases], cn1_p_orig[:] .- n_1_sum_us .≥ -bigM_nb_v .* (1 .- cn1_a[:]))\n",
    "\n",
    "    @constraint(model, [c in cases, e in edges],  cn1_flows[c, e] ≤ bigM_nb_v * (1 - c_w[c, e]))\n",
    "    @constraint(model, [c in cases, e in edges], -cn1_flows[c, e] ≤ bigM_nb_v * (1 - c_w[c, e]))\n",
    "\n",
    "    # @constraint(model, [c ∈ cases, bus_confs_ids], cn1_hatπbus[c,:] .≤ v_bus[:])\n",
    "\n",
    "    for (bc_id, bus, sb) in ((bc_id, bc.bus, sb) for (bc_id, bc) in enumerate(bus_confs) for sb in bc.subBuses)\n",
    "        @constraint(model, [c in cases],\n",
    "            sum(cn1_flows[c, edge] * A[edge, bus] for edge in sb.branch_ids) - cn1_hatπbus[c, bc_id]  ≤   (1 - v_bus[bc_id]) * bigM_nb_v)\n",
    "        @constraint(model, [c in cases],\n",
    "            sum(cn1_flows[c, edge] * A[edge, bus] for edge in sb.branch_ids) - cn1_hatπbus[c, bc_id]  ≥ - (1 - v_bus[bc_id]) * bigM_nb_v)\n",
    "    end\n",
    "\n",
    "    @constraint(model, [c ∈ cases, bus ∈ buses_wo_O],\n",
    "        sum(cn1_hatπbus[c, bc_id] for bc_id in bus_to_conf_ids[bus]) + cn1_πbus[c, bus] - sum(A[edge, bus] * cn1_flows[c, edge] for edge in incident(bus)) == 0)\n",
    "\n",
    "    @constraint(model, [c in cases], cn1_πbus[c, bus_origin] == 1)\n",
    "\n",
    "    # @constraint(model, [c in cases],\n",
    "    #     cn1_p_orig[c] + sum(A[edge, bus_origin] * cn1_flows[c, edge] for edge in incident(bus_origin)) == 0)\n",
    "end"
   ]
  },
  {
   "cell_type": "code",
   "execution_count": 37,
   "metadata": {},
   "outputs": [
    {
     "name": "stdout",
     "output_type": "stream",
     "text": [
      "Set parameter Username\n",
      "Academic license - for non-commercial use only - expires 2024-11-27\n",
      "Set parameter DualReductions to value 0\n",
      "Set parameter LogFile to value \"my_log_file.txt\"\n",
      "Set parameter DualReductions to value 0\n",
      "Set parameter LogFile to value \"my_log_file.txt\"\n",
      "Gurobi Optimizer version 11.0.0 build v11.0.0rc2 (mac64[arm] - Darwin 23.1.0 23B81)\n",
      "\n",
      "CPU model: Apple M1\n",
      "Thread count: 8 physical cores, 8 logical processors, using up to 8 threads\n",
      "\n",
      "Optimize a model with 102 rows, 50 columns and 214 nonzeros\n",
      "Model fingerprint: 0xcf35d18e\n",
      "Variable types: 11 continuous, 39 integer (39 binary)\n",
      "Coefficient statistics:\n",
      "  Matrix range     [1e+00, 1e+02]\n",
      "  Objective range  [0e+00, 0e+00]\n",
      "  Bounds range     [0e+00, 0e+00]\n",
      "  RHS range        [1e+00, 1e+02]\n",
      "Presolve removed 95 rows and 40 columns\n",
      "Presolve time: 0.00s\n",
      "\n",
      "Explored 0 nodes (0 simplex iterations) in 0.00 seconds (0.00 work units)\n",
      "Thread count was 1 (of 8 available processors)\n",
      "\n",
      "Solution count 0\n",
      "\n",
      "Model is infeasible\n",
      "Best objective -, best bound -, gap -\n",
      "\n",
      "User-callback calls 122, time in user-callback 0.00 sec\n"
     ]
    }
   ],
   "source": [
    "g, bus_confs, contingencies, coord = create_mini_case(false)\n",
    "trip = 2\n",
    "model = init_model(g, trip:trip, true, 0., true, bus_confs, true)\n",
    "big_M = 5\n",
    "outages = model.ext[:outages]\n",
    "is_outage = model.ext[:is_outage]\n",
    "\n",
    "cases = 1:1\n",
    "new_edges = 1:ne(g)\n",
    "@variable(model, c_w[cases, new_edges])\n",
    "@constraint(model, c_w[1,trip] == 1)\n",
    "@constraint(model, [e in (e for e in 1:ne(g) if e≠trip)], c_w[1,e] == 0)\n",
    "# @constraint(model, [c in cases, e in new_edges], c_w[c, e] ≥ is_outage(c,e))\n",
    "# @constraint(model, [c in cases, e in new_edges], c_w[c, e] ≥ v_branch[e])\n",
    "# @constraint(model, [c in cases, e in new_edges], c_w[c, e] ≤ is_outage(c,e) + v_branch[e])\n",
    "\n",
    "@variable(model, v_bus[1:length(bus_confs)], Bin)\n",
    "@constraint(model, v_bus[1] == 1)\n",
    "\n",
    "N_1_connectednes_bussplit_def!(model, 1)\n",
    "\n",
    "# @constraint(model, [bus in 1:nv(g)], model[:cn1_πbus][1,bus] == 1)\n",
    "# @constraint(model, [cases], model[:cn1_a][:] .== 1)\n",
    "\n",
    "optimize!(model)\n",
    "\n",
    "# filter_latex_formulation(model, \"\")\n",
    "# h = add_subBus(g, bus_confs)\n",
    "# draw(dc_flow(h), layout = coord);"
   ]
  },
  {
   "cell_type": "code",
   "execution_count": 38,
   "metadata": {},
   "outputs": [
    {
     "data": {
      "text/latex": [
       "$$ \\begin{aligned}\n",
       "\\text{feasibility}\\\\\n",
       "\\text{Subject to} \\quad & c\\_w_{1,2} = 1\\\\\n",
       " & c\\_w_{1,1} = 0\\\\\n",
       " & c\\_w_{1,3} = 0\\\\\n",
       " & c\\_w_{1,4} = 0\\\\\n",
       " & c\\_w_{1,5} = 0\\\\\n",
       " & v\\_bus_{1} = 1\\\\\n",
       " & -cn1\\_hatπbus_{1,1} + cn1\\_χ_{1,1,1} - cn1\\_χ\\_circ_{1,1,1} = 0\\\\\n",
       " & cn1\\_χ_{1,1,2} - cn1\\_χ\\_circ_{1,1,2} = 0\\\\\n",
       " & cn1\\_χ_{1,2,1} - cn1\\_χ\\_circ_{1,2,1} = 0\\\\\n",
       " & cn1\\_χ_{1,2,3} - cn1\\_χ\\_circ_{1,2,3} = 0\\\\\n",
       " & cn1\\_χ_{1,2,4} - cn1\\_χ\\_circ_{1,2,4} = 0\\\\\n",
       " & -cn1\\_hatπbus_{1,1} + cn1\\_χ_{1,3,3} - cn1\\_χ\\_circ_{1,3,3} = 0\\\\\n",
       " & cn1\\_χ_{1,3,5} - cn1\\_χ\\_circ_{1,3,5} = 0\\\\\n",
       " & cn1\\_χ_{1,4,2} - cn1\\_χ\\_circ_{1,4,2} = 0\\\\\n",
       " & -cn1\\_hatπbus_{1,1} + cn1\\_χ_{1,4,4} - cn1\\_χ\\_circ_{1,4,4} = 0\\\\\n",
       " & cn1\\_χ_{1,4,5} - cn1\\_χ\\_circ_{1,4,5} = 0\\\\\n",
       " & -cn1\\_flows_{1,1} + cn1\\_flows_{1,3} + cn1\\_flows_{1,4} + cn1\\_πbus_{1,2} + cn1\\_hatπbus_{1,1} = 0\\\\\n",
       " & -cn1\\_flows_{1,3} + cn1\\_flows_{1,5} + cn1\\_πbus_{1,3} = 0\\\\\n",
       " & -cn1\\_flows_{1,2} - cn1\\_flows_{1,4} - cn1\\_flows_{1,5} + cn1\\_πbus_{1,4} = 0\\\\\n",
       " & cn1\\_πbus_{1,1} = 1\\\\\n",
       " & v\\_bus_{1} - cn1\\_πbus_{1,2} + cn1\\_χ\\_circ_{1,1,1} \\geq 0\\\\\n",
       " & c\\_w_{1,1} - cn1\\_χ_{1,1,1} + cn1\\_Ψ_{1,1,1} \\geq 0\\\\\n",
       " & -cn1\\_πbus_{1,4} + cn1\\_χ\\_circ_{1,1,2} \\geq 0\\\\\n",
       " & c\\_w_{1,2} - cn1\\_χ_{1,1,2} + cn1\\_Ψ_{1,1,2} \\geq 0\\\\\n",
       " & -cn1\\_πbus_{1,1} + cn1\\_χ\\_circ_{1,2,1} \\geq 0\\\\\n",
       " & c\\_w_{1,1} - cn1\\_χ_{1,2,1} + cn1\\_Ψ_{1,2,1} \\geq 0\\\\\n",
       " & -cn1\\_πbus_{1,3} + cn1\\_χ\\_circ_{1,2,3} \\geq 0\\\\\n",
       " & c\\_w_{1,3} - cn1\\_χ_{1,2,3} + cn1\\_Ψ_{1,2,3} \\geq 0\\\\\n",
       " & -cn1\\_πbus_{1,4} + cn1\\_χ\\_circ_{1,2,4} \\geq 0\\\\\n",
       " & c\\_w_{1,4} - cn1\\_χ_{1,2,4} + cn1\\_Ψ_{1,2,4} \\geq 0\\\\\n",
       " & v\\_bus_{1} - cn1\\_πbus_{1,2} + cn1\\_χ\\_circ_{1,3,3} \\geq 0\\\\\n",
       " & c\\_w_{1,3} - cn1\\_χ_{1,3,3} + cn1\\_Ψ_{1,3,3} \\geq 0\\\\\n",
       " & -cn1\\_πbus_{1,4} + cn1\\_χ\\_circ_{1,3,5} \\geq 0\\\\\n",
       " & c\\_w_{1,5} - cn1\\_χ_{1,3,5} + cn1\\_Ψ_{1,3,5} \\geq 0\\\\\n",
       " & -cn1\\_πbus_{1,1} + cn1\\_χ\\_circ_{1,4,2} \\geq 0\\\\\n",
       " & c\\_w_{1,2} - cn1\\_χ_{1,4,2} + cn1\\_Ψ_{1,4,2} \\geq 0\\\\\n",
       " & v\\_bus_{1} - cn1\\_πbus_{1,2} + cn1\\_χ\\_circ_{1,4,4} \\geq 0\\\\\n",
       " & c\\_w_{1,4} - cn1\\_χ_{1,4,4} + cn1\\_Ψ_{1,4,4} \\geq 0\\\\\n",
       " & -cn1\\_πbus_{1,3} + cn1\\_χ\\_circ_{1,4,5} \\geq 0\\\\\n",
       " & c\\_w_{1,5} - cn1\\_χ_{1,4,5} + cn1\\_Ψ_{1,4,5} \\geq 0\\\\\n",
       " & cn1\\_πbus_{1,1} - cn1\\_Ψ_{1,1,1} \\geq 0\\\\\n",
       " & cn1\\_πbus_{1,1} - cn1\\_Ψ_{1,1,2} \\geq 0\\\\\n",
       " & cn1\\_πbus_{1,2} - cn1\\_Ψ_{1,2,1} \\geq 0\\\\\n",
       " & cn1\\_πbus_{1,2} - cn1\\_Ψ_{1,2,3} \\geq 0\\\\\n",
       " & cn1\\_πbus_{1,2} - cn1\\_Ψ_{1,2,4} \\geq 0\\\\\n",
       " & cn1\\_πbus_{1,3} - cn1\\_Ψ_{1,3,3} \\geq 0\\\\\n",
       " & cn1\\_πbus_{1,3} - cn1\\_Ψ_{1,3,5} \\geq 0\\\\\n",
       " & cn1\\_πbus_{1,4} - cn1\\_Ψ_{1,4,2} \\geq 0\\\\\n",
       " & cn1\\_πbus_{1,4} - cn1\\_Ψ_{1,4,4} \\geq 0\\\\\n",
       " & cn1\\_πbus_{1,4} - cn1\\_Ψ_{1,4,5} \\geq 0\\\\\n",
       " & -100 v\\_bus_{1} + cn1\\_flows_{1,1} - cn1\\_hatπbus_{1,1} \\geq -100\\\\\n",
       " & -cn1\\_πbus_{1,2} + cn1\\_χ\\_circ_{1,1,1} \\leq 0\\\\\n",
       " & v\\_bus_{1} + cn1\\_χ\\_circ_{1,1,1} \\leq 1\\\\\n",
       " & -cn1\\_χ_{1,1,1} + cn1\\_Ψ_{1,1,1} \\leq 0\\\\\n",
       " & c\\_w_{1,1} + cn1\\_Ψ_{1,1,1} \\leq 1\\\\\n",
       " & -cn1\\_πbus_{1,4} + cn1\\_χ\\_circ_{1,1,2} \\leq 0\\\\\n",
       " & cn1\\_χ\\_circ_{1,1,2} \\leq 1\\\\\n",
       " & -cn1\\_χ_{1,1,2} + cn1\\_Ψ_{1,1,2} \\leq 0\\\\\n",
       " & c\\_w_{1,2} + cn1\\_Ψ_{1,1,2} \\leq 1\\\\\n",
       " & -cn1\\_πbus_{1,1} + cn1\\_χ\\_circ_{1,2,1} \\leq 0\\\\\n",
       " & cn1\\_χ\\_circ_{1,2,1} \\leq 1\\\\\n",
       " & -cn1\\_χ_{1,2,1} + cn1\\_Ψ_{1,2,1} \\leq 0\\\\\n",
       " & c\\_w_{1,1} + cn1\\_Ψ_{1,2,1} \\leq 1\\\\\n",
       " & -cn1\\_πbus_{1,3} + cn1\\_χ\\_circ_{1,2,3} \\leq 0\\\\\n",
       " & cn1\\_χ\\_circ_{1,2,3} \\leq 1\\\\\n",
       " & -cn1\\_χ_{1,2,3} + cn1\\_Ψ_{1,2,3} \\leq 0\\\\\n",
       " & c\\_w_{1,3} + cn1\\_Ψ_{1,2,3} \\leq 1\\\\\n",
       " & -cn1\\_πbus_{1,4} + cn1\\_χ\\_circ_{1,2,4} \\leq 0\\\\\n",
       " & cn1\\_χ\\_circ_{1,2,4} \\leq 1\\\\\n",
       " & -cn1\\_χ_{1,2,4} + cn1\\_Ψ_{1,2,4} \\leq 0\\\\\n",
       " & c\\_w_{1,4} + cn1\\_Ψ_{1,2,4} \\leq 1\\\\\n",
       " & -cn1\\_πbus_{1,2} + cn1\\_χ\\_circ_{1,3,3} \\leq 0\\\\\n",
       " & v\\_bus_{1} + cn1\\_χ\\_circ_{1,3,3} \\leq 1\\\\\n",
       " & -cn1\\_χ_{1,3,3} + cn1\\_Ψ_{1,3,3} \\leq 0\\\\\n",
       " & c\\_w_{1,3} + cn1\\_Ψ_{1,3,3} \\leq 1\\\\\n",
       " & -cn1\\_πbus_{1,4} + cn1\\_χ\\_circ_{1,3,5} \\leq 0\\\\\n",
       " & cn1\\_χ\\_circ_{1,3,5} \\leq 1\\\\\n",
       " & -cn1\\_χ_{1,3,5} + cn1\\_Ψ_{1,3,5} \\leq 0\\\\\n",
       " & c\\_w_{1,5} + cn1\\_Ψ_{1,3,5} \\leq 1\\\\\n",
       " & -cn1\\_πbus_{1,1} + cn1\\_χ\\_circ_{1,4,2} \\leq 0\\\\\n",
       " & cn1\\_χ\\_circ_{1,4,2} \\leq 1\\\\\n",
       " & -cn1\\_χ_{1,4,2} + cn1\\_Ψ_{1,4,2} \\leq 0\\\\\n",
       " & c\\_w_{1,2} + cn1\\_Ψ_{1,4,2} \\leq 1\\\\\n",
       " & -cn1\\_πbus_{1,2} + cn1\\_χ\\_circ_{1,4,4} \\leq 0\\\\\n",
       " & v\\_bus_{1} + cn1\\_χ\\_circ_{1,4,4} \\leq 1\\\\\n",
       " & -cn1\\_χ_{1,4,4} + cn1\\_Ψ_{1,4,4} \\leq 0\\\\\n",
       " & c\\_w_{1,4} + cn1\\_Ψ_{1,4,4} \\leq 1\\\\\n",
       " & -cn1\\_πbus_{1,3} + cn1\\_χ\\_circ_{1,4,5} \\leq 0\\\\\n",
       " & cn1\\_χ\\_circ_{1,4,5} \\leq 1\\\\\n",
       " & -cn1\\_χ_{1,4,5} + cn1\\_Ψ_{1,4,5} \\leq 0\\\\\n",
       " & c\\_w_{1,5} + cn1\\_Ψ_{1,4,5} \\leq 1\\\\\n",
       " & 100 c\\_w_{1,1} + cn1\\_flows_{1,1} \\leq 100\\\\\n",
       " & 100 c\\_w_{1,2} + cn1\\_flows_{1,2} \\leq 100\\\\\n",
       " & 100 c\\_w_{1,3} + cn1\\_flows_{1,3} \\leq 100\\\\\n",
       " & 100 c\\_w_{1,4} + cn1\\_flows_{1,4} \\leq 100\\\\\n",
       " & 100 c\\_w_{1,5} + cn1\\_flows_{1,5} \\leq 100\\\\\n",
       " & 100 c\\_w_{1,1} - cn1\\_flows_{1,1} \\leq 100\\\\\n",
       " & 100 c\\_w_{1,2} - cn1\\_flows_{1,2} \\leq 100\\\\\n",
       " & 100 c\\_w_{1,3} - cn1\\_flows_{1,3} \\leq 100\\\\\n",
       " & 100 c\\_w_{1,4} - cn1\\_flows_{1,4} \\leq 100\\\\\n",
       " & 100 c\\_w_{1,5} - cn1\\_flows_{1,5} \\leq 100\\\\\n",
       " & 100 v\\_bus_{1} + cn1\\_flows_{1,1} - cn1\\_hatπbus_{1,1} \\leq 100\\\\\n",
       " & v\\_bus_{1} \\in \\{0, 1\\}\\\\\n",
       " & cn1\\_a_{1} \\in \\{0, 1\\}\\\\\n",
       " & cn1\\_b_{1} \\in \\{0, 1\\}\\\\\n",
       " & cn1\\_πbus_{1,1} \\in \\{0, 1\\}\\\\\n",
       " & cn1\\_πbus_{1,2} \\in \\{0, 1\\}\\\\\n",
       " & cn1\\_πbus_{1,3} \\in \\{0, 1\\}\\\\\n",
       " & cn1\\_πbus_{1,4} \\in \\{0, 1\\}\\\\\n",
       " & cn1\\_hatπbus_{1,1} \\in \\{0, 1\\}\\\\\n",
       " & cn1\\_χ_{1,1,1} \\in \\{0, 1\\}\\\\\n",
       " & cn1\\_χ_{1,1,2} \\in \\{0, 1\\}\\\\\n",
       " & cn1\\_χ_{1,2,1} \\in \\{0, 1\\}\\\\\n",
       " & cn1\\_χ_{1,2,3} \\in \\{0, 1\\}\\\\\n",
       " & cn1\\_χ_{1,2,4} \\in \\{0, 1\\}\\\\\n",
       " & cn1\\_χ_{1,3,3} \\in \\{0, 1\\}\\\\\n",
       " & cn1\\_χ_{1,3,5} \\in \\{0, 1\\}\\\\\n",
       " & cn1\\_χ_{1,4,2} \\in \\{0, 1\\}\\\\\n",
       " & cn1\\_χ_{1,4,4} \\in \\{0, 1\\}\\\\\n",
       " & cn1\\_χ_{1,4,5} \\in \\{0, 1\\}\\\\\n",
       " & cn1\\_χ\\_circ_{1,1,1} \\in \\{0, 1\\}\\\\\n",
       " & cn1\\_χ\\_circ_{1,1,2} \\in \\{0, 1\\}\\\\\n",
       " & cn1\\_χ\\_circ_{1,2,1} \\in \\{0, 1\\}\\\\\n",
       " & cn1\\_χ\\_circ_{1,2,3} \\in \\{0, 1\\}\\\\\n",
       " & cn1\\_χ\\_circ_{1,2,4} \\in \\{0, 1\\}\\\\\n",
       " & cn1\\_χ\\_circ_{1,3,3} \\in \\{0, 1\\}\\\\\n",
       " & cn1\\_χ\\_circ_{1,3,5} \\in \\{0, 1\\}\\\\\n",
       " & cn1\\_χ\\_circ_{1,4,2} \\in \\{0, 1\\}\\\\\n",
       " & cn1\\_χ\\_circ_{1,4,4} \\in \\{0, 1\\}\\\\\n",
       " & cn1\\_χ\\_circ_{1,4,5} \\in \\{0, 1\\}\\\\\n",
       " & cn1\\_Ψ_{1,1,1} \\in \\{0, 1\\}\\\\\n",
       " & cn1\\_Ψ_{1,1,2} \\in \\{0, 1\\}\\\\\n",
       " & cn1\\_Ψ_{1,2,1} \\in \\{0, 1\\}\\\\\n",
       " & cn1\\_Ψ_{1,2,3} \\in \\{0, 1\\}\\\\\n",
       " & cn1\\_Ψ_{1,2,4} \\in \\{0, 1\\}\\\\\n",
       " & cn1\\_Ψ_{1,3,3} \\in \\{0, 1\\}\\\\\n",
       " & cn1\\_Ψ_{1,3,5} \\in \\{0, 1\\}\\\\\n",
       " & cn1\\_Ψ_{1,4,2} \\in \\{0, 1\\}\\\\\n",
       " & cn1\\_Ψ_{1,4,4} \\in \\{0, 1\\}\\\\\n",
       " & cn1\\_Ψ_{1,4,5} \\in \\{0, 1\\}\\\\\n",
       " & cn1\\_hat\\_Ψ_{1,1} \\in \\{0, 1\\}\\\\\n",
       "\\end{aligned} $$"
      ],
      "text/plain": [
       "\"\\$\\$ \\\\begin{aligned}\\n\\\\text{feasibility}\\\\\\\\\\n\\\\text{Subject to} \\\\quad & c\\\\_w_{1,2} = 1\\\\\\\\\\n & c\\\\_w_{1,1} = 0\\\\\\\\\\n & c\\\\_w_{1,3} = 0\\\\\\\\\\n & c\\\\_w_{1,4} = 0\\\\\\\\\\n & c\\\\_w_{1,5} = 0\\\\\\\\\\n & v\\\\_bus_{1} = 1\\\\\\\\\\n & -cn1\\\\_hatπbus_{1,1} + cn1\\\\_χ_{1,1,1} - cn1\\\\_χ\\\\_circ_{1,1,1} = 0\\\\\\\\\\n & cn1\\\\_χ_{1,1,2} \"\u001b[93m\u001b[1m ⋯ 5927 bytes ⋯ \u001b[22m\u001b[39m\"2,3} \\\\in \\\\{0, 1\\\\}\\\\\\\\\\n & cn1\\\\_Ψ_{1,2,4} \\\\in \\\\{0, 1\\\\}\\\\\\\\\\n & cn1\\\\_Ψ_{1,3,3} \\\\in \\\\{0, 1\\\\}\\\\\\\\\\n & cn1\\\\_Ψ_{1,3,5} \\\\in \\\\{0, 1\\\\}\\\\\\\\\\n & cn1\\\\_Ψ_{1,4,2} \\\\in \\\\{0, 1\\\\}\\\\\\\\\\n & cn1\\\\_Ψ_{1,4,4} \\\\in \\\\{0, 1\\\\}\\\\\\\\\\n & cn1\\\\_Ψ_{1,4,5} \\\\in \\\\{0, 1\\\\}\\\\\\\\\\n & cn1\\\\_hat\\\\_Ψ_{1,1} \\\\in \\\\{0, 1\\\\}\\\\\\\\\\n\\\\end{aligned} \\$\\$\""
      ]
     },
     "metadata": {},
     "output_type": "display_data"
    }
   ],
   "source": [
    "filter_latex_formulation(model, \"\")"
   ]
  },
  {
   "cell_type": "code",
   "execution_count": 461,
   "metadata": {},
   "outputs": [
    {
     "data": {
      "text/latex": [
       "\\begin{aligned}  & -cn1\\_flows_{1,1} + cn1\\_flows_{1,3} + cn1\\_flows_{1,4} + cn1\\_πbus_{1,2} + cn1\\_hatπbus_{1,1} = 0\\\\\n",
       " & -cn1\\_flows_{1,1} - cn1\\_flows_{1,2} + cn1\\_p\\_orig_{1} = 0\\\\\n",
       " & 100 c\\_w_{1,1} + cn1\\_flows_{1,1} \\leq 100\\\\\n",
       " & 100 c\\_w_{1,1} - cn1\\_flows_{1,1} \\leq 100\\\\ \\end{aligned}"
      ],
      "text/plain": [
       "L\"\\begin{aligned}  & -cn1\\_flows_{1,1} + cn1\\_flows_{1,3} + cn1\\_flows_{1,4} + cn1\\_πbus_{1,2} + cn1\\_hatπbus_{1,1} = 0\\\\\n",
       " & -cn1\\_flows_{1,1} - cn1\\_flows_{1,2} + cn1\\_p\\_orig_{1} = 0\\\\\n",
       " & 100 c\\_w_{1,1} + cn1\\_flows_{1,1} \\leq 100\\\\\n",
       " & 100 c\\_w_{1,1} - cn1\\_flows_{1,1} \\leq 100\\\\ \\end{aligned}\""
      ]
     },
     "metadata": {},
     "output_type": "display_data"
    }
   ],
   "source": [
    "filter_latex_formulation(model, \"cn1\\\\_flows_{1,1}\")"
   ]
  },
  {
   "cell_type": "code",
   "execution_count": 460,
   "metadata": {},
   "outputs": [
    {
     "name": "stdout",
     "output_type": "stream",
     "text": [
      "c_w[1,1]: 0.0\n",
      "c_w[1,2]: 1.0\n",
      "c_w[1,3]: 0.0\n",
      "c_w[1,4]: 0.0\n",
      "c_w[1,5]: 0.0\n",
      "v_bus[1]: 1.0\n",
      "cn1_a[1]: 0.0\n",
      "cn1_b[1]: 0.0\n",
      "cn1_flows[1,1]: 4.0\n",
      "cn1_flows[1,2]: 0.0\n",
      "cn1_flows[1,3]: 2.0\n",
      "cn1_flows[1,4]: 0.0\n",
      "cn1_flows[1,5]: 1.0\n",
      "cn1_p_orig[1]: 4.0\n",
      "cn1_πbus[1,1]: 1.0\n",
      "cn1_πbus[1,2]: 1.0\n",
      "cn1_πbus[1,3]: 1.0\n",
      "cn1_πbus[1,4]: 1.0\n",
      "cn1_hatπbus[1,1]: 1.0\n",
      "cn1_χ[1,1,1]: 1.0\n",
      "cn1_χ[1,1,2]: 1.0\n",
      "cn1_χ[1,2,1]: 1.0\n",
      "cn1_χ[1,2,3]: 1.0\n",
      "cn1_χ[1,2,4]: 1.0\n",
      "cn1_χ[1,3,3]: 1.0\n",
      "cn1_χ[1,3,5]: 1.0\n",
      "cn1_χ[1,4,2]: 1.0\n",
      "cn1_χ[1,4,4]: 1.0\n",
      "cn1_χ[1,4,5]: 1.0\n",
      "cn1_χ_circ[1,1,1]: 0.0\n",
      "cn1_χ_circ[1,1,2]: 1.0\n",
      "cn1_χ_circ[1,2,1]: 1.0\n",
      "cn1_χ_circ[1,2,3]: 1.0\n",
      "cn1_χ_circ[1,2,4]: 1.0\n",
      "cn1_χ_circ[1,3,3]: 0.0\n",
      "cn1_χ_circ[1,3,5]: 1.0\n",
      "cn1_χ_circ[1,4,2]: 1.0\n",
      "cn1_χ_circ[1,4,4]: 0.0\n",
      "cn1_χ_circ[1,4,5]: 1.0\n",
      "cn1_Ψ[1,1,1]: 1.0\n",
      "cn1_Ψ[1,1,2]: 0.0\n",
      "cn1_Ψ[1,2,1]: 1.0\n",
      "cn1_Ψ[1,2,3]: 1.0\n",
      "cn1_Ψ[1,2,4]: 1.0\n",
      "cn1_Ψ[1,3,3]: 1.0\n",
      "cn1_Ψ[1,3,5]: 1.0\n",
      "cn1_Ψ[1,4,2]: 0.0\n",
      "cn1_Ψ[1,4,4]: 1.0\n",
      "cn1_Ψ[1,4,5]: 1.0\n",
      "cn1_hat_Ψ[1,1]: 1.0\n"
     ]
    }
   ],
   "source": [
    "foreach(k->println(\"$k: $(value(k))\"), all_variables(model))"
   ]
  },
  {
   "cell_type": "markdown",
   "metadata": {},
   "source": [
    "## Balance"
   ]
  },
  {
   "cell_type": "code",
   "execution_count": 28,
   "metadata": {},
   "outputs": [
    {
     "data": {
      "text/plain": [
       "balance_def! (generic function with 1 method)"
      ]
     },
     "metadata": {},
     "output_type": "display_data"
    }
   ],
   "source": [
    "function balance_def!(model)\n",
    "    g, nb_cases, p = (model.ext[k] for k in [:g, :nb_cases, :p])\n",
    "    bigM=10 # TODO: to define\n",
    "\n",
    "    @variable(model, σ[1:nb_cases - 1])\n",
    "    @variable(model, gen[1:nb_cases, 1:nv(g)])\n",
    "    @variable(model, scaledgen[1:nb_cases-1, 1:nv(g)])\n",
    "    @variable(model, load[1:nb_cases, 1:nv(g)])\n",
    "    \n",
    "    # Base case\n",
    "    for bus=1:nv(g)\n",
    "        if p[bus] < 0\n",
    "            @constraint(model, load[nb_cases, bus] == 0)\n",
    "            @constraint(model, gen[nb_cases, bus] == p[bus])\n",
    "        else\n",
    "            @constraint(model, gen[nb_cases, bus] == 0)\n",
    "            @constraint(model, load[nb_cases, bus] == p[bus])\n",
    "        end\n",
    "    end\n",
    "\n",
    "    # N-1 cases\n",
    "    if haskey(model,:πbus)\n",
    "        πbus = model[:πbus]\n",
    "        for c=1:nb_cases-1, bus=1:nv(g)\n",
    "            if p[bus] < 0\n",
    "                @constraint(model, load[c, bus] == 0)\n",
    "                @constraint(model, scaledgen[c, bus] == σ[c] * p[bus])\n",
    "                @constraint(model,    gen[c, bus] - scaledgen[c, bus]  ≤ bigM * (1 - πbus[c, bus]))\n",
    "                @constraint(model, - (gen[c, bus] - scaledgen[c, bus]) ≤ bigM * (1 - πbus[c, bus]))\n",
    "                @constraint(model,  gen[c, bus] ≤ bigM * πbus[c, bus])\n",
    "                @constraint(model, -gen[c, bus] ≤ bigM * πbus[c, bus])\n",
    "            else\n",
    "                @constraint(model, gen[c, bus] == 0)\n",
    "                @constraint(model, scaledgen[c, bus] == 0)\n",
    "                @constraint(model,   load[c, bus] - p[bus]  ≤ bigM * (1 - πbus[c, bus]))\n",
    "                @constraint(model, -(load[c, bus] - p[bus]) ≤ bigM * (1 - πbus[c, bus]))\n",
    "                @constraint(model,  load[c, bus] ≤ bigM * πbus[c, bus])\n",
    "                @constraint(model, -load[c, bus] ≤ bigM * πbus[c, bus])\n",
    "            end\n",
    "        end\n",
    "    end\n",
    " \n",
    "    @constraint(model, [c=1:nb_cases-1], sum(gen[c,:] .+ load[c,:]) == 0)\n",
    "end"
   ]
  },
  {
   "cell_type": "markdown",
   "metadata": {},
   "source": [
    "## DC_OTS"
   ]
  },
  {
   "cell_type": "code",
   "execution_count": 29,
   "metadata": {},
   "outputs": [
    {
     "data": {
      "text/plain": [
       "secured_dc_OTS (generic function with 1 method)"
      ]
     },
     "metadata": {},
     "output_type": "display_data"
    }
   ],
   "source": [
    "function secured_dc_OTS(g::MetaGraph;\n",
    "                                    contingencies::AbstractArray{Int} = Int[],\n",
    "                                    is_single_ρ::Bool=true,\n",
    "                                    ρ_min_bound::Float64 = 0.,\n",
    "                                    n_1_connectedness::Bool = true,\n",
    "                                    bus_confs::Vector{BusConf} = BusConf[],\n",
    "                                    allow_branch_openings::Bool = true)\n",
    "\n",
    "    model = init_model(g, contingencies, is_single_ρ, ρ_min_bound, n_1_connectedness, bus_confs, allow_branch_openings)\n",
    "\n",
    "    \n",
    "    if allow_branch_openings\n",
    "        @variable(model, v_branch[1:ne(g)], Bin)\n",
    "    end\n",
    "    \n",
    "    c_w_def!(model)\n",
    "    # N_1_connectednes_def!(model, 10)\n",
    "    # N_1_connectednes_def!(model, 1)\n",
    "    balance_def!(model)\n",
    "\n",
    "    big_M = 5\n",
    "    flows_def!(model, big_M)\n",
    "    # base_connectedness!(model)\n",
    "    base_connectedness_light!(model)\n",
    "    N_1_connectednes_bussplit_def!(model, 1)\n",
    "    \n",
    "    overload = overload_def!(model)\n",
    "    # @constraint(model, overload ≤ 0)\n",
    "    @objective(model, Min,\n",
    "                overload)\n",
    "                # + 0.1  * (allow_branch_openings ? sum(model[:v_branch]) : 0)) \n",
    "                # + 0.01 * (!isempty(bus_confs)   ? sum(model[:v_bus])    : 0) )\n",
    "    model\n",
    "end"
   ]
  },
  {
   "cell_type": "markdown",
   "metadata": {},
   "source": [
    "# Experiments"
   ]
  },
  {
   "cell_type": "markdown",
   "metadata": {},
   "source": [
    "## Create cases"
   ]
  },
  {
   "cell_type": "code",
   "execution_count": 30,
   "metadata": {},
   "outputs": [
    {
     "data": {
      "text/plain": [
       "create_mini_case (generic function with 2 methods)"
      ]
     },
     "metadata": {},
     "output_type": "display_data"
    }
   ],
   "source": [
    "function create_mini_case(micro=false)\n",
    "    mini_conf = [BusConf(2, [SubBus(1, [1])])]\n",
    "    g = build_simple_grid(micro=micro)\n",
    "    # g[\"1\",\"4\"].p_max = 3\n",
    "    contingencies = []\n",
    "    g, mini_conf, contingencies, load_coord(joinpath(\"coord\", \"mini.csv\"))\n",
    "end"
   ]
  },
  {
   "cell_type": "code",
   "execution_count": 31,
   "metadata": {},
   "outputs": [
    {
     "data": {
      "text/plain": [
       "create_case (generic function with 2 methods)"
      ]
     },
     "metadata": {},
     "output_type": "display_data"
    }
   ],
   "source": [
    "loadcase(case) = System(joinpath(\"data\", \"$case.m\")), load_coord(joinpath(\"coord\", \"$case.csv\"))\n",
    "\n",
    "function create_case(sys=sys)\n",
    "    g = network2graph(sys)\n",
    "    balance!(g)\n",
    "    add_constraint(g, b->b.p_max=1)\n",
    "    bus_confs = [\n",
    "                    BusConf(6, [SubBus(-.17 , [7, 9])])]\n",
    "            # SubBus(0    , [9, 12]) ])]\n",
    "#     BusConf(2,\n",
    "#             [SubBus(0.076, [16, 1]),\n",
    "#              SubBus(0    , [13, 7]) ]),\n",
    "#                  ]\n",
    "    g, bus_confs, contingencies\n",
    "    # g, BusConf[], contingencies, coord_30\n",
    "    # g, BusConf[], contingencies, nothing\n",
    "end"
   ]
  },
  {
   "cell_type": "code",
   "execution_count": 32,
   "metadata": {},
   "outputs": [
    {
     "name": "stderr",
     "output_type": "stream",
     "text": [
      "┌ Info: this code only supports angmin values in -90 deg. to 90 deg., tightening the value on branch 4 from -360.0 to -60.0 deg.\n",
      "└ @ PowerSystems /Users/benoitjeanson/.julia/packages/PowerSystems/mjN6j/src/parsers/pm_io/data.jl:1055\n",
      "┌ Info: this code only supports angmax values in -90 deg. to 90 deg., tightening the value on branch 4 from 360.0 to 60.0 deg.\n",
      "└ @ PowerSystems /Users/benoitjeanson/.julia/packages/PowerSystems/mjN6j/src/parsers/pm_io/data.jl:1066\n",
      "┌ Info: this code only supports angmin values in -90 deg. to 90 deg., tightening the value on branch 1 from -360.0 to -60.0 deg.\n",
      "└ @ PowerSystems /Users/benoitjeanson/.julia/packages/PowerSystems/mjN6j/src/parsers/pm_io/data.jl:1055\n",
      "┌ Info: this code only supports angmax values in -90 deg. to 90 deg., tightening the value on branch 1 from 360.0 to 60.0 deg.\n",
      "└ @ PowerSystems /Users/benoitjeanson/.julia/packages/PowerSystems/mjN6j/src/parsers/pm_io/data.jl:1066\n",
      "┌ Info: this code only supports angmin values in -90 deg. to 90 deg., tightening the value on branch 12 from -360.0 to -60.0 deg.\n",
      "└ @ PowerSystems /Users/benoitjeanson/.julia/packages/PowerSystems/mjN6j/src/parsers/pm_io/data.jl:1055\n",
      "┌ Info: this code only supports angmax values in -90 deg. to 90 deg., tightening the value on branch 12 from 360.0 to 60.0 deg.\n",
      "└ @ PowerSystems /Users/benoitjeanson/.julia/packages/PowerSystems/mjN6j/src/parsers/pm_io/data.jl:1066\n",
      "┌ Info: this code only supports angmin values in -90 deg. to 90 deg., tightening the value on branch 20 from -360.0 to -60.0 deg.\n",
      "└ @ PowerSystems /Users/benoitjeanson/.julia/packages/PowerSystems/mjN6j/src/parsers/pm_io/data.jl:1055\n",
      "┌ Info: this code only supports angmax values in -90 deg. to 90 deg., tightening the value on branch 20 from 360.0 to 60.0 deg.\n",
      "└ @ PowerSystems /Users/benoitjeanson/.julia/packages/PowerSystems/mjN6j/src/parsers/pm_io/data.jl:1066\n",
      "┌ Info: this code only supports angmin values in -90 deg. to 90 deg., tightening the value on branch 2 from -360.0 to -60.0 deg.\n",
      "└ @ PowerSystems /Users/benoitjeanson/.julia/packages/PowerSystems/mjN6j/src/parsers/pm_io/data.jl:1055\n",
      "┌ Info: this code only supports angmax values in -90 deg. to 90 deg., tightening the value on branch 2 from 360.0 to 60.0 deg.\n",
      "└ @ PowerSystems /Users/benoitjeanson/.julia/packages/PowerSystems/mjN6j/src/parsers/pm_io/data.jl:1066\n",
      "┌ Info: this code only supports angmin values in -90 deg. to 90 deg., tightening the value on branch 6 from -360.0 to -60.0 deg.\n",
      "└ @ PowerSystems /Users/benoitjeanson/.julia/packages/PowerSystems/mjN6j/src/parsers/pm_io/data.jl:1055\n",
      "┌ Info: this code only supports angmax values in -90 deg. to 90 deg., tightening the value on branch 6 from 360.0 to 60.0 deg.\n",
      "└ @ PowerSystems /Users/benoitjeanson/.julia/packages/PowerSystems/mjN6j/src/parsers/pm_io/data.jl:1066\n",
      "┌ Info: this code only supports angmin values in -90 deg. to 90 deg., tightening the value on branch 11 from -360.0 to -60.0 deg.\n",
      "└ @ PowerSystems /Users/benoitjeanson/.julia/packages/PowerSystems/mjN6j/src/parsers/pm_io/data.jl:1055\n",
      "┌ Info: this code only supports angmax values in -90 deg. to 90 deg., tightening the value on branch 11 from 360.0 to 60.0 deg.\n",
      "└ @ PowerSystems /Users/benoitjeanson/.julia/packages/PowerSystems/mjN6j/src/parsers/pm_io/data.jl:1066\n",
      "┌ Info: this code only supports angmin values in -90 deg. to 90 deg., tightening the value on branch 13 from -360.0 to -60.0 deg.\n",
      "└ @ PowerSystems /Users/benoitjeanson/.julia/packages/PowerSystems/mjN6j/src/parsers/pm_io/data.jl:1055\n",
      "┌ Info: this code only supports angmax values in -90 deg. to 90 deg., tightening the value on branch 13 from 360.0 to 60.0 deg.\n",
      "└ @ PowerSystems /Users/benoitjeanson/.julia/packages/PowerSystems/mjN6j/src/parsers/pm_io/data.jl:1066\n",
      "┌ Info: this code only supports angmin values in -90 deg. to 90 deg., tightening the value on branch 5 from -360.0 to -60.0 deg.\n",
      "└ @ PowerSystems /Users/benoitjeanson/.julia/packages/PowerSystems/mjN6j/src/parsers/pm_io/data.jl:1055\n",
      "┌ Info: this code only supports angmax values in -90 deg. to 90 deg., tightening the value on branch 5 from 360.0 to 60.0 deg.\n",
      "└ @ PowerSystems /Users/benoitjeanson/.julia/packages/PowerSystems/mjN6j/src/parsers/pm_io/data.jl:1066\n",
      "┌ Info: this code only supports angmin values in -90 deg. to 90 deg., tightening the value on branch 15 from -360.0 to -60.0 deg.\n",
      "└ @ PowerSystems /Users/benoitjeanson/.julia/packages/PowerSystems/mjN6j/src/parsers/pm_io/data.jl:1055\n",
      "┌ Info: this code only supports angmax values in -90 deg. to 90 deg., tightening the value on branch 15 from 360.0 to 60.0 deg.\n",
      "└ @ PowerSystems /Users/benoitjeanson/.julia/packages/PowerSystems/mjN6j/src/parsers/pm_io/data.jl:1066\n",
      "┌ Info: this code only supports angmin values in -90 deg. to 90 deg., tightening the value on branch 16 from -360.0 to -60.0 deg.\n",
      "└ @ PowerSystems /Users/benoitjeanson/.julia/packages/PowerSystems/mjN6j/src/parsers/pm_io/data.jl:1055\n",
      "┌ Info: this code only supports angmax values in -90 deg. to 90 deg., tightening the value on branch 16 from 360.0 to 60.0 deg.\n",
      "└ @ PowerSystems /Users/benoitjeanson/.julia/packages/PowerSystems/mjN6j/src/parsers/pm_io/data.jl:1066\n",
      "┌ Info: this code only supports angmin values in -90 deg. to 90 deg., tightening the value on branch 14 from -360.0 to -60.0 deg.\n",
      "└ @ PowerSystems /Users/benoitjeanson/.julia/packages/PowerSystems/mjN6j/src/parsers/pm_io/data.jl:1055\n",
      "┌ Info: this code only supports angmax values in -90 deg. to 90 deg., tightening the value on branch 14 from 360.0 to 60.0 deg.\n",
      "└ @ PowerSystems /Users/benoitjeanson/.julia/packages/PowerSystems/mjN6j/src/parsers/pm_io/data.jl:1066\n",
      "┌ Info: this code only supports angmin values in -90 deg. to 90 deg., tightening the value on branch 7 from -360.0 to -60.0 deg.\n",
      "└ @ PowerSystems /Users/benoitjeanson/.julia/packages/PowerSystems/mjN6j/src/parsers/pm_io/data.jl:1055\n",
      "┌ Info: this code only supports angmax values in -90 deg. to 90 deg., tightening the value on branch 7 from 360.0 to 60.0 deg.\n",
      "└ @ PowerSystems /Users/benoitjeanson/.julia/packages/PowerSystems/mjN6j/src/parsers/pm_io/data.jl:1066\n",
      "┌ Info: this code only supports angmin values in -90 deg. to 90 deg., tightening the value on branch 8 from -360.0 to -60.0 deg.\n",
      "└ @ PowerSystems /Users/benoitjeanson/.julia/packages/PowerSystems/mjN6j/src/parsers/pm_io/data.jl:1055\n",
      "┌ Info: this code only supports angmax values in -90 deg. to 90 deg., tightening the value on branch 8 from 360.0 to 60.0 deg.\n",
      "└ @ PowerSystems /Users/benoitjeanson/.julia/packages/PowerSystems/mjN6j/src/parsers/pm_io/data.jl:1066\n",
      "┌ Info: this code only supports angmin values in -90 deg. to 90 deg., tightening the value on branch 17 from -360.0 to -60.0 deg.\n",
      "└ @ PowerSystems /Users/benoitjeanson/.julia/packages/PowerSystems/mjN6j/src/parsers/pm_io/data.jl:1055\n",
      "┌ Info: this code only supports angmax values in -90 deg. to 90 deg., tightening the value on branch 17 from 360.0 to 60.0 deg.\n",
      "└ @ PowerSystems /Users/benoitjeanson/.julia/packages/PowerSystems/mjN6j/src/parsers/pm_io/data.jl:1066\n",
      "┌ Info: this code only supports angmin values in -90 deg. to 90 deg., tightening the value on branch 10 from -360.0 to -60.0 deg.\n",
      "└ @ PowerSystems /Users/benoitjeanson/.julia/packages/PowerSystems/mjN6j/src/parsers/pm_io/data.jl:1055\n",
      "┌ Info: this code only supports angmax values in -90 deg. to 90 deg., tightening the value on branch 10 from 360.0 to 60.0 deg.\n",
      "└ @ PowerSystems /Users/benoitjeanson/.julia/packages/PowerSystems/mjN6j/src/parsers/pm_io/data.jl:1066\n",
      "┌ Info: this code only supports angmin values in -90 deg. to 90 deg., tightening the value on branch 19 from -360.0 to -60.0 deg.\n",
      "└ @ PowerSystems /Users/benoitjeanson/.julia/packages/PowerSystems/mjN6j/src/parsers/pm_io/data.jl:1055\n",
      "┌ Info: this code only supports angmax values in -90 deg. to 90 deg., tightening the value on branch 19 from 360.0 to 60.0 deg.\n",
      "└ @ PowerSystems /Users/benoitjeanson/.julia/packages/PowerSystems/mjN6j/src/parsers/pm_io/data.jl:1066\n",
      "┌ Info: this code only supports angmin values in -90 deg. to 90 deg., tightening the value on branch 9 from -360.0 to -60.0 deg.\n",
      "└ @ PowerSystems /Users/benoitjeanson/.julia/packages/PowerSystems/mjN6j/src/parsers/pm_io/data.jl:1055\n",
      "┌ Info: this code only supports angmax values in -90 deg. to 90 deg., tightening the value on branch 9 from 360.0 to 60.0 deg.\n",
      "└ @ PowerSystems /Users/benoitjeanson/.julia/packages/PowerSystems/mjN6j/src/parsers/pm_io/data.jl:1066\n",
      "┌ Info: this code only supports angmin values in -90 deg. to 90 deg., tightening the value on branch 18 from -360.0 to -60.0 deg.\n",
      "└ @ PowerSystems /Users/benoitjeanson/.julia/packages/PowerSystems/mjN6j/src/parsers/pm_io/data.jl:1055\n",
      "┌ Info: this code only supports angmax values in -90 deg. to 90 deg., tightening the value on branch 18 from 360.0 to 60.0 deg.\n",
      "└ @ PowerSystems /Users/benoitjeanson/.julia/packages/PowerSystems/mjN6j/src/parsers/pm_io/data.jl:1066\n",
      "┌ Info: this code only supports angmin values in -90 deg. to 90 deg., tightening the value on branch 3 from -360.0 to -60.0 deg.\n",
      "└ @ PowerSystems /Users/benoitjeanson/.julia/packages/PowerSystems/mjN6j/src/parsers/pm_io/data.jl:1055\n",
      "┌ Info: this code only supports angmax values in -90 deg. to 90 deg., tightening the value on branch 3 from 360.0 to 60.0 deg.\n",
      "└ @ PowerSystems /Users/benoitjeanson/.julia/packages/PowerSystems/mjN6j/src/parsers/pm_io/data.jl:1066\n",
      "┌ Info: this code only supports positive rate_a values, changing the value on branch 4 to 605.2298\n",
      "└ @ PowerSystems /Users/benoitjeanson/.julia/packages/PowerSystems/mjN6j/src/parsers/pm_io/data.jl:1142\n",
      "┌ Info: this code only supports positive rate_a values, changing the value on branch 1 to 1804.6087\n",
      "└ @ PowerSystems /Users/benoitjeanson/.julia/packages/PowerSystems/mjN6j/src/parsers/pm_io/data.jl:1142\n",
      "┌ Info: this code only supports positive rate_a values, changing the value on branch 12 to 395.9056\n",
      "└ @ PowerSystems /Users/benoitjeanson/.julia/packages/PowerSystems/mjN6j/src/parsers/pm_io/data.jl:1142\n",
      "┌ Info: this code only supports positive rate_a values, changing the value on branch 20 to 289.7895\n",
      "└ @ PowerSystems /Users/benoitjeanson/.julia/packages/PowerSystems/mjN6j/src/parsers/pm_io/data.jl:1142\n",
      "┌ Info: this code only supports positive rate_a values, changing the value on branch 2 to 489.6065\n",
      "└ @ PowerSystems /Users/benoitjeanson/.julia/packages/PowerSystems/mjN6j/src/parsers/pm_io/data.jl:1142\n",
      "┌ Info: this code only supports positive rate_a values, changing the value on branch 6 to 611.6878\n",
      "└ @ PowerSystems /Users/benoitjeanson/.julia/packages/PowerSystems/mjN6j/src/parsers/pm_io/data.jl:1142\n",
      "┌ Info: this code only supports positive rate_a values, changing the value on branch 11 to 509.7686\n",
      "└ @ PowerSystems /Users/benoitjeanson/.julia/packages/PowerSystems/mjN6j/src/parsers/pm_io/data.jl:1142\n",
      "┌ Info: this code only supports positive rate_a values, changing the value on branch 13 to 769.048\n",
      "└ @ PowerSystems /Users/benoitjeanson/.julia/packages/PowerSystems/mjN6j/src/parsers/pm_io/data.jl:1142\n",
      "┌ Info: this code only supports positive rate_a values, changing the value on branch 5 to 614.0953\n",
      "└ @ PowerSystems /Users/benoitjeanson/.julia/packages/PowerSystems/mjN6j/src/parsers/pm_io/data.jl:1142\n",
      "┌ Info: this code only supports positive rate_a values, changing the value on branch 15 to 1021.3639\n",
      "└ @ PowerSystems /Users/benoitjeanson/.julia/packages/PowerSystems/mjN6j/src/parsers/pm_io/data.jl:1142\n",
      "┌ Info: this code only supports positive rate_a values, changing the value on branch 16 to 1244.4493\n",
      "└ @ PowerSystems /Users/benoitjeanson/.julia/packages/PowerSystems/mjN6j/src/parsers/pm_io/data.jl:1142\n",
      "┌ Info: this code only supports positive rate_a values, changing the value on branch 14 to 637.8668\n",
      "└ @ PowerSystems /Users/benoitjeanson/.julia/packages/PowerSystems/mjN6j/src/parsers/pm_io/data.jl:1142\n",
      "┌ Info: this code only supports positive rate_a values, changing the value on branch 7 to 2543.4968\n",
      "└ @ PowerSystems /Users/benoitjeanson/.julia/packages/PowerSystems/mjN6j/src/parsers/pm_io/data.jl:1142\n",
      "┌ Info: this code only supports positive rate_a values, changing the value on branch 8 to 537.3003\n",
      "└ @ PowerSystems /Users/benoitjeanson/.julia/packages/PowerSystems/mjN6j/src/parsers/pm_io/data.jl:1142\n",
      "┌ Info: this code only supports positive rate_a values, changing the value on branch 17 to 376.0786\n",
      "└ @ PowerSystems /Users/benoitjeanson/.julia/packages/PowerSystems/mjN6j/src/parsers/pm_io/data.jl:1142\n",
      "┌ Info: this code only supports positive rate_a values, changing the value on branch 10 to 445.8386\n",
      "└ @ PowerSystems /Users/benoitjeanson/.julia/packages/PowerSystems/mjN6j/src/parsers/pm_io/data.jl:1142\n",
      "┌ Info: this code only supports positive rate_a values, changing the value on branch 19 to 377.1462\n",
      "└ @ PowerSystems /Users/benoitjeanson/.julia/packages/PowerSystems/mjN6j/src/parsers/pm_io/data.jl:1142\n",
      "┌ Info: this code only supports positive rate_a values, changing the value on branch 9 to 202.0214\n",
      "└ @ PowerSystems /Users/benoitjeanson/.julia/packages/PowerSystems/mjN6j/src/parsers/pm_io/data.jl:1142\n",
      "┌ Info: this code only supports positive rate_a values, changing the value on branch 18 to 537.9655\n",
      "└ @ PowerSystems /Users/benoitjeanson/.julia/packages/PowerSystems/mjN6j/src/parsers/pm_io/data.jl:1142\n",
      "┌ Info: this code only supports positive rate_a values, changing the value on branch 3 to 552.2192\n",
      "└ @ PowerSystems /Users/benoitjeanson/.julia/packages/PowerSystems/mjN6j/src/parsers/pm_io/data.jl:1142\n",
      "┌ Info: Constructing System from Power Models\n",
      "│   data[\"name\"] = case14\n",
      "│   data[\"source_type\"] = matpower\n",
      "└ @ PowerSystems /Users/benoitjeanson/.julia/packages/PowerSystems/mjN6j/src/parsers/power_models_data.jl:58\n",
      "┌ Info: Reading bus data\n",
      "└ @ PowerSystems /Users/benoitjeanson/.julia/packages/PowerSystems/mjN6j/src/parsers/power_models_data.jl:169\n",
      "┌ Warning: Invalid range\n",
      "│   valid_info.struct_name = ACBus\n",
      "│   field_name = magnitude\n",
      "│   valid_range = voltage_limits\n",
      "│   valid_info.ist_struct = ACBus(6, Bus 6     LV, ACBusTypes.PV = 2, -0.24818581963359368, 1.07, (min = 0.94, max = 1.06), 0.0, Area(1, 0.0, 0.0, 0.0), nothing, Dict{String, Any}())\n",
      "└ @ InfrastructureSystems /Users/benoitjeanson/.julia/packages/InfrastructureSystems/9btGb/src/validation.jl:219\n",
      "┌ Warning: Invalid range\n",
      "│   valid_info.struct_name = ACBus\n",
      "│   field_name = magnitude\n",
      "│   valid_range = voltage_limits\n",
      "│   valid_info.ist_struct = ACBus(7, Bus 7     ZV, ACBusTypes.PQ = 1, -0.23335052099164186, 1.062, (min = 0.94, max = 1.06), 0.0, Area(1, 0.0, 0.0, 0.0), nothing, Dict{String, Any}())\n",
      "└ @ InfrastructureSystems /Users/benoitjeanson/.julia/packages/InfrastructureSystems/9btGb/src/validation.jl:219\n",
      "┌ Warning: Invalid range\n",
      "│   valid_info.struct_name = ACBus\n",
      "│   field_name = magnitude\n",
      "│   valid_range = voltage_limits\n",
      "│   valid_info.ist_struct = ACBus(8, Bus 8     TV, ACBusTypes.PV = 2, -0.2331759880664424, 1.09, (min = 0.94, max = 1.06), 0.0, Area(1, 0.0, 0.0, 0.0), nothing, Dict{String, Any}())\n",
      "└ @ InfrastructureSystems /Users/benoitjeanson/.julia/packages/InfrastructureSystems/9btGb/src/validation.jl:219\n",
      "┌ Info: Reading Load data in PowerModels dict to populate System ...\n",
      "└ @ PowerSystems /Users/benoitjeanson/.julia/packages/PowerSystems/mjN6j/src/parsers/power_models_data.jl:246\n",
      "┌ Info: Reading LoadZones data in PowerModels dict to populate System ...\n",
      "└ @ PowerSystems /Users/benoitjeanson/.julia/packages/PowerSystems/mjN6j/src/parsers/power_models_data.jl:288\n",
      "┌ Info: Reading generator data\n",
      "└ @ PowerSystems /Users/benoitjeanson/.julia/packages/PowerSystems/mjN6j/src/parsers/power_models_data.jl:517\n",
      "┌ Warning: Invalid range\n",
      "│   valid_info.struct_name = ThermalStandard\n",
      "│   field_name = reactive_power\n",
      "│   valid_range = reactive_power_limits\n",
      "│   valid_info.ist_struct = ThermalStandard(gen-1, true, true, ACBus(1, Bus 1     HV, ACBusTypes.REF = 3, 0.0, 1.06, (min = 0.94, max = 1.06), 0.0, Area(1, 0.0, 0.0, 0.0), LoadZone(1, 2.59, 0.735), Dict{String, Any}()), 2.324, -0.16899999999999998, 3.3255038715960024, (min = 0.0, max = 3.324), (min = 0.0, max = 0.1), (up = 0.0, down = 0.0), ThreePartCost(VariableCost{Tuple{Float64, Float64}}((0.043029259900000005, 20.0)), 0.0, 0.0, 0.0), 100.0, nothing, false, PrimeMovers.OT = 19, ThermalFuels.OTHER = 14, Service[], 10000.0, nothing, Dict{String, Any}())\n",
      "└ @ InfrastructureSystems /Users/benoitjeanson/.julia/packages/InfrastructureSystems/9btGb/src/validation.jl:219\n",
      "┌ Info: Reading branch data\n",
      "└ @ PowerSystems /Users/benoitjeanson/.julia/packages/PowerSystems/mjN6j/src/parsers/power_models_data.jl:685\n",
      "┌ Info: Reading branch data\n",
      "└ @ PowerSystems /Users/benoitjeanson/.julia/packages/PowerSystems/mjN6j/src/parsers/power_models_data.jl:756\n",
      "┌ Info: Reading DC Line data\n",
      "└ @ PowerSystems /Users/benoitjeanson/.julia/packages/PowerSystems/mjN6j/src/parsers/power_models_data.jl:723\n",
      "┌ Info: Reading storage data\n",
      "└ @ PowerSystems /Users/benoitjeanson/.julia/packages/PowerSystems/mjN6j/src/parsers/power_models_data.jl:780\n"
     ]
    },
    {
     "data": {
      "text/plain": [
       "(System(PowerLoad(bus14, true, ACBus(14, Bus 14    LV, ACBusTypes.PQ = 1, -0.27995081201989047, 1.036, (min = 0.94, max = 1.06), 0.0, Area(1, 0.0, 0.0, 0.0), LoadZone(1, 2.59, 0.735), Dict{String, Any}()), 0.149, 0.05, 100.0, 0.149, 0.05, Service[], nothing, Dict{String, Any}())\n",
       "PowerLoad(bus5, true, ACBus(5, Bus 5     HV, ACBusTypes.PQ = 1, -0.15323990832510212, 1.02, (min = 0.94, max = 1.06), 0.0, Area(1, 0.0, 0.0, 0.0), LoadZone(1, 2.59, 0.735), Dict{String, Any}()), 0.076, 0.016, 100.0, 0.076, 0.016, Service[], nothing, Dict{String, Any}())\n",
       "PowerLoad(bus6, true, ACBus(6, Bus 6     LV, ACBusTypes.PV = 2, -0.24818581963359368, 1.07, (min = 0.94, max = 1.06), 0.0, Area(1, 0.0, 0.0, 0.0), LoadZone(1, 2.59, 0.735), Dict{String, Any}()), 0.11199999999999999, 0.075, 100.0, 0.11199999999999999, 0.075, Service[], nothing, Dict{String, Any}())\n",
       "PowerLoad(bus12, true, ACBus(12, Bus 12    LV, ACBusTypes.PQ = 1, -0.2630211182755455, 1.055, (min = 0.94, max = 1.06), 0.0, Area(1, 0.0, 0.0, 0.0), LoadZone(1, 2.59, 0.735), Dict{String, Any}()), 0.061, 0.016, 100.0, 0.061, 0.016, Service[], nothing, Dict{String, Any}())\n",
       "PowerLoad(bus10, true, ACBus(10, Bus 10    LV, ACBusTypes.PQ = 1, -0.26354471705114374, 1.051, (min = 0.94, max = 1.06), 0.0, Area(1, 0.0, 0.0, 0.0), LoadZone(1, 2.59, 0.735), Dict{String, Any}()), 0.09, 0.057999999999999996, 100.0, 0.09, 0.057999999999999996, Service[], nothing, Dict{String, Any}())\n",
       "PowerLoad(bus2, true, ACBus(2, Bus 2     HV, ACBusTypes.PV = 2, -0.08691739674931762, 1.045, (min = 0.94, max = 1.06), 0.0, Area(1, 0.0, 0.0, 0.0), LoadZone(1, 2.59, 0.735), Dict{String, Any}()), 0.217, 0.127, 100.0, 0.217, 0.127, Service[], nothing, Dict{String, Any}())\n",
       "PowerLoad(bus11, true, ACBus(11, Bus 11    LV, ACBusTypes.PQ = 1, -0.2581341963699613, 1.057, (min = 0.94, max = 1.06), 0.0, Area(1, 0.0, 0.0, 0.0), LoadZone(1, 2.59, 0.735), Dict{String, Any}()), 0.035, 0.018000000000000002, 100.0, 0.035, 0.018000000000000002, Service[], nothing, Dict{String, Any}())\n",
       "PowerLoad(bus9, true, ACBus(9, Bus 9     LV, ACBusTypes.PQ = 1, -0.2607521902479528, 1.056, (min = 0.94, max = 1.06), 0.0, Area(1, 0.0, 0.0, 0.0), LoadZone(1, 2.59, 0.735), Dict{String, Any}()), 0.295, 0.166, 100.0, 0.295, 0.166, Service[], nothing, Dict{String, Any}())\n",
       "PowerLoad(bus3, true, ACBus(3, Bus 3     HV, ACBusTypes.PV = 2, -0.22200588085367873, 1.01, (min = 0.94, max = 1.06), 0.0, Area(1, 0.0, 0.0, 0.0), LoadZone(1, 2.59, 0.735), Dict{String, Any}()), 0.9420000000000001, 0.19, 100.0, 0.9420000000000001, 0.19, Service[], nothing, Dict{String, Any}())\n",
       "PowerLoad(bus4, true, ACBus(4, Bus 4     HV, ACBusTypes.PQ = 1, -0.18029251173101424, 1.019, (min = 0.94, max = 1.06), 0.0, Area(1, 0.0, 0.0, 0.0), LoadZone(1, 2.59, 0.735), Dict{String, Any}()), 0.478, -0.039, 100.0, 0.478, -0.039, Service[], nothing, Dict{String, Any}())\n",
       "\n",
       "***Omitted 64 components***\n",
       "\n",
       "\n",
       "\n",
       "InfrastructureSystems.TimeSeriesParameters(Dates.Minute(0), InfrastructureSystems.ForecastParameters(0, Dates.DateTime(\"0001-01-01T00:00:00\"), Dates.Minute(0), 0)), 60.0, Set([5, 12, 8, 1, 6, 11, 9, 14, 3, 7, 4, 13, 2, 10]), Base.RefValue{Bool}(true), InfrastructureSystems.SystemUnitsSettings(100.0, UnitSystem.SYSTEM_BASE = 0), nothing, PowerSystems.SystemMetadata(nothing, nothing), InfrastructureSystems.InfrastructureSystemsInternal(UUID(\"83e58730-9c00-4f92-8673-4d4515d5819e\"), nothing, Dict{String, Any}())), Dict{String, Point2}(\"4\" => [3.0, 1.0], \"1\" => [0.0, 0.0], \"12\" => [0.0, 3.0], \"2\" => [1.5, 0.0], \"6\" => [0.0, 2.0], \"11\" => [0.6, 1.5], \"13\" => [1.0, 3.0], \"5\" => [0.0, 1.0], \"14\" => [2.0, 3.0], \"7\" => [3.0, 2.0]…))"
      ]
     },
     "metadata": {},
     "output_type": "display_data"
    }
   ],
   "source": [
    "sys, coord = loadcase(\"case14\")"
   ]
  },
  {
   "cell_type": "markdown",
   "metadata": {},
   "source": [
    "## Run"
   ]
  },
  {
   "cell_type": "code",
   "execution_count": 35,
   "metadata": {},
   "outputs": [
    {
     "data": {
      "image/png": "[encoded data removed]",
      "image/svg+xml": [
       "<?xml version=\"1.0\" encoding=\"UTF-8\"?>\n",
       "<svg xmlns=\"http://www.w3.org/2000/svg\" xmlns:xlink=\"http://www.w3.org/1999/xlink\" width=\"675\" height=\"450\" viewBox=\"0 0 675 450\">\n",
       "<defs>\n",
       "<g>\n",
       "<g id=\"glyph-0-0-003d4166\">\n",
       "<path d=\"M 3.90625 0 C 3.90625 0 2.90625 0 2.90625 0 C 2.90625 0 2.90625 -5.6875 2.90625 -5.6875 C 2.90625 -5.6875 1.140625 -5.6875 1.140625 -5.6875 C 1.140625 -5.6875 1.140625 -6.390625 1.140625 -6.390625 C 2.671875 -6.578125 2.90625 -6.75 3.25 -7.96875 C 3.25 -7.96875 3.90625 -7.96875 3.90625 -7.96875 C 3.90625 -7.96875 3.90625 0 3.90625 0 Z M 3.90625 0 \"/>\n",
       "</g>\n",
       "<g id=\"glyph-1-0-003d4166\">\n",
       "<path d=\"M 3.28125 2.390625 C 3.28125 2.390625 2.65625 2.390625 2.65625 2.390625 C 1.53125 0.90625 0.828125 -1.140625 0.828125 -2.90625 C 0.828125 -4.6875 1.53125 -6.734375 2.65625 -8.203125 C 2.65625 -8.203125 3.28125 -8.203125 3.28125 -8.203125 C 2.28125 -6.609375 1.734375 -4.703125 1.734375 -2.90625 C 1.734375 -1.109375 2.28125 0.78125 3.28125 2.390625 Z M 3.28125 2.390625 \"/>\n",
       "</g>\n",
       "<g id=\"glyph-1-1-003d4166\">\n",
       "<path d=\"M 3.1875 -2.703125 C 3.1875 -2.703125 0.515625 -2.703125 0.515625 -2.703125 C 0.515625 -2.703125 0.515625 -3.515625 0.515625 -3.515625 C 0.515625 -3.515625 3.1875 -3.515625 3.1875 -3.515625 C 3.1875 -3.515625 3.1875 -2.703125 3.1875 -2.703125 Z M 3.1875 -2.703125 \"/>\n",
       "</g>\n",
       "<g id=\"glyph-1-2-003d4166\">\n",
       "<path d=\"M 5.703125 -3.84375 C 5.703125 -1.21875 4.78125 0.171875 3.09375 0.171875 C 1.390625 0.171875 0.484375 -1.21875 0.484375 -3.90625 C 0.484375 -6.578125 1.375 -7.96875 3.09375 -7.96875 C 4.828125 -7.96875 5.703125 -6.609375 5.703125 -3.84375 Z M 4.6875 -3.921875 C 4.6875 -6.0625 4.15625 -7.09375 3.09375 -7.09375 C 2.03125 -7.09375 1.5 -6.078125 1.5 -3.890625 C 1.5 -1.703125 2.03125 -0.65625 3.078125 -0.65625 C 4.171875 -0.65625 4.6875 -1.671875 4.6875 -3.921875 Z M 4.6875 -3.921875 \"/>\n",
       "</g>\n",
       "<g id=\"glyph-1-3-003d4166\">\n",
       "<path d=\"M 2.875 -2.90625 C 2.875 -1.140625 2.171875 0.90625 1.046875 2.390625 C 1.046875 2.390625 0.421875 2.390625 0.421875 2.390625 C 1.421875 0.78125 1.96875 -1.109375 1.96875 -2.90625 C 1.96875 -4.703125 1.421875 -6.59375 0.421875 -8.203125 C 0.421875 -8.203125 1.046875 -8.203125 1.046875 -8.203125 C 2.171875 -6.734375 2.875 -4.6875 2.875 -2.90625 Z M 2.875 -2.90625 \"/>\n",
       "</g>\n",
       "<g id=\"glyph-2-0-003d4166\">\n",
       "<path d=\"M 5.6875 -2.3125 C 5.6875 -0.8125 4.640625 0.171875 3 0.171875 C 1.359375 0.171875 0.484375 -0.625 0.359375 -2.40625 C 0.359375 -2.40625 1.34375 -2.40625 1.34375 -2.40625 C 1.421875 -1.25 1.953125 -0.703125 3.03125 -0.703125 C 4.0625 -0.703125 4.6875 -1.3125 4.6875 -2.3125 C 4.6875 -3.1875 4.125 -3.71875 3.03125 -3.71875 C 3.03125 -3.71875 2.484375 -3.71875 2.484375 -3.71875 C 2.484375 -3.71875 2.484375 -4.546875 2.484375 -4.546875 C 4.078125 -4.546875 4.4375 -4.890625 4.4375 -5.75 C 4.4375 -6.59375 3.921875 -7.109375 3.03125 -7.109375 C 2.03125 -7.109375 1.546875 -6.578125 1.515625 -5.40625 C 1.515625 -5.40625 0.53125 -5.40625 0.53125 -5.40625 C 0.5625 -7.09375 1.421875 -7.96875 3.03125 -7.96875 C 4.546875 -7.96875 5.453125 -7.15625 5.453125 -5.78125 C 5.453125 -4.984375 5.078125 -4.46875 4.34375 -4.171875 C 5.296875 -3.84375 5.6875 -3.28125 5.6875 -2.3125 Z M 5.6875 -2.3125 \"/>\n",
       "</g>\n",
       "<g id=\"glyph-3-0-003d4166\">\n",
       "<path d=\"M 2.15625 0 C 2.15625 0 0.984375 0 0.984375 0 C 0.984375 0 0.984375 -1.171875 0.984375 -1.171875 C 0.984375 -1.171875 2.15625 -1.171875 2.15625 -1.171875 C 2.15625 -1.171875 2.15625 0 2.15625 0 Z M 2.15625 0 \"/>\n",
       "</g>\n",
       "<g id=\"glyph-4-0-003d4166\">\n",
       "<path d=\"M 5.75 -5.640625 C 5.75 -4.65625 5.171875 -3.828125 4.0625 -3.234375 C 4.0625 -3.234375 2.9375 -2.625 2.9375 -2.625 C 1.953125 -2.046875 1.59375 -1.625 1.5 -0.984375 C 1.5 -0.984375 5.6875 -0.984375 5.6875 -0.984375 C 5.6875 -0.984375 5.6875 0 5.6875 0 C 5.6875 0 0.375 0 0.375 0 C 0.46875 -1.75 0.953125 -2.515625 2.625 -3.453125 C 2.625 -3.453125 3.65625 -4.03125 3.65625 -4.03125 C 4.359375 -4.4375 4.734375 -4.984375 4.734375 -5.609375 C 4.734375 -6.46875 4.0625 -7.109375 3.15625 -7.109375 C 2.1875 -7.109375 1.625 -6.546875 1.546875 -5.203125 C 1.546875 -5.203125 0.5625 -5.203125 0.5625 -5.203125 C 0.625 -7.140625 1.5625 -7.96875 3.1875 -7.96875 C 4.703125 -7.96875 5.75 -6.984375 5.75 -5.640625 Z M 5.75 -5.640625 \"/>\n",
       "</g>\n",
       "<g id=\"glyph-4-1-003d4166\">\n",
       "<path d=\"M 2.15625 0 C 2.15625 0 0.984375 0 0.984375 0 C 0.984375 0 0.984375 -1.171875 0.984375 -1.171875 C 0.984375 -1.171875 2.15625 -1.171875 2.15625 -1.171875 C 2.15625 -1.171875 2.15625 0 2.15625 0 Z M 2.15625 0 \"/>\n",
       "</g>\n",
       "<g id=\"glyph-5-0-003d4166\">\n",
       "<path d=\"M 3.28125 2.390625 C 3.28125 2.390625 2.65625 2.390625 2.65625 2.390625 C 1.53125 0.90625 0.828125 -1.140625 0.828125 -2.90625 C 0.828125 -4.6875 1.53125 -6.734375 2.65625 -8.203125 C 2.65625 -8.203125 3.28125 -8.203125 3.28125 -8.203125 C 2.28125 -6.609375 1.734375 -4.703125 1.734375 -2.90625 C 1.734375 -1.109375 2.28125 0.78125 3.28125 2.390625 Z M 3.28125 2.390625 \"/>\n",
       "</g>\n",
       "<g id=\"glyph-5-1-003d4166\">\n",
       "<path d=\"M 3.90625 0 C 3.90625 0 2.90625 0 2.90625 0 C 2.90625 0 2.90625 -5.6875 2.90625 -5.6875 C 2.90625 -5.6875 1.140625 -5.6875 1.140625 -5.6875 C 1.140625 -5.6875 1.140625 -6.390625 1.140625 -6.390625 C 2.671875 -6.578125 2.90625 -6.75 3.25 -7.96875 C 3.25 -7.96875 3.90625 -7.96875 3.90625 -7.96875 C 3.90625 -7.96875 3.90625 0 3.90625 0 Z M 3.90625 0 \"/>\n",
       "</g>\n",
       "<g id=\"glyph-5-2-003d4166\">\n",
       "<path d=\"M 2.875 -2.90625 C 2.875 -1.140625 2.171875 0.90625 1.046875 2.390625 C 1.046875 2.390625 0.421875 2.390625 0.421875 2.390625 C 1.421875 0.78125 1.96875 -1.109375 1.96875 -2.90625 C 1.96875 -4.703125 1.421875 -6.59375 0.421875 -8.203125 C 0.421875 -8.203125 1.046875 -8.203125 1.046875 -8.203125 C 2.171875 -6.734375 2.875 -4.6875 2.875 -2.90625 Z M 2.875 -2.90625 \"/>\n",
       "</g>\n",
       "<g id=\"glyph-6-0-003d4166\">\n",
       "<path d=\"M 5.703125 -3.84375 C 5.703125 -1.21875 4.78125 0.171875 3.09375 0.171875 C 1.390625 0.171875 0.484375 -1.21875 0.484375 -3.90625 C 0.484375 -6.578125 1.375 -7.96875 3.09375 -7.96875 C 4.828125 -7.96875 5.703125 -6.609375 5.703125 -3.84375 Z M 4.6875 -3.921875 C 4.6875 -6.0625 4.15625 -7.09375 3.09375 -7.09375 C 2.03125 -7.09375 1.5 -6.078125 1.5 -3.890625 C 1.5 -1.703125 2.03125 -0.65625 3.078125 -0.65625 C 4.171875 -0.65625 4.6875 -1.671875 4.6875 -3.921875 Z M 4.6875 -3.921875 \"/>\n",
       "</g>\n",
       "<g id=\"glyph-7-0-003d4166\">\n",
       "<path d=\"M 5.6875 -2.3125 C 5.6875 -0.8125 4.640625 0.171875 3 0.171875 C 1.359375 0.171875 0.484375 -0.625 0.359375 -2.40625 C 0.359375 -2.40625 1.34375 -2.40625 1.34375 -2.40625 C 1.421875 -1.25 1.953125 -0.703125 3.03125 -0.703125 C 4.0625 -0.703125 4.6875 -1.3125 4.6875 -2.3125 C 4.6875 -3.1875 4.125 -3.71875 3.03125 -3.71875 C 3.03125 -3.71875 2.484375 -3.71875 2.484375 -3.71875 C 2.484375 -3.71875 2.484375 -4.546875 2.484375 -4.546875 C 4.078125 -4.546875 4.4375 -4.890625 4.4375 -5.75 C 4.4375 -6.59375 3.921875 -7.109375 3.03125 -7.109375 C 2.03125 -7.109375 1.546875 -6.578125 1.515625 -5.40625 C 1.515625 -5.40625 0.53125 -5.40625 0.53125 -5.40625 C 0.5625 -7.09375 1.421875 -7.96875 3.03125 -7.96875 C 4.546875 -7.96875 5.453125 -7.15625 5.453125 -5.78125 C 5.453125 -4.984375 5.078125 -4.46875 4.34375 -4.171875 C 5.296875 -3.84375 5.6875 -3.28125 5.6875 -2.3125 Z M 5.6875 -2.3125 \"/>\n",
       "</g>\n",
       "<g id=\"glyph-8-0-003d4166\">\n",
       "<path d=\"M 3.28125 2.390625 C 3.28125 2.390625 2.65625 2.390625 2.65625 2.390625 C 1.53125 0.90625 0.828125 -1.140625 0.828125 -2.90625 C 0.828125 -4.6875 1.53125 -6.734375 2.65625 -8.203125 C 2.65625 -8.203125 3.28125 -8.203125 3.28125 -8.203125 C 2.28125 -6.609375 1.734375 -4.703125 1.734375 -2.90625 C 1.734375 -1.109375 2.28125 0.78125 3.28125 2.390625 Z M 3.28125 2.390625 \"/>\n",
       "</g>\n",
       "<g id=\"glyph-8-1-003d4166\">\n",
       "<path d=\"M 3.90625 0 C 3.90625 0 2.90625 0 2.90625 0 C 2.90625 0 2.90625 -5.6875 2.90625 -5.6875 C 2.90625 -5.6875 1.140625 -5.6875 1.140625 -5.6875 C 1.140625 -5.6875 1.140625 -6.390625 1.140625 -6.390625 C 2.671875 -6.578125 2.90625 -6.75 3.25 -7.96875 C 3.25 -7.96875 3.90625 -7.96875 3.90625 -7.96875 C 3.90625 -7.96875 3.90625 0 3.90625 0 Z M 3.90625 0 \"/>\n",
       "</g>\n",
       "<g id=\"glyph-8-2-003d4166\">\n",
       "<path d=\"M 2.15625 0 C 2.15625 0 0.984375 0 0.984375 0 C 0.984375 0 0.984375 -1.171875 0.984375 -1.171875 C 0.984375 -1.171875 2.15625 -1.171875 2.15625 -1.171875 C 2.15625 -1.171875 2.15625 0 2.15625 0 Z M 2.15625 0 \"/>\n",
       "</g>\n",
       "<g id=\"glyph-8-3-003d4166\">\n",
       "<path d=\"M 5.703125 -3.84375 C 5.703125 -1.21875 4.78125 0.171875 3.09375 0.171875 C 1.390625 0.171875 0.484375 -1.21875 0.484375 -3.90625 C 0.484375 -6.578125 1.375 -7.96875 3.09375 -7.96875 C 4.828125 -7.96875 5.703125 -6.609375 5.703125 -3.84375 Z M 4.6875 -3.921875 C 4.6875 -6.0625 4.15625 -7.09375 3.09375 -7.09375 C 2.03125 -7.09375 1.5 -6.078125 1.5 -3.890625 C 1.5 -1.703125 2.03125 -0.65625 3.078125 -0.65625 C 4.171875 -0.65625 4.6875 -1.671875 4.6875 -3.921875 Z M 4.6875 -3.921875 \"/>\n",
       "</g>\n",
       "<g id=\"glyph-8-4-003d4166\">\n",
       "<path d=\"M 2.875 -2.90625 C 2.875 -1.140625 2.171875 0.90625 1.046875 2.390625 C 1.046875 2.390625 0.421875 2.390625 0.421875 2.390625 C 1.421875 0.78125 1.96875 -1.109375 1.96875 -2.90625 C 1.96875 -4.703125 1.421875 -6.59375 0.421875 -8.203125 C 0.421875 -8.203125 1.046875 -8.203125 1.046875 -8.203125 C 2.171875 -6.734375 2.875 -4.6875 2.875 -2.90625 Z M 2.875 -2.90625 \"/>\n",
       "</g>\n",
       "<g id=\"glyph-9-0-003d4166\">\n",
       "<path d=\"M 5.84375 -1.90625 C 5.84375 -1.90625 4.671875 -1.90625 4.671875 -1.90625 C 4.671875 -1.90625 4.671875 0 4.671875 0 C 4.671875 0 3.671875 0 3.671875 0 C 3.671875 0 3.671875 -1.90625 3.671875 -1.90625 C 3.671875 -1.90625 0.3125 -1.90625 0.3125 -1.90625 C 0.3125 -1.90625 0.3125 -2.953125 0.3125 -2.953125 C 0.3125 -2.953125 3.9375 -7.96875 3.9375 -7.96875 C 3.9375 -7.96875 4.671875 -7.96875 4.671875 -7.96875 C 4.671875 -7.96875 4.671875 -2.796875 4.671875 -2.796875 C 4.671875 -2.796875 5.84375 -2.796875 5.84375 -2.796875 C 5.84375 -2.796875 5.84375 -1.90625 5.84375 -1.90625 Z M 3.671875 -2.796875 C 3.671875 -2.796875 3.671875 -6.28125 3.671875 -6.28125 C 3.671875 -6.28125 1.1875 -2.796875 1.1875 -2.796875 C 1.1875 -2.796875 3.671875 -2.796875 3.671875 -2.796875 Z M 3.671875 -2.796875 \"/>\n",
       "</g>\n",
       "<g id=\"glyph-9-1-003d4166\">\n",
       "<path d=\"M 2.15625 0 C 2.15625 0 0.984375 0 0.984375 0 C 0.984375 0 0.984375 -1.171875 0.984375 -1.171875 C 0.984375 -1.171875 2.15625 -1.171875 2.15625 -1.171875 C 2.15625 -1.171875 2.15625 0 2.15625 0 Z M 2.15625 0 \"/>\n",
       "</g>\n",
       "<g id=\"glyph-10-0-003d4166\">\n",
       "<path d=\"M 3.28125 2.390625 C 3.28125 2.390625 2.65625 2.390625 2.65625 2.390625 C 1.53125 0.90625 0.828125 -1.140625 0.828125 -2.90625 C 0.828125 -4.6875 1.53125 -6.734375 2.65625 -8.203125 C 2.65625 -8.203125 3.28125 -8.203125 3.28125 -8.203125 C 2.28125 -6.609375 1.734375 -4.703125 1.734375 -2.90625 C 1.734375 -1.109375 2.28125 0.78125 3.28125 2.390625 Z M 3.28125 2.390625 \"/>\n",
       "</g>\n",
       "<g id=\"glyph-10-1-003d4166\">\n",
       "<path d=\"M 3.90625 0 C 3.90625 0 2.90625 0 2.90625 0 C 2.90625 0 2.90625 -5.6875 2.90625 -5.6875 C 2.90625 -5.6875 1.140625 -5.6875 1.140625 -5.6875 C 1.140625 -5.6875 1.140625 -6.390625 1.140625 -6.390625 C 2.671875 -6.578125 2.90625 -6.75 3.25 -7.96875 C 3.25 -7.96875 3.90625 -7.96875 3.90625 -7.96875 C 3.90625 -7.96875 3.90625 0 3.90625 0 Z M 3.90625 0 \"/>\n",
       "</g>\n",
       "<g id=\"glyph-10-2-003d4166\">\n",
       "<path d=\"M 2.875 -2.90625 C 2.875 -1.140625 2.171875 0.90625 1.046875 2.390625 C 1.046875 2.390625 0.421875 2.390625 0.421875 2.390625 C 1.421875 0.78125 1.96875 -1.109375 1.96875 -2.90625 C 1.96875 -4.703125 1.421875 -6.59375 0.421875 -8.203125 C 0.421875 -8.203125 1.046875 -8.203125 1.046875 -8.203125 C 2.171875 -6.734375 2.875 -4.6875 2.875 -2.90625 Z M 2.875 -2.90625 \"/>\n",
       "</g>\n",
       "<g id=\"glyph-11-0-003d4166\">\n",
       "<path d=\"M 5.703125 -3.84375 C 5.703125 -1.21875 4.78125 0.171875 3.09375 0.171875 C 1.390625 0.171875 0.484375 -1.21875 0.484375 -3.90625 C 0.484375 -6.578125 1.375 -7.96875 3.09375 -7.96875 C 4.828125 -7.96875 5.703125 -6.609375 5.703125 -3.84375 Z M 4.6875 -3.921875 C 4.6875 -6.0625 4.15625 -7.09375 3.09375 -7.09375 C 2.03125 -7.09375 1.5 -6.078125 1.5 -3.890625 C 1.5 -1.703125 2.03125 -0.65625 3.078125 -0.65625 C 4.171875 -0.65625 4.6875 -1.671875 4.6875 -3.921875 Z M 4.6875 -3.921875 \"/>\n",
       "</g>\n",
       "<g id=\"glyph-12-0-003d4166\">\n",
       "<path d=\"M 6.75 1.3125 C 4.890625 3.171875 3.25 3.5 2.0625 2.3125 C 0.859375 1.109375 1.203125 -0.515625 3.109375 -2.421875 C 5 -4.3125 6.609375 -4.671875 7.828125 -3.453125 C 9.046875 -2.234375 8.703125 -0.640625 6.75 1.3125 Z M 6.078125 0.546875 C 7.59375 -0.96875 7.953125 -2.078125 7.203125 -2.828125 C 6.453125 -3.578125 5.359375 -3.234375 3.8125 -1.6875 C 2.265625 -0.140625 1.90625 0.96875 2.640625 1.703125 C 3.421875 2.484375 4.5 2.125 6.078125 0.546875 Z M 6.078125 0.546875 \"/>\n",
       "</g>\n",
       "<g id=\"glyph-12-1-003d4166\">\n",
       "<path d=\"M 1.53125 1.53125 C 1.53125 1.53125 0.703125 0.703125 0.703125 0.703125 C 0.703125 0.703125 1.53125 -0.125 1.53125 -0.125 C 1.53125 -0.125 2.359375 0.703125 2.359375 0.703125 C 2.359375 0.703125 1.53125 1.53125 1.53125 1.53125 Z M 1.53125 1.53125 \"/>\n",
       "</g>\n",
       "<g id=\"glyph-13-0-003d4166\">\n",
       "<path d=\"M 1.53125 1.53125 C 1.53125 1.53125 0.703125 0.703125 0.703125 0.703125 C 0.703125 0.703125 1.53125 -0.125 1.53125 -0.125 C 1.53125 -0.125 2.359375 0.703125 2.359375 0.703125 C 2.359375 0.703125 1.53125 1.53125 1.53125 1.53125 Z M 1.53125 1.53125 \"/>\n",
       "</g>\n",
       "<g id=\"glyph-14-0-003d4166\">\n",
       "<path d=\"M 6.75 1.3125 C 4.890625 3.171875 3.25 3.5 2.0625 2.3125 C 0.859375 1.109375 1.203125 -0.515625 3.109375 -2.421875 C 5 -4.3125 6.609375 -4.671875 7.828125 -3.453125 C 9.046875 -2.234375 8.703125 -0.640625 6.75 1.3125 Z M 6.078125 0.546875 C 7.59375 -0.96875 7.953125 -2.078125 7.203125 -2.828125 C 6.453125 -3.578125 5.359375 -3.234375 3.8125 -1.6875 C 2.265625 -0.140625 1.90625 0.96875 2.640625 1.703125 C 3.421875 2.484375 4.5 2.125 6.078125 0.546875 Z M 6.078125 0.546875 \"/>\n",
       "</g>\n",
       "<g id=\"glyph-15-0-003d4166\">\n",
       "<path d=\"M 1.3125 -6.75 C 3.171875 -4.890625 3.5 -3.25 2.3125 -2.0625 C 1.109375 -0.859375 -0.515625 -1.203125 -2.421875 -3.109375 C -4.3125 -5 -4.671875 -6.609375 -3.453125 -7.828125 C -2.234375 -9.046875 -0.640625 -8.703125 1.3125 -6.75 Z M 0.546875 -6.078125 C -0.96875 -7.59375 -2.078125 -7.953125 -2.828125 -7.203125 C -3.578125 -6.453125 -3.234375 -5.359375 -1.6875 -3.8125 C -0.140625 -2.265625 0.96875 -1.90625 1.703125 -2.640625 C 2.484375 -3.421875 2.125 -4.5 0.546875 -6.078125 Z M 0.546875 -6.078125 \"/>\n",
       "</g>\n",
       "<g id=\"glyph-15-1-003d4166\">\n",
       "<path d=\"M 1.53125 -1.53125 C 1.53125 -1.53125 0.703125 -0.703125 0.703125 -0.703125 C 0.703125 -0.703125 -0.125 -1.53125 -0.125 -1.53125 C -0.125 -1.53125 0.703125 -2.359375 0.703125 -2.359375 C 0.703125 -2.359375 1.53125 -1.53125 1.53125 -1.53125 Z M 1.53125 -1.53125 \"/>\n",
       "</g>\n",
       "<g id=\"glyph-16-0-003d4166\">\n",
       "<path d=\"M 1.3125 -6.75 C 3.171875 -4.890625 3.5 -3.25 2.3125 -2.0625 C 1.109375 -0.859375 -0.515625 -1.203125 -2.421875 -3.109375 C -4.3125 -5 -4.671875 -6.609375 -3.453125 -7.828125 C -2.234375 -9.046875 -0.640625 -8.703125 1.3125 -6.75 Z M 0.546875 -6.078125 C -0.96875 -7.59375 -2.078125 -7.953125 -2.828125 -7.203125 C -3.578125 -6.453125 -3.234375 -5.359375 -1.6875 -3.8125 C -0.140625 -2.265625 0.96875 -1.90625 1.703125 -2.640625 C 2.484375 -3.421875 2.125 -4.5 0.546875 -6.078125 Z M 0.546875 -6.078125 \"/>\n",
       "</g>\n",
       "<g id=\"glyph-17-0-003d4166\">\n",
       "<path d=\"M 1.53125 -1.53125 C 1.53125 -1.53125 0.703125 -0.703125 0.703125 -0.703125 C 0.703125 -0.703125 -0.125 -1.53125 -0.125 -1.53125 C -0.125 -1.53125 0.703125 -2.359375 0.703125 -2.359375 C 0.703125 -2.359375 1.53125 -1.53125 1.53125 -1.53125 Z M 1.53125 -1.53125 \"/>\n",
       "</g>\n",
       "<g id=\"glyph-18-0-003d4166\">\n",
       "<path d=\"M 1.3125 -6.75 C 3.171875 -4.890625 3.5 -3.25 2.3125 -2.0625 C 1.109375 -0.859375 -0.515625 -1.203125 -2.421875 -3.109375 C -4.3125 -5 -4.671875 -6.609375 -3.453125 -7.828125 C -2.234375 -9.046875 -0.640625 -8.703125 1.3125 -6.75 Z M 0.546875 -6.078125 C -0.96875 -7.59375 -2.078125 -7.953125 -2.828125 -7.203125 C -3.578125 -6.453125 -3.234375 -5.359375 -1.6875 -3.8125 C -0.140625 -2.265625 0.96875 -1.90625 1.703125 -2.640625 C 2.484375 -3.421875 2.125 -4.5 0.546875 -6.078125 Z M 0.546875 -6.078125 \"/>\n",
       "</g>\n",
       "<g id=\"glyph-19-0-003d4166\">\n",
       "<path d=\"M 3.84375 5.703125 C 1.21875 5.703125 -0.171875 4.78125 -0.171875 3.09375 C -0.171875 1.390625 1.21875 0.484375 3.90625 0.484375 C 6.578125 0.484375 7.96875 1.375 7.96875 3.09375 C 7.96875 4.828125 6.609375 5.703125 3.84375 5.703125 Z M 3.921875 4.6875 C 6.0625 4.6875 7.09375 4.15625 7.09375 3.09375 C 7.09375 2.03125 6.078125 1.5 3.890625 1.5 C 1.703125 1.5 0.65625 2.03125 0.65625 3.078125 C 0.65625 4.171875 1.671875 4.6875 3.921875 4.6875 Z M 3.921875 4.6875 \"/>\n",
       "</g>\n",
       "<g id=\"glyph-19-1-003d4166\">\n",
       "<path d=\"M 0 2.15625 C 0 2.15625 0 0.984375 0 0.984375 C 0 0.984375 1.171875 0.984375 1.171875 0.984375 C 1.171875 0.984375 1.171875 2.15625 1.171875 2.15625 C 1.171875 2.15625 0 2.15625 0 2.15625 Z M 0 2.15625 \"/>\n",
       "</g>\n",
       "<g id=\"glyph-20-0-003d4166\">\n",
       "<path d=\"M 6.75 1.3125 C 4.890625 3.171875 3.25 3.5 2.0625 2.3125 C 0.859375 1.109375 1.203125 -0.515625 3.109375 -2.421875 C 5 -4.3125 6.609375 -4.671875 7.828125 -3.453125 C 9.046875 -2.234375 8.703125 -0.640625 6.75 1.3125 Z M 6.078125 0.546875 C 7.59375 -0.96875 7.953125 -2.078125 7.203125 -2.828125 C 6.453125 -3.578125 5.359375 -3.234375 3.8125 -1.6875 C 2.265625 -0.140625 1.90625 0.96875 2.640625 1.703125 C 3.421875 2.484375 4.5 2.125 6.078125 0.546875 Z M 6.078125 0.546875 \"/>\n",
       "</g>\n",
       "</g>\n",
       "</defs>\n",
       "<rect x=\"-67.5\" y=\"-45\" width=\"810\" height=\"540\" fill=\"rgb(100%, 100%, 100%)\" fill-opacity=\"1\"/>\n",
       "<path fill-rule=\"nonzero\" fill=\"rgb(100%, 100%, 100%)\" fill-opacity=\"1\" d=\"M 124.5 438 L 550.5 438 L 550.5 12 L 124.5 12 Z M 124.5 438 \"/>\n",
       "<path fill=\"none\" stroke-width=\"3\" stroke-linecap=\"butt\" stroke-linejoin=\"miter\" stroke=\"rgb(0%, 50.196081%, 0%)\" stroke-opacity=\"1\" stroke-miterlimit=\"2\" d=\"M 229.109375 300 L 432.489583 503.380208 \" transform=\"matrix(0.75, 0, 0, 0.75, 0, 0)\"/>\n",
       "<path fill=\"none\" stroke-width=\"3\" stroke-linecap=\"butt\" stroke-linejoin=\"miter\" stroke=\"rgb(0%, 50.196081%, 0%)\" stroke-opacity=\"1\" stroke-miterlimit=\"2\" d=\"M 229.109375 300 L 432.489583 96.619792 \" transform=\"matrix(0.75, 0, 0, 0.75, 0, 0)\"/>\n",
       "<path fill=\"none\" stroke-width=\"3\" stroke-linecap=\"butt\" stroke-linejoin=\"miter\" stroke=\"rgb(0%, 50.196081%, 0%)\" stroke-opacity=\"1\" stroke-miterlimit=\"2\" d=\"M 450 520.890625 L 653.380208 317.510417 \" transform=\"matrix(0.75, 0, 0, 0.75, 0, 0)\"/>\n",
       "<path fill=\"none\" stroke-width=\"3\" stroke-linecap=\"butt\" stroke-linejoin=\"miter\" stroke=\"rgb(0%, 50.196081%, 0%)\" stroke-opacity=\"1\" stroke-miterlimit=\"2\" d=\"M 450 520.890625 L 450 103.875 \" transform=\"matrix(0.75, 0, 0, 0.75, 0, 0)\"/>\n",
       "<path fill=\"none\" stroke-width=\"3\" stroke-linecap=\"butt\" stroke-linejoin=\"miter\" stroke=\"rgb(0%, 50.196081%, 0%)\" stroke-opacity=\"1\" stroke-miterlimit=\"2\" d=\"M 670.890625 300 L 467.510417 96.619792 \" transform=\"matrix(0.75, 0, 0, 0.75, 0, 0)\"/>\n",
       "<path fill-rule=\"nonzero\" fill=\"rgb(0%, 50.196081%, 0%)\" fill-opacity=\"1\" d=\"M 322.148438 375.316406 L 324.085938 368.847656 L 328.867188 382.035156 L 315.664062 377.269531 Z M 325.351562 386.832031 \"/>\n",
       "<path fill-rule=\"nonzero\" fill=\"rgb(0%, 50.196081%, 0%)\" fill-opacity=\"1\" d=\"M 322.148438 74.683594 L 315.679688 72.746094 L 328.867188 67.964844 L 324.101562 81.167969 Z M 333.664062 71.480469 \"/>\n",
       "<path fill-rule=\"nonzero\" fill=\"rgb(0%, 50.196081%, 0%)\" fill-opacity=\"1\" d=\"M 487.816406 240.351562 L 481.347656 238.414062 L 494.535156 233.632812 L 489.769531 246.835938 Z M 499.332031 237.148438 \"/>\n",
       "<path fill-rule=\"nonzero\" fill=\"rgb(0%, 50.196081%, 0%)\" fill-opacity=\"1\" d=\"M 337.503906 81.050781 L 331.550781 84.253906 L 337.503906 71.550781 L 343.457031 84.253906 Z M 343.378906 70.636719 \"/>\n",
       "<path fill-rule=\"nonzero\" fill=\"rgb(0%, 50.196081%, 0%)\" fill-opacity=\"1\" d=\"M 352.851562 74.683594 L 350.914062 81.152344 L 346.132812 67.964844 L 359.335938 72.730469 Z M 349.648438 63.167969 \"/>\n",
       "<path fill-rule=\"nonzero\" fill=\"rgb(100%, 100%, 100%)\" fill-opacity=\"1\" stroke-width=\"3\" stroke-linecap=\"butt\" stroke-linejoin=\"miter\" stroke=\"rgb(100%, 0%, 0%)\" stroke-opacity=\"1\" stroke-miterlimit=\"2\" d=\"M 257.3125 300 C 257.3125 284.427083 244.6875 271.802083 229.109375 271.802083 C 213.536458 271.802083 200.911458 284.427083 200.911458 300 C 200.911458 315.572917 213.536458 328.197917 229.109375 328.197917 C 244.6875 328.197917 257.3125 315.572917 257.3125 300 Z M 257.3125 300 \" transform=\"matrix(0.75, 0, 0, 0.75, 0, 0)\"/>\n",
       "<path fill-rule=\"nonzero\" fill=\"rgb(100%, 100%, 100%)\" fill-opacity=\"1\" stroke-width=\"3\" stroke-linecap=\"butt\" stroke-linejoin=\"miter\" stroke=\"rgb(100%, 0%, 0%)\" stroke-opacity=\"1\" stroke-miterlimit=\"2\" d=\"M 464.583333 535.46875 L 464.583333 506.307292 L 435.416667 506.307292 L 435.416667 535.46875 Z M 464.583333 535.46875 \" transform=\"matrix(0.75, 0, 0, 0.75, 0, 0)\"/>\n",
       "<path fill-rule=\"nonzero\" fill=\"rgb(100%, 100%, 100%)\" fill-opacity=\"1\" stroke-width=\"3\" stroke-linecap=\"butt\" stroke-linejoin=\"miter\" stroke=\"rgb(100%, 0%, 0%)\" stroke-opacity=\"1\" stroke-miterlimit=\"2\" d=\"M 685.46875 314.583333 L 685.46875 285.416667 L 656.307292 285.416667 L 656.307292 314.583333 Z M 685.46875 314.583333 \" transform=\"matrix(0.75, 0, 0, 0.75, 0, 0)\"/>\n",
       "<path fill-rule=\"nonzero\" fill=\"rgb(100%, 100%, 100%)\" fill-opacity=\"1\" stroke-width=\"3\" stroke-linecap=\"butt\" stroke-linejoin=\"miter\" stroke=\"rgb(100%, 0%, 0%)\" stroke-opacity=\"1\" stroke-miterlimit=\"2\" d=\"M 464.583333 93.692708 L 464.583333 64.53125 L 435.416667 64.53125 L 435.416667 93.692708 Z M 464.583333 93.692708 \" transform=\"matrix(0.75, 0, 0, 0.75, 0, 0)\"/>\n",
       "<g fill=\"rgb(0%, 0%, 0%)\" fill-opacity=\"1\">\n",
       "<use xlink:href=\"#glyph-0-0-003d4166\" x=\"171.833344\" y=\"222.547485\"/>\n",
       "</g>\n",
       "<g fill=\"rgb(0%, 0%, 0%)\" fill-opacity=\"1\">\n",
       "<use xlink:href=\"#glyph-1-0-003d4166\" x=\"178.088345\" y=\"222.547485\"/>\n",
       "</g>\n",
       "<g fill=\"rgb(0%, 0%, 0%)\" fill-opacity=\"1\">\n",
       "<use xlink:href=\"#glyph-1-1-003d4166\" x=\"181.834591\" y=\"222.547485\"/>\n",
       "</g>\n",
       "<g fill=\"rgb(0%, 0%, 0%)\" fill-opacity=\"1\">\n",
       "<use xlink:href=\"#glyph-2-0-003d4166\" x=\"185.580854\" y=\"222.547485\"/>\n",
       "</g>\n",
       "<g fill=\"rgb(0%, 0%, 0%)\" fill-opacity=\"1\">\n",
       "<use xlink:href=\"#glyph-3-0-003d4166\" x=\"191.835852\" y=\"222.547485\"/>\n",
       "</g>\n",
       "<g fill=\"rgb(0%, 0%, 0%)\" fill-opacity=\"1\">\n",
       "<use xlink:href=\"#glyph-1-2-003d4166\" x=\"194.963345\" y=\"222.547485\"/>\n",
       "</g>\n",
       "<g fill=\"rgb(0%, 0%, 0%)\" fill-opacity=\"1\">\n",
       "<use xlink:href=\"#glyph-1-3-003d4166\" x=\"201.218342\" y=\"222.547485\"/>\n",
       "</g>\n",
       "<g fill=\"rgb(0%, 0%, 0%)\" fill-opacity=\"1\">\n",
       "<use xlink:href=\"#glyph-4-0-003d4166\" x=\"337.5\" y=\"388.214149\"/>\n",
       "</g>\n",
       "<g fill=\"rgb(0%, 0%, 0%)\" fill-opacity=\"1\">\n",
       "<use xlink:href=\"#glyph-5-0-003d4166\" x=\"343.75502\" y=\"388.214149\"/>\n",
       "</g>\n",
       "<g fill=\"rgb(0%, 0%, 0%)\" fill-opacity=\"1\">\n",
       "<use xlink:href=\"#glyph-5-1-003d4166\" x=\"347.501266\" y=\"388.214149\"/>\n",
       "</g>\n",
       "<g fill=\"rgb(0%, 0%, 0%)\" fill-opacity=\"1\">\n",
       "<use xlink:href=\"#glyph-4-1-003d4166\" x=\"353.756241\" y=\"388.214149\"/>\n",
       "</g>\n",
       "<g fill=\"rgb(0%, 0%, 0%)\" fill-opacity=\"1\">\n",
       "<use xlink:href=\"#glyph-6-0-003d4166\" x=\"356.883751\" y=\"388.214149\"/>\n",
       "</g>\n",
       "<g fill=\"rgb(0%, 0%, 0%)\" fill-opacity=\"1\">\n",
       "<use xlink:href=\"#glyph-5-2-003d4166\" x=\"363.138771\" y=\"388.214149\"/>\n",
       "</g>\n",
       "<g fill=\"rgb(0%, 0%, 0%)\" fill-opacity=\"1\">\n",
       "<use xlink:href=\"#glyph-7-0-003d4166\" x=\"503.166664\" y=\"222.547485\"/>\n",
       "</g>\n",
       "<g fill=\"rgb(0%, 0%, 0%)\" fill-opacity=\"1\">\n",
       "<use xlink:href=\"#glyph-8-0-003d4166\" x=\"509.421661\" y=\"222.547485\"/>\n",
       "</g>\n",
       "<g fill=\"rgb(0%, 0%, 0%)\" fill-opacity=\"1\">\n",
       "<use xlink:href=\"#glyph-8-1-003d4166\" x=\"513.167908\" y=\"222.547485\"/>\n",
       "</g>\n",
       "<g fill=\"rgb(0%, 0%, 0%)\" fill-opacity=\"1\">\n",
       "<use xlink:href=\"#glyph-8-2-003d4166\" x=\"519.422928\" y=\"222.547485\"/>\n",
       "</g>\n",
       "<g fill=\"rgb(0%, 0%, 0%)\" fill-opacity=\"1\">\n",
       "<use xlink:href=\"#glyph-8-3-003d4166\" x=\"522.550415\" y=\"222.547485\"/>\n",
       "</g>\n",
       "<g fill=\"rgb(0%, 0%, 0%)\" fill-opacity=\"1\">\n",
       "<use xlink:href=\"#glyph-8-4-003d4166\" x=\"528.805435\" y=\"222.547485\"/>\n",
       "</g>\n",
       "<g fill=\"rgb(0%, 0%, 0%)\" fill-opacity=\"1\">\n",
       "<use xlink:href=\"#glyph-9-0-003d4166\" x=\"337.5\" y=\"56.880833\"/>\n",
       "</g>\n",
       "<g fill=\"rgb(0%, 0%, 0%)\" fill-opacity=\"1\">\n",
       "<use xlink:href=\"#glyph-10-0-003d4166\" x=\"343.75502\" y=\"56.880833\"/>\n",
       "</g>\n",
       "<g fill=\"rgb(0%, 0%, 0%)\" fill-opacity=\"1\">\n",
       "<use xlink:href=\"#glyph-10-1-003d4166\" x=\"347.501266\" y=\"56.880833\"/>\n",
       "</g>\n",
       "<g fill=\"rgb(0%, 0%, 0%)\" fill-opacity=\"1\">\n",
       "<use xlink:href=\"#glyph-9-1-003d4166\" x=\"353.756241\" y=\"56.880833\"/>\n",
       "</g>\n",
       "<g fill=\"rgb(0%, 0%, 0%)\" fill-opacity=\"1\">\n",
       "<use xlink:href=\"#glyph-11-0-003d4166\" x=\"356.883751\" y=\"56.880833\"/>\n",
       "</g>\n",
       "<g fill=\"rgb(0%, 0%, 0%)\" fill-opacity=\"1\">\n",
       "<use xlink:href=\"#glyph-10-2-003d4166\" x=\"363.138771\" y=\"56.880833\"/>\n",
       "</g>\n",
       "<g fill=\"rgb(0%, 0%, 0%)\" fill-opacity=\"1\">\n",
       "<use xlink:href=\"#glyph-12-0-003d4166\" x=\"244.445263\" y=\"293.865143\"/>\n",
       "</g>\n",
       "<g fill=\"rgb(0%, 0%, 0%)\" fill-opacity=\"1\">\n",
       "<use xlink:href=\"#glyph-13-0-003d4166\" x=\"248.86821\" y=\"298.288078\"/>\n",
       "</g>\n",
       "<g fill=\"rgb(0%, 0%, 0%)\" fill-opacity=\"1\">\n",
       "<use xlink:href=\"#glyph-14-0-003d4166\" x=\"251.079689\" y=\"300.49958\"/>\n",
       "</g>\n",
       "<g fill=\"rgb(0%, 0%, 0%)\" fill-opacity=\"1\">\n",
       "<use xlink:href=\"#glyph-15-0-003d4166\" x=\"240.698479\" y=\"152.388073\"/>\n",
       "</g>\n",
       "<g fill=\"rgb(0%, 0%, 0%)\" fill-opacity=\"1\">\n",
       "<use xlink:href=\"#glyph-15-1-003d4166\" x=\"245.121426\" y=\"147.965126\"/>\n",
       "</g>\n",
       "<g fill=\"rgb(0%, 0%, 0%)\" fill-opacity=\"1\">\n",
       "<use xlink:href=\"#glyph-15-0-003d4166\" x=\"247.332905\" y=\"145.753647\"/>\n",
       "</g>\n",
       "<g fill=\"rgb(0%, 0%, 0%)\" fill-opacity=\"1\">\n",
       "<use xlink:href=\"#glyph-16-0-003d4166\" x=\"406.365166\" y=\"318.054749\"/>\n",
       "</g>\n",
       "<g fill=\"rgb(0%, 0%, 0%)\" fill-opacity=\"1\">\n",
       "<use xlink:href=\"#glyph-17-0-003d4166\" x=\"410.788101\" y=\"313.63179\"/>\n",
       "</g>\n",
       "<g fill=\"rgb(0%, 0%, 0%)\" fill-opacity=\"1\">\n",
       "<use xlink:href=\"#glyph-18-0-003d4166\" x=\"412.99958\" y=\"311.420311\"/>\n",
       "</g>\n",
       "<g fill=\"rgb(0%, 0%, 0%)\" fill-opacity=\"1\">\n",
       "<use xlink:href=\"#glyph-19-0-003d4166\" x=\"326.649376\" y=\"226.467133\"/>\n",
       "</g>\n",
       "<g fill=\"rgb(0%, 0%, 0%)\" fill-opacity=\"1\">\n",
       "<use xlink:href=\"#glyph-19-1-003d4166\" x=\"326.649376\" y=\"232.72213\"/>\n",
       "</g>\n",
       "<g fill=\"rgb(0%, 0%, 0%)\" fill-opacity=\"1\">\n",
       "<use xlink:href=\"#glyph-19-0-003d4166\" x=\"326.649376\" y=\"235.84964\"/>\n",
       "</g>\n",
       "<g fill=\"rgb(0%, 0%, 0%)\" fill-opacity=\"1\">\n",
       "<use xlink:href=\"#glyph-20-0-003d4166\" x=\"413.698196\" y=\"150.876629\"/>\n",
       "</g>\n",
       "<g fill=\"rgb(0%, 0%, 0%)\" fill-opacity=\"1\">\n",
       "<use xlink:href=\"#glyph-12-1-003d4166\" x=\"418.121155\" y=\"155.299587\"/>\n",
       "</g>\n",
       "<g fill=\"rgb(0%, 0%, 0%)\" fill-opacity=\"1\">\n",
       "<use xlink:href=\"#glyph-12-0-003d4166\" x=\"420.332634\" y=\"157.511066\"/>\n",
       "</g>\n",
       "</svg>\n"
      ]
     },
     "metadata": {},
     "output_type": "display_data"
    }
   ],
   "source": [
    "draw(g, layout = coord);"
   ]
  },
  {
   "cell_type": "code",
   "execution_count": 90,
   "metadata": {},
   "outputs": [
    {
     "name": "stdout",
     "output_type": "stream",
     "text": [
      "Set parameter Username\n",
      "Academic license - for non-commercial use only - expires 2024-11-27\n",
      "Set parameter DualReductions to value 0\n",
      "Set parameter LogFile to value \"my_log_file.txt\"\n"
     ]
    },
    {
     "data": {
      "text/latex": [
       "\\begin{aligned}  & c\\_w_{1,1} - cn1\\_χ_{1,1,1} + cn1\\_Ψ_{1,1,1} \\geq 0\\\\\n",
       " & c\\_w_{1,2} - cn1\\_χ_{1,1,2} + cn1\\_Ψ_{1,1,2} \\geq 0\\\\\n",
       " & c\\_w_{1,1} - cn1\\_χ_{1,2,1} + cn1\\_Ψ_{1,2,1} \\geq 0\\\\\n",
       " & c\\_w_{1,3} - cn1\\_χ_{1,2,3} + cn1\\_Ψ_{1,2,3} \\geq 0\\\\\n",
       " & c\\_w_{1,4} - cn1\\_χ_{1,2,4} + cn1\\_Ψ_{1,2,4} \\geq 0\\\\\n",
       " & c\\_w_{1,3} - cn1\\_χ_{1,3,3} + cn1\\_Ψ_{1,3,3} \\geq 0\\\\\n",
       " & c\\_w_{1,5} - cn1\\_χ_{1,3,5} + cn1\\_Ψ_{1,3,5} \\geq 0\\\\\n",
       " & c\\_w_{1,2} - cn1\\_χ_{1,4,2} + cn1\\_Ψ_{1,4,2} \\geq 0\\\\\n",
       " & c\\_w_{1,4} - cn1\\_χ_{1,4,4} + cn1\\_Ψ_{1,4,4} \\geq 0\\\\\n",
       " & c\\_w_{1,5} - cn1\\_χ_{1,4,5} + cn1\\_Ψ_{1,4,5} \\geq 0\\\\\n",
       " & c\\_w_{2,1} - cn1\\_χ_{2,1,1} + cn1\\_Ψ_{2,1,1} \\geq 0\\\\\n",
       " & c\\_w_{2,2} - cn1\\_χ_{2,1,2} + cn1\\_Ψ_{2,1,2} \\geq 0\\\\\n",
       " & c\\_w_{2,1} - cn1\\_χ_{2,2,1} + cn1\\_Ψ_{2,2,1} \\geq 0\\\\\n",
       " & c\\_w_{2,3} - cn1\\_χ_{2,2,3} + cn1\\_Ψ_{2,2,3} \\geq 0\\\\\n",
       " & c\\_w_{2,4} - cn1\\_χ_{2,2,4} + cn1\\_Ψ_{2,2,4} \\geq 0\\\\\n",
       " & c\\_w_{2,3} - cn1\\_χ_{2,3,3} + cn1\\_Ψ_{2,3,3} \\geq 0\\\\\n",
       " & c\\_w_{2,5} - cn1\\_χ_{2,3,5} + cn1\\_Ψ_{2,3,5} \\geq 0\\\\\n",
       " & c\\_w_{2,2} - cn1\\_χ_{2,4,2} + cn1\\_Ψ_{2,4,2} \\geq 0\\\\\n",
       " & c\\_w_{2,4} - cn1\\_χ_{2,4,4} + cn1\\_Ψ_{2,4,4} \\geq 0\\\\\n",
       " & c\\_w_{2,5} - cn1\\_χ_{2,4,5} + cn1\\_Ψ_{2,4,5} \\geq 0\\\\\n",
       " & c\\_w_{3,1} - cn1\\_χ_{3,1,1} + cn1\\_Ψ_{3,1,1} \\geq 0\\\\\n",
       " & c\\_w_{3,2} - cn1\\_χ_{3,1,2} + cn1\\_Ψ_{3,1,2} \\geq 0\\\\\n",
       " & c\\_w_{3,1} - cn1\\_χ_{3,2,1} + cn1\\_Ψ_{3,2,1} \\geq 0\\\\\n",
       " & c\\_w_{3,3} - cn1\\_χ_{3,2,3} + cn1\\_Ψ_{3,2,3} \\geq 0\\\\\n",
       " & c\\_w_{3,4} - cn1\\_χ_{3,2,4} + cn1\\_Ψ_{3,2,4} \\geq 0\\\\\n",
       " & c\\_w_{3,3} - cn1\\_χ_{3,3,3} + cn1\\_Ψ_{3,3,3} \\geq 0\\\\\n",
       " & c\\_w_{3,5} - cn1\\_χ_{3,3,5} + cn1\\_Ψ_{3,3,5} \\geq 0\\\\\n",
       " & c\\_w_{3,2} - cn1\\_χ_{3,4,2} + cn1\\_Ψ_{3,4,2} \\geq 0\\\\\n",
       " & c\\_w_{3,4} - cn1\\_χ_{3,4,4} + cn1\\_Ψ_{3,4,4} \\geq 0\\\\\n",
       " & c\\_w_{3,5} - cn1\\_χ_{3,4,5} + cn1\\_Ψ_{3,4,5} \\geq 0\\\\\n",
       " & c\\_w_{4,1} - cn1\\_χ_{4,1,1} + cn1\\_Ψ_{4,1,1} \\geq 0\\\\\n",
       " & c\\_w_{4,2} - cn1\\_χ_{4,1,2} + cn1\\_Ψ_{4,1,2} \\geq 0\\\\\n",
       " & c\\_w_{4,1} - cn1\\_χ_{4,2,1} + cn1\\_Ψ_{4,2,1} \\geq 0\\\\\n",
       " & c\\_w_{4,3} - cn1\\_χ_{4,2,3} + cn1\\_Ψ_{4,2,3} \\geq 0\\\\\n",
       " & c\\_w_{4,4} - cn1\\_χ_{4,2,4} + cn1\\_Ψ_{4,2,4} \\geq 0\\\\\n",
       " & c\\_w_{4,3} - cn1\\_χ_{4,3,3} + cn1\\_Ψ_{4,3,3} \\geq 0\\\\\n",
       " & c\\_w_{4,5} - cn1\\_χ_{4,3,5} + cn1\\_Ψ_{4,3,5} \\geq 0\\\\\n",
       " & c\\_w_{4,2} - cn1\\_χ_{4,4,2} + cn1\\_Ψ_{4,4,2} \\geq 0\\\\\n",
       " & c\\_w_{4,4} - cn1\\_χ_{4,4,4} + cn1\\_Ψ_{4,4,4} \\geq 0\\\\\n",
       " & c\\_w_{4,5} - cn1\\_χ_{4,4,5} + cn1\\_Ψ_{4,4,5} \\geq 0\\\\\n",
       " & c\\_w_{5,1} - cn1\\_χ_{5,1,1} + cn1\\_Ψ_{5,1,1} \\geq 0\\\\\n",
       " & c\\_w_{5,2} - cn1\\_χ_{5,1,2} + cn1\\_Ψ_{5,1,2} \\geq 0\\\\\n",
       " & c\\_w_{5,1} - cn1\\_χ_{5,2,1} + cn1\\_Ψ_{5,2,1} \\geq 0\\\\\n",
       " & c\\_w_{5,3} - cn1\\_χ_{5,2,3} + cn1\\_Ψ_{5,2,3} \\geq 0\\\\\n",
       " & c\\_w_{5,4} - cn1\\_χ_{5,2,4} + cn1\\_Ψ_{5,2,4} \\geq 0\\\\\n",
       " & c\\_w_{5,3} - cn1\\_χ_{5,3,3} + cn1\\_Ψ_{5,3,3} \\geq 0\\\\\n",
       " & c\\_w_{5,5} - cn1\\_χ_{5,3,5} + cn1\\_Ψ_{5,3,5} \\geq 0\\\\\n",
       " & c\\_w_{5,2} - cn1\\_χ_{5,4,2} + cn1\\_Ψ_{5,4,2} \\geq 0\\\\\n",
       " & c\\_w_{5,4} - cn1\\_χ_{5,4,4} + cn1\\_Ψ_{5,4,4} \\geq 0\\\\\n",
       " & c\\_w_{5,5} - cn1\\_χ_{5,4,5} + cn1\\_Ψ_{5,4,5} \\geq 0\\\\\n",
       " & -cn1\\_Ψ_{1,2,1} + cn1\\_hat\\_Ψ_{1,1} \\geq 0\\\\\n",
       " & -cn1\\_Ψ_{2,2,1} + cn1\\_hat\\_Ψ_{2,1} \\geq 0\\\\\n",
       " & -cn1\\_Ψ_{3,2,1} + cn1\\_hat\\_Ψ_{3,1} \\geq 0\\\\\n",
       " & -cn1\\_Ψ_{4,2,1} + cn1\\_hat\\_Ψ_{4,1} \\geq 0\\\\\n",
       " & -cn1\\_Ψ_{5,2,1} + cn1\\_hat\\_Ψ_{5,1} \\geq 0\\\\\n",
       " & -v\\_bus_{1} + cn1\\_hatπbus_{1,1} - cn1\\_hat\\_Ψ_{1,1} \\geq -1\\\\\n",
       " & -v\\_bus_{1} + cn1\\_hatπbus_{2,1} - cn1\\_hat\\_Ψ_{2,1} \\geq -1\\\\\n",
       " & -v\\_bus_{1} + cn1\\_hatπbus_{3,1} - cn1\\_hat\\_Ψ_{3,1} \\geq -1\\\\\n",
       " & -v\\_bus_{1} + cn1\\_hatπbus_{4,1} - cn1\\_hat\\_Ψ_{4,1} \\geq -1\\\\\n",
       " & -v\\_bus_{1} + cn1\\_hatπbus_{5,1} - cn1\\_hat\\_Ψ_{5,1} \\geq -1\\\\\n",
       " & cn1\\_πbus_{1,1} - cn1\\_Ψ_{1,2,1} \\geq 0\\\\\n",
       " & cn1\\_πbus_{2,1} - cn1\\_Ψ_{2,2,1} \\geq 0\\\\\n",
       " & cn1\\_πbus_{3,1} - cn1\\_Ψ_{3,2,1} \\geq 0\\\\\n",
       " & cn1\\_πbus_{4,1} - cn1\\_Ψ_{4,2,1} \\geq 0\\\\\n",
       " & cn1\\_πbus_{5,1} - cn1\\_Ψ_{5,2,1} \\geq 0\\\\\n",
       " & cn1\\_b_{1} + cn1\\_Ψ_{1,1,1} + cn1\\_Ψ_{1,2,1} \\geq 1\\\\\n",
       " & cn1\\_b_{2} + cn1\\_Ψ_{2,1,2} + cn1\\_Ψ_{2,4,2} \\geq 1\\\\\n",
       " & cn1\\_b_{3} + cn1\\_Ψ_{3,2,3} + cn1\\_Ψ_{3,3,3} \\geq 1\\\\\n",
       " & cn1\\_b_{4} + cn1\\_Ψ_{4,2,4} + cn1\\_Ψ_{4,4,4} \\geq 1\\\\\n",
       " & cn1\\_b_{5} + cn1\\_Ψ_{5,3,5} + cn1\\_Ψ_{5,4,5} \\geq 1\\\\\n",
       " & -cn1\\_χ_{1,1,1} + cn1\\_Ψ_{1,1,1} \\leq 0\\\\\n",
       " & c\\_w_{1,1} + cn1\\_Ψ_{1,1,1} \\leq 1\\\\\n",
       " & -cn1\\_χ_{1,1,2} + cn1\\_Ψ_{1,1,2} \\leq 0\\\\\n",
       " & c\\_w_{1,2} + cn1\\_Ψ_{1,1,2} \\leq 1\\\\\n",
       " & -cn1\\_χ_{1,2,1} + cn1\\_Ψ_{1,2,1} \\leq 0\\\\\n",
       " & c\\_w_{1,1} + cn1\\_Ψ_{1,2,1} \\leq 1\\\\\n",
       " & -cn1\\_χ_{1,2,3} + cn1\\_Ψ_{1,2,3} \\leq 0\\\\\n",
       " & c\\_w_{1,3} + cn1\\_Ψ_{1,2,3} \\leq 1\\\\\n",
       " & -cn1\\_χ_{1,2,4} + cn1\\_Ψ_{1,2,4} \\leq 0\\\\\n",
       " & c\\_w_{1,4} + cn1\\_Ψ_{1,2,4} \\leq 1\\\\\n",
       " & -cn1\\_χ_{1,3,3} + cn1\\_Ψ_{1,3,3} \\leq 0\\\\\n",
       " & c\\_w_{1,3} + cn1\\_Ψ_{1,3,3} \\leq 1\\\\\n",
       " & -cn1\\_χ_{1,3,5} + cn1\\_Ψ_{1,3,5} \\leq 0\\\\\n",
       " & c\\_w_{1,5} + cn1\\_Ψ_{1,3,5} \\leq 1\\\\\n",
       " & -cn1\\_χ_{1,4,2} + cn1\\_Ψ_{1,4,2} \\leq 0\\\\\n",
       " & c\\_w_{1,2} + cn1\\_Ψ_{1,4,2} \\leq 1\\\\\n",
       " & -cn1\\_χ_{1,4,4} + cn1\\_Ψ_{1,4,4} \\leq 0\\\\\n",
       " & c\\_w_{1,4} + cn1\\_Ψ_{1,4,4} \\leq 1\\\\\n",
       " & -cn1\\_χ_{1,4,5} + cn1\\_Ψ_{1,4,5} \\leq 0\\\\\n",
       " & c\\_w_{1,5} + cn1\\_Ψ_{1,4,5} \\leq 1\\\\\n",
       " & -cn1\\_χ_{2,1,1} + cn1\\_Ψ_{2,1,1} \\leq 0\\\\\n",
       " & c\\_w_{2,1} + cn1\\_Ψ_{2,1,1} \\leq 1\\\\\n",
       " & -cn1\\_χ_{2,1,2} + cn1\\_Ψ_{2,1,2} \\leq 0\\\\\n",
       " & c\\_w_{2,2} + cn1\\_Ψ_{2,1,2} \\leq 1\\\\\n",
       " & -cn1\\_χ_{2,2,1} + cn1\\_Ψ_{2,2,1} \\leq 0\\\\\n",
       " & c\\_w_{2,1} + cn1\\_Ψ_{2,2,1} \\leq 1\\\\\n",
       " & -cn1\\_χ_{2,2,3} + cn1\\_Ψ_{2,2,3} \\leq 0\\\\\n",
       " & c\\_w_{2,3} + cn1\\_Ψ_{2,2,3} \\leq 1\\\\\n",
       " & -cn1\\_χ_{2,2,4} + cn1\\_Ψ_{2,2,4} \\leq 0\\\\\n",
       " & c\\_w_{2,4} + cn1\\_Ψ_{2,2,4} \\leq 1\\\\\n",
       " & -cn1\\_χ_{2,3,3} + cn1\\_Ψ_{2,3,3} \\leq 0\\\\\n",
       " & c\\_w_{2,3} + cn1\\_Ψ_{2,3,3} \\leq 1\\\\\n",
       " & -cn1\\_χ_{2,3,5} + cn1\\_Ψ_{2,3,5} \\leq 0\\\\\n",
       " & c\\_w_{2,5} + cn1\\_Ψ_{2,3,5} \\leq 1\\\\\n",
       " & -cn1\\_χ_{2,4,2} + cn1\\_Ψ_{2,4,2} \\leq 0\\\\\n",
       " & c\\_w_{2,2} + cn1\\_Ψ_{2,4,2} \\leq 1\\\\\n",
       " & -cn1\\_χ_{2,4,4} + cn1\\_Ψ_{2,4,4} \\leq 0\\\\\n",
       " & c\\_w_{2,4} + cn1\\_Ψ_{2,4,4} \\leq 1\\\\\n",
       " & -cn1\\_χ_{2,4,5} + cn1\\_Ψ_{2,4,5} \\leq 0\\\\\n",
       " & c\\_w_{2,5} + cn1\\_Ψ_{2,4,5} \\leq 1\\\\\n",
       " & -cn1\\_χ_{3,1,1} + cn1\\_Ψ_{3,1,1} \\leq 0\\\\\n",
       " & c\\_w_{3,1} + cn1\\_Ψ_{3,1,1} \\leq 1\\\\\n",
       " & -cn1\\_χ_{3,1,2} + cn1\\_Ψ_{3,1,2} \\leq 0\\\\\n",
       " & c\\_w_{3,2} + cn1\\_Ψ_{3,1,2} \\leq 1\\\\\n",
       " & -cn1\\_χ_{3,2,1} + cn1\\_Ψ_{3,2,1} \\leq 0\\\\\n",
       " & c\\_w_{3,1} + cn1\\_Ψ_{3,2,1} \\leq 1\\\\\n",
       " & -cn1\\_χ_{3,2,3} + cn1\\_Ψ_{3,2,3} \\leq 0\\\\\n",
       " & c\\_w_{3,3} + cn1\\_Ψ_{3,2,3} \\leq 1\\\\\n",
       " & -cn1\\_χ_{3,2,4} + cn1\\_Ψ_{3,2,4} \\leq 0\\\\\n",
       " & c\\_w_{3,4} + cn1\\_Ψ_{3,2,4} \\leq 1\\\\\n",
       " & -cn1\\_χ_{3,3,3} + cn1\\_Ψ_{3,3,3} \\leq 0\\\\\n",
       " & c\\_w_{3,3} + cn1\\_Ψ_{3,3,3} \\leq 1\\\\\n",
       " & -cn1\\_χ_{3,3,5} + cn1\\_Ψ_{3,3,5} \\leq 0\\\\\n",
       " & c\\_w_{3,5} + cn1\\_Ψ_{3,3,5} \\leq 1\\\\\n",
       " & -cn1\\_χ_{3,4,2} + cn1\\_Ψ_{3,4,2} \\leq 0\\\\\n",
       " & c\\_w_{3,2} + cn1\\_Ψ_{3,4,2} \\leq 1\\\\\n",
       " & -cn1\\_χ_{3,4,4} + cn1\\_Ψ_{3,4,4} \\leq 0\\\\\n",
       " & c\\_w_{3,4} + cn1\\_Ψ_{3,4,4} \\leq 1\\\\\n",
       " & -cn1\\_χ_{3,4,5} + cn1\\_Ψ_{3,4,5} \\leq 0\\\\\n",
       " & c\\_w_{3,5} + cn1\\_Ψ_{3,4,5} \\leq 1\\\\\n",
       " & -cn1\\_χ_{4,1,1} + cn1\\_Ψ_{4,1,1} \\leq 0\\\\\n",
       " & c\\_w_{4,1} + cn1\\_Ψ_{4,1,1} \\leq 1\\\\\n",
       " & -cn1\\_χ_{4,1,2} + cn1\\_Ψ_{4,1,2} \\leq 0\\\\\n",
       " & c\\_w_{4,2} + cn1\\_Ψ_{4,1,2} \\leq 1\\\\\n",
       " & -cn1\\_χ_{4,2,1} + cn1\\_Ψ_{4,2,1} \\leq 0\\\\\n",
       " & c\\_w_{4,1} + cn1\\_Ψ_{4,2,1} \\leq 1\\\\\n",
       " & -cn1\\_χ_{4,2,3} + cn1\\_Ψ_{4,2,3} \\leq 0\\\\\n",
       " & c\\_w_{4,3} + cn1\\_Ψ_{4,2,3} \\leq 1\\\\\n",
       " & -cn1\\_χ_{4,2,4} + cn1\\_Ψ_{4,2,4} \\leq 0\\\\\n",
       " & c\\_w_{4,4} + cn1\\_Ψ_{4,2,4} \\leq 1\\\\\n",
       " & -cn1\\_χ_{4,3,3} + cn1\\_Ψ_{4,3,3} \\leq 0\\\\\n",
       " & c\\_w_{4,3} + cn1\\_Ψ_{4,3,3} \\leq 1\\\\\n",
       " & -cn1\\_χ_{4,3,5} + cn1\\_Ψ_{4,3,5} \\leq 0\\\\\n",
       " & c\\_w_{4,5} + cn1\\_Ψ_{4,3,5} \\leq 1\\\\\n",
       " & -cn1\\_χ_{4,4,2} + cn1\\_Ψ_{4,4,2} \\leq 0\\\\\n",
       " & c\\_w_{4,2} + cn1\\_Ψ_{4,4,2} \\leq 1\\\\\n",
       " & -cn1\\_χ_{4,4,4} + cn1\\_Ψ_{4,4,4} \\leq 0\\\\\n",
       " & c\\_w_{4,4} + cn1\\_Ψ_{4,4,4} \\leq 1\\\\\n",
       " & -cn1\\_χ_{4,4,5} + cn1\\_Ψ_{4,4,5} \\leq 0\\\\\n",
       " & c\\_w_{4,5} + cn1\\_Ψ_{4,4,5} \\leq 1\\\\\n",
       " & -cn1\\_χ_{5,1,1} + cn1\\_Ψ_{5,1,1} \\leq 0\\\\\n",
       " & c\\_w_{5,1} + cn1\\_Ψ_{5,1,1} \\leq 1\\\\\n",
       " & -cn1\\_χ_{5,1,2} + cn1\\_Ψ_{5,1,2} \\leq 0\\\\\n",
       " & c\\_w_{5,2} + cn1\\_Ψ_{5,1,2} \\leq 1\\\\\n",
       " & -cn1\\_χ_{5,2,1} + cn1\\_Ψ_{5,2,1} \\leq 0\\\\\n",
       " & c\\_w_{5,1} + cn1\\_Ψ_{5,2,1} \\leq 1\\\\\n",
       " & -cn1\\_χ_{5,2,3} + cn1\\_Ψ_{5,2,3} \\leq 0\\\\\n",
       " & c\\_w_{5,3} + cn1\\_Ψ_{5,2,3} \\leq 1\\\\\n",
       " & -cn1\\_χ_{5,2,4} + cn1\\_Ψ_{5,2,4} \\leq 0\\\\\n",
       " & c\\_w_{5,4} + cn1\\_Ψ_{5,2,4} \\leq 1\\\\\n",
       " & -cn1\\_χ_{5,3,3} + cn1\\_Ψ_{5,3,3} \\leq 0\\\\\n",
       " & c\\_w_{5,3} + cn1\\_Ψ_{5,3,3} \\leq 1\\\\\n",
       " & -cn1\\_χ_{5,3,5} + cn1\\_Ψ_{5,3,5} \\leq 0\\\\\n",
       " & c\\_w_{5,5} + cn1\\_Ψ_{5,3,5} \\leq 1\\\\\n",
       " & -cn1\\_χ_{5,4,2} + cn1\\_Ψ_{5,4,2} \\leq 0\\\\\n",
       " & c\\_w_{5,2} + cn1\\_Ψ_{5,4,2} \\leq 1\\\\\n",
       " & -cn1\\_χ_{5,4,4} + cn1\\_Ψ_{5,4,4} \\leq 0\\\\\n",
       " & c\\_w_{5,4} + cn1\\_Ψ_{5,4,4} \\leq 1\\\\\n",
       " & -cn1\\_χ_{5,4,5} + cn1\\_Ψ_{5,4,5} \\leq 0\\\\\n",
       " & c\\_w_{5,5} + cn1\\_Ψ_{5,4,5} \\leq 1\\\\\n",
       " & -cn1\\_Ψ_{1,2,1} + cn1\\_hat\\_Ψ_{1,1} \\leq 0\\\\\n",
       " & -cn1\\_Ψ_{2,2,1} + cn1\\_hat\\_Ψ_{2,1} \\leq 0\\\\\n",
       " & -cn1\\_Ψ_{3,2,1} + cn1\\_hat\\_Ψ_{3,1} \\leq 0\\\\\n",
       " & -cn1\\_Ψ_{4,2,1} + cn1\\_hat\\_Ψ_{4,1} \\leq 0\\\\\n",
       " & -cn1\\_Ψ_{5,2,1} + cn1\\_hat\\_Ψ_{5,1} \\leq 0\\\\\n",
       " & cn1\\_hatπbus_{1,1} - cn1\\_hat\\_Ψ_{1,1} \\leq 0\\\\\n",
       " & cn1\\_hatπbus_{2,1} - cn1\\_hat\\_Ψ_{2,1} \\leq 0\\\\\n",
       " & cn1\\_hatπbus_{3,1} - cn1\\_hat\\_Ψ_{3,1} \\leq 0\\\\\n",
       " & cn1\\_hatπbus_{4,1} - cn1\\_hat\\_Ψ_{4,1} \\leq 0\\\\\n",
       " & cn1\\_hatπbus_{5,1} - cn1\\_hat\\_Ψ_{5,1} \\leq 0\\\\\n",
       " & cn1\\_πbus_{1,1} - cn1\\_Ψ_{1,2,1} - cn1\\_Ψ_{1,2,3} - cn1\\_Ψ_{1,2,4} \\leq 0\\\\\n",
       " & cn1\\_πbus_{2,1} - cn1\\_Ψ_{2,2,1} - cn1\\_Ψ_{2,2,3} - cn1\\_Ψ_{2,2,4} \\leq 0\\\\\n",
       " & cn1\\_πbus_{3,1} - cn1\\_Ψ_{3,2,1} - cn1\\_Ψ_{3,2,3} - cn1\\_Ψ_{3,2,4} \\leq 0\\\\\n",
       " & cn1\\_πbus_{4,1} - cn1\\_Ψ_{4,2,1} - cn1\\_Ψ_{4,2,3} - cn1\\_Ψ_{4,2,4} \\leq 0\\\\\n",
       " & cn1\\_πbus_{5,1} - cn1\\_Ψ_{5,2,1} - cn1\\_Ψ_{5,2,3} - cn1\\_Ψ_{5,2,4} \\leq 0\\\\\n",
       " & -cn1\\_b_{1} + cn1\\_Ψ_{1,1,1} + cn1\\_Ψ_{1,2,1} \\leq 1\\\\\n",
       " & -cn1\\_b_{2} + cn1\\_Ψ_{2,1,2} + cn1\\_Ψ_{2,4,2} \\leq 1\\\\\n",
       " & -cn1\\_b_{3} + cn1\\_Ψ_{3,2,3} + cn1\\_Ψ_{3,3,3} \\leq 1\\\\\n",
       " & -cn1\\_b_{4} + cn1\\_Ψ_{4,2,4} + cn1\\_Ψ_{4,4,4} \\leq 1\\\\\n",
       " & -cn1\\_b_{5} + cn1\\_Ψ_{5,3,5} + cn1\\_Ψ_{5,4,5} \\leq 1\\\\\n",
       " & cn1\\_Ψ_{1,1,1} \\in \\{0, 1\\}\\\\\n",
       " & cn1\\_Ψ_{1,1,2} \\in \\{0, 1\\}\\\\\n",
       " & cn1\\_Ψ_{1,2,1} \\in \\{0, 1\\}\\\\\n",
       " & cn1\\_Ψ_{1,2,3} \\in \\{0, 1\\}\\\\\n",
       " & cn1\\_Ψ_{1,2,4} \\in \\{0, 1\\}\\\\\n",
       " & cn1\\_Ψ_{1,3,3} \\in \\{0, 1\\}\\\\\n",
       " & cn1\\_Ψ_{1,3,5} \\in \\{0, 1\\}\\\\\n",
       " & cn1\\_Ψ_{1,4,2} \\in \\{0, 1\\}\\\\\n",
       " & cn1\\_Ψ_{1,4,4} \\in \\{0, 1\\}\\\\\n",
       " & cn1\\_Ψ_{1,4,5} \\in \\{0, 1\\}\\\\\n",
       " & cn1\\_Ψ_{2,1,1} \\in \\{0, 1\\}\\\\\n",
       " & cn1\\_Ψ_{2,1,2} \\in \\{0, 1\\}\\\\\n",
       " & cn1\\_Ψ_{2,2,1} \\in \\{0, 1\\}\\\\\n",
       " & cn1\\_Ψ_{2,2,3} \\in \\{0, 1\\}\\\\\n",
       " & cn1\\_Ψ_{2,2,4} \\in \\{0, 1\\}\\\\\n",
       " & cn1\\_Ψ_{2,3,3} \\in \\{0, 1\\}\\\\\n",
       " & cn1\\_Ψ_{2,3,5} \\in \\{0, 1\\}\\\\\n",
       " & cn1\\_Ψ_{2,4,2} \\in \\{0, 1\\}\\\\\n",
       " & cn1\\_Ψ_{2,4,4} \\in \\{0, 1\\}\\\\\n",
       " & cn1\\_Ψ_{2,4,5} \\in \\{0, 1\\}\\\\\n",
       " & cn1\\_Ψ_{3,1,1} \\in \\{0, 1\\}\\\\\n",
       " & cn1\\_Ψ_{3,1,2} \\in \\{0, 1\\}\\\\\n",
       " & cn1\\_Ψ_{3,2,1} \\in \\{0, 1\\}\\\\\n",
       " & cn1\\_Ψ_{3,2,3} \\in \\{0, 1\\}\\\\\n",
       " & cn1\\_Ψ_{3,2,4} \\in \\{0, 1\\}\\\\\n",
       " & cn1\\_Ψ_{3,3,3} \\in \\{0, 1\\}\\\\\n",
       " & cn1\\_Ψ_{3,3,5} \\in \\{0, 1\\}\\\\\n",
       " & cn1\\_Ψ_{3,4,2} \\in \\{0, 1\\}\\\\\n",
       " & cn1\\_Ψ_{3,4,4} \\in \\{0, 1\\}\\\\\n",
       " & cn1\\_Ψ_{3,4,5} \\in \\{0, 1\\}\\\\\n",
       " & cn1\\_Ψ_{4,1,1} \\in \\{0, 1\\}\\\\\n",
       " & cn1\\_Ψ_{4,1,2} \\in \\{0, 1\\}\\\\\n",
       " & cn1\\_Ψ_{4,2,1} \\in \\{0, 1\\}\\\\\n",
       " & cn1\\_Ψ_{4,2,3} \\in \\{0, 1\\}\\\\\n",
       " & cn1\\_Ψ_{4,2,4} \\in \\{0, 1\\}\\\\\n",
       " & cn1\\_Ψ_{4,3,3} \\in \\{0, 1\\}\\\\\n",
       " & cn1\\_Ψ_{4,3,5} \\in \\{0, 1\\}\\\\\n",
       " & cn1\\_Ψ_{4,4,2} \\in \\{0, 1\\}\\\\\n",
       " & cn1\\_Ψ_{4,4,4} \\in \\{0, 1\\}\\\\\n",
       " & cn1\\_Ψ_{4,4,5} \\in \\{0, 1\\}\\\\\n",
       " & cn1\\_Ψ_{5,1,1} \\in \\{0, 1\\}\\\\\n",
       " & cn1\\_Ψ_{5,1,2} \\in \\{0, 1\\}\\\\\n",
       " & cn1\\_Ψ_{5,2,1} \\in \\{0, 1\\}\\\\\n",
       " & cn1\\_Ψ_{5,2,3} \\in \\{0, 1\\}\\\\\n",
       " & cn1\\_Ψ_{5,2,4} \\in \\{0, 1\\}\\\\\n",
       " & cn1\\_Ψ_{5,3,3} \\in \\{0, 1\\}\\\\\n",
       " & cn1\\_Ψ_{5,3,5} \\in \\{0, 1\\}\\\\\n",
       " & cn1\\_Ψ_{5,4,2} \\in \\{0, 1\\}\\\\\n",
       " & cn1\\_Ψ_{5,4,4} \\in \\{0, 1\\}\\\\\n",
       " & cn1\\_Ψ_{5,4,5} \\in \\{0, 1\\}\\\\\n",
       " & cn1\\_hat\\_Ψ_{1,1} \\in \\{0, 1\\}\\\\\n",
       " & cn1\\_hat\\_Ψ_{2,1} \\in \\{0, 1\\}\\\\\n",
       " & cn1\\_hat\\_Ψ_{3,1} \\in \\{0, 1\\}\\\\\n",
       " & cn1\\_hat\\_Ψ_{4,1} \\in \\{0, 1\\}\\\\\n",
       " & cn1\\_hat\\_Ψ_{5,1} \\in \\{0, 1\\}\\\\ \\end{aligned}"
      ],
      "text/plain": [
       "\"\\\\begin{aligned}  & c\\\\_w_{1,1} - cn1\\\\_χ_{1,1,1} + cn1\\\\_Ψ_{1,1,1} \\\\geq 0\\\\\\\\\\n & c\\\\_w_{1,2} - cn1\\\\_χ_{1,1,2} + cn1\\\\_Ψ_{1,1,2} \\\\geq 0\\\\\\\\\\n & c\\\\_w_{1,1} - cn1\\\\_χ_{1,2,1} + cn1\\\\_Ψ_{1,2,1} \\\\geq 0\\\\\\\\\\n & c\\\\_w_{1,3} - cn1\\\\_χ_{1,2,3} + cn1\\\\_Ψ_{1,2,3} \\\\geq 0\\\\\\\\\\n & c\\\\_w_{1,4} - cn1\\\\_χ_{1,\"\u001b[93m\u001b[1m ⋯ 11059 bytes ⋯ \u001b[22m\u001b[39m\"{0, 1\\\\}\\\\\\\\\\n & cn1\\\\_Ψ_{5,4,4} \\\\in \\\\{0, 1\\\\}\\\\\\\\\\n & cn1\\\\_Ψ_{5,4,5} \\\\in \\\\{0, 1\\\\}\\\\\\\\\\n & cn1\\\\_hat\\\\_Ψ_{1,1} \\\\in \\\\{0, 1\\\\}\\\\\\\\\\n & cn1\\\\_hat\\\\_Ψ_{2,1} \\\\in \\\\{0, 1\\\\}\\\\\\\\\\n & cn1\\\\_hat\\\\_Ψ_{3,1} \\\\in \\\\{0, 1\\\\}\\\\\\\\\\n & cn1\\\\_hat\\\\_Ψ_{4,1} \\\\in \\\\{0, 1\\\\}\\\\\\\\\\n & cn1\\\\_hat\\\\_Ψ_{5,1} \\\\in \\\\{0, 1\\\\}\\\\\\\\ \\\\end{aligned}\""
      ]
     },
     "metadata": {},
     "output_type": "display_data"
    }
   ],
   "source": [
    "g, bus_confs, contingencies, coord = create_mini_case(false)\n",
    "is_single_ρ = true\n",
    "ρ_min_bound = 0.\n",
    "n_1_connectedness = false\n",
    "allow_branch_openings = true\n",
    "model = secured_dc_OTS(g,\n",
    "                # contingencies = contingencies,\n",
    "                # contingencies =1:20,#:20, #vcat(1:16,19:20),#,19,20],\n",
    "                contingencies = 1:ne(g),\n",
    "                is_single_ρ=is_single_ρ,\n",
    "                ρ_min_bound=ρ_min_bound,\n",
    "                n_1_connectedness = n_1_connectedness,\n",
    "                allow_branch_openings = allow_branch_openings,\n",
    "                bus_confs = bus_confs,\n",
    "                )\n",
    "filter_latex_formulation(model, \"Ψ\")"
   ]
  },
  {
   "cell_type": "code",
   "execution_count": 101,
   "metadata": {},
   "outputs": [
    {
     "data": {
      "image/png": "[encoded data removed]",
      "image/svg+xml": [
       "<?xml version=\"1.0\" encoding=\"UTF-8\"?>\n",
       "<svg xmlns=\"http://www.w3.org/2000/svg\" xmlns:xlink=\"http://www.w3.org/1999/xlink\" width=\"675\" height=\"450\" viewBox=\"0 0 675 450\">\n",
       "<defs>\n",
       "<g>\n",
       "<g id=\"glyph-0-0-f8a2e1a8\">\n",
       "<path d=\"M 3.90625 0 C 3.90625 0 2.90625 0 2.90625 0 C 2.90625 0 2.90625 -5.6875 2.90625 -5.6875 C 2.90625 -5.6875 1.140625 -5.6875 1.140625 -5.6875 C 1.140625 -5.6875 1.140625 -6.390625 1.140625 -6.390625 C 2.671875 -6.578125 2.90625 -6.75 3.25 -7.96875 C 3.25 -7.96875 3.90625 -7.96875 3.90625 -7.96875 C 3.90625 -7.96875 3.90625 0 3.90625 0 Z M 3.90625 0 \"/>\n",
       "</g>\n",
       "<g id=\"glyph-1-0-f8a2e1a8\">\n",
       "<path d=\"M 3.28125 2.390625 C 3.28125 2.390625 2.65625 2.390625 2.65625 2.390625 C 1.53125 0.90625 0.828125 -1.140625 0.828125 -2.90625 C 0.828125 -4.6875 1.53125 -6.734375 2.65625 -8.203125 C 2.65625 -8.203125 3.28125 -8.203125 3.28125 -8.203125 C 2.28125 -6.609375 1.734375 -4.703125 1.734375 -2.90625 C 1.734375 -1.109375 2.28125 0.78125 3.28125 2.390625 Z M 3.28125 2.390625 \"/>\n",
       "</g>\n",
       "<g id=\"glyph-1-1-f8a2e1a8\">\n",
       "<path d=\"M 3.1875 -2.703125 C 3.1875 -2.703125 0.515625 -2.703125 0.515625 -2.703125 C 0.515625 -2.703125 0.515625 -3.515625 0.515625 -3.515625 C 0.515625 -3.515625 3.1875 -3.515625 3.1875 -3.515625 C 3.1875 -3.515625 3.1875 -2.703125 3.1875 -2.703125 Z M 3.1875 -2.703125 \"/>\n",
       "</g>\n",
       "<g id=\"glyph-1-2-f8a2e1a8\">\n",
       "<path d=\"M 5.703125 -3.84375 C 5.703125 -1.21875 4.78125 0.171875 3.09375 0.171875 C 1.390625 0.171875 0.484375 -1.21875 0.484375 -3.90625 C 0.484375 -6.578125 1.375 -7.96875 3.09375 -7.96875 C 4.828125 -7.96875 5.703125 -6.609375 5.703125 -3.84375 Z M 4.6875 -3.921875 C 4.6875 -6.0625 4.15625 -7.09375 3.09375 -7.09375 C 2.03125 -7.09375 1.5 -6.078125 1.5 -3.890625 C 1.5 -1.703125 2.03125 -0.65625 3.078125 -0.65625 C 4.171875 -0.65625 4.6875 -1.671875 4.6875 -3.921875 Z M 4.6875 -3.921875 \"/>\n",
       "</g>\n",
       "<g id=\"glyph-1-3-f8a2e1a8\">\n",
       "<path d=\"M 2.875 -2.90625 C 2.875 -1.140625 2.171875 0.90625 1.046875 2.390625 C 1.046875 2.390625 0.421875 2.390625 0.421875 2.390625 C 1.421875 0.78125 1.96875 -1.109375 1.96875 -2.90625 C 1.96875 -4.703125 1.421875 -6.59375 0.421875 -8.203125 C 0.421875 -8.203125 1.046875 -8.203125 1.046875 -8.203125 C 2.171875 -6.734375 2.875 -4.6875 2.875 -2.90625 Z M 2.875 -2.90625 \"/>\n",
       "</g>\n",
       "<g id=\"glyph-2-0-f8a2e1a8\">\n",
       "<path d=\"M 5.6875 -2.3125 C 5.6875 -0.8125 4.640625 0.171875 3 0.171875 C 1.359375 0.171875 0.484375 -0.625 0.359375 -2.40625 C 0.359375 -2.40625 1.34375 -2.40625 1.34375 -2.40625 C 1.421875 -1.25 1.953125 -0.703125 3.03125 -0.703125 C 4.0625 -0.703125 4.6875 -1.3125 4.6875 -2.3125 C 4.6875 -3.1875 4.125 -3.71875 3.03125 -3.71875 C 3.03125 -3.71875 2.484375 -3.71875 2.484375 -3.71875 C 2.484375 -3.71875 2.484375 -4.546875 2.484375 -4.546875 C 4.078125 -4.546875 4.4375 -4.890625 4.4375 -5.75 C 4.4375 -6.59375 3.921875 -7.109375 3.03125 -7.109375 C 2.03125 -7.109375 1.546875 -6.578125 1.515625 -5.40625 C 1.515625 -5.40625 0.53125 -5.40625 0.53125 -5.40625 C 0.5625 -7.09375 1.421875 -7.96875 3.03125 -7.96875 C 4.546875 -7.96875 5.453125 -7.15625 5.453125 -5.78125 C 5.453125 -4.984375 5.078125 -4.46875 4.34375 -4.171875 C 5.296875 -3.84375 5.6875 -3.28125 5.6875 -2.3125 Z M 5.6875 -2.3125 \"/>\n",
       "</g>\n",
       "<g id=\"glyph-3-0-f8a2e1a8\">\n",
       "<path d=\"M 2.15625 0 C 2.15625 0 0.984375 0 0.984375 0 C 0.984375 0 0.984375 -1.171875 0.984375 -1.171875 C 0.984375 -1.171875 2.15625 -1.171875 2.15625 -1.171875 C 2.15625 -1.171875 2.15625 0 2.15625 0 Z M 2.15625 0 \"/>\n",
       "</g>\n",
       "<g id=\"glyph-4-0-f8a2e1a8\">\n",
       "<path d=\"M 5.75 -5.640625 C 5.75 -4.65625 5.171875 -3.828125 4.0625 -3.234375 C 4.0625 -3.234375 2.9375 -2.625 2.9375 -2.625 C 1.953125 -2.046875 1.59375 -1.625 1.5 -0.984375 C 1.5 -0.984375 5.6875 -0.984375 5.6875 -0.984375 C 5.6875 -0.984375 5.6875 0 5.6875 0 C 5.6875 0 0.375 0 0.375 0 C 0.46875 -1.75 0.953125 -2.515625 2.625 -3.453125 C 2.625 -3.453125 3.65625 -4.03125 3.65625 -4.03125 C 4.359375 -4.4375 4.734375 -4.984375 4.734375 -5.609375 C 4.734375 -6.46875 4.0625 -7.109375 3.15625 -7.109375 C 2.1875 -7.109375 1.625 -6.546875 1.546875 -5.203125 C 1.546875 -5.203125 0.5625 -5.203125 0.5625 -5.203125 C 0.625 -7.140625 1.5625 -7.96875 3.1875 -7.96875 C 4.703125 -7.96875 5.75 -6.984375 5.75 -5.640625 Z M 5.75 -5.640625 \"/>\n",
       "</g>\n",
       "<g id=\"glyph-4-1-f8a2e1a8\">\n",
       "<path d=\"M 2.15625 0 C 2.15625 0 0.984375 0 0.984375 0 C 0.984375 0 0.984375 -1.171875 0.984375 -1.171875 C 0.984375 -1.171875 2.15625 -1.171875 2.15625 -1.171875 C 2.15625 -1.171875 2.15625 0 2.15625 0 Z M 2.15625 0 \"/>\n",
       "</g>\n",
       "<g id=\"glyph-5-0-f8a2e1a8\">\n",
       "<path d=\"M 3.28125 2.390625 C 3.28125 2.390625 2.65625 2.390625 2.65625 2.390625 C 1.53125 0.90625 0.828125 -1.140625 0.828125 -2.90625 C 0.828125 -4.6875 1.53125 -6.734375 2.65625 -8.203125 C 2.65625 -8.203125 3.28125 -8.203125 3.28125 -8.203125 C 2.28125 -6.609375 1.734375 -4.703125 1.734375 -2.90625 C 1.734375 -1.109375 2.28125 0.78125 3.28125 2.390625 Z M 3.28125 2.390625 \"/>\n",
       "</g>\n",
       "<g id=\"glyph-5-1-f8a2e1a8\">\n",
       "<path d=\"M 3.90625 0 C 3.90625 0 2.90625 0 2.90625 0 C 2.90625 0 2.90625 -5.6875 2.90625 -5.6875 C 2.90625 -5.6875 1.140625 -5.6875 1.140625 -5.6875 C 1.140625 -5.6875 1.140625 -6.390625 1.140625 -6.390625 C 2.671875 -6.578125 2.90625 -6.75 3.25 -7.96875 C 3.25 -7.96875 3.90625 -7.96875 3.90625 -7.96875 C 3.90625 -7.96875 3.90625 0 3.90625 0 Z M 3.90625 0 \"/>\n",
       "</g>\n",
       "<g id=\"glyph-5-2-f8a2e1a8\">\n",
       "<path d=\"M 2.875 -2.90625 C 2.875 -1.140625 2.171875 0.90625 1.046875 2.390625 C 1.046875 2.390625 0.421875 2.390625 0.421875 2.390625 C 1.421875 0.78125 1.96875 -1.109375 1.96875 -2.90625 C 1.96875 -4.703125 1.421875 -6.59375 0.421875 -8.203125 C 0.421875 -8.203125 1.046875 -8.203125 1.046875 -8.203125 C 2.171875 -6.734375 2.875 -4.6875 2.875 -2.90625 Z M 2.875 -2.90625 \"/>\n",
       "</g>\n",
       "<g id=\"glyph-6-0-f8a2e1a8\">\n",
       "<path d=\"M 5.703125 -3.84375 C 5.703125 -1.21875 4.78125 0.171875 3.09375 0.171875 C 1.390625 0.171875 0.484375 -1.21875 0.484375 -3.90625 C 0.484375 -6.578125 1.375 -7.96875 3.09375 -7.96875 C 4.828125 -7.96875 5.703125 -6.609375 5.703125 -3.84375 Z M 4.6875 -3.921875 C 4.6875 -6.0625 4.15625 -7.09375 3.09375 -7.09375 C 2.03125 -7.09375 1.5 -6.078125 1.5 -3.890625 C 1.5 -1.703125 2.03125 -0.65625 3.078125 -0.65625 C 4.171875 -0.65625 4.6875 -1.671875 4.6875 -3.921875 Z M 4.6875 -3.921875 \"/>\n",
       "</g>\n",
       "<g id=\"glyph-7-0-f8a2e1a8\">\n",
       "<path d=\"M 5.6875 -2.3125 C 5.6875 -0.8125 4.640625 0.171875 3 0.171875 C 1.359375 0.171875 0.484375 -0.625 0.359375 -2.40625 C 0.359375 -2.40625 1.34375 -2.40625 1.34375 -2.40625 C 1.421875 -1.25 1.953125 -0.703125 3.03125 -0.703125 C 4.0625 -0.703125 4.6875 -1.3125 4.6875 -2.3125 C 4.6875 -3.1875 4.125 -3.71875 3.03125 -3.71875 C 3.03125 -3.71875 2.484375 -3.71875 2.484375 -3.71875 C 2.484375 -3.71875 2.484375 -4.546875 2.484375 -4.546875 C 4.078125 -4.546875 4.4375 -4.890625 4.4375 -5.75 C 4.4375 -6.59375 3.921875 -7.109375 3.03125 -7.109375 C 2.03125 -7.109375 1.546875 -6.578125 1.515625 -5.40625 C 1.515625 -5.40625 0.53125 -5.40625 0.53125 -5.40625 C 0.5625 -7.09375 1.421875 -7.96875 3.03125 -7.96875 C 4.546875 -7.96875 5.453125 -7.15625 5.453125 -5.78125 C 5.453125 -4.984375 5.078125 -4.46875 4.34375 -4.171875 C 5.296875 -3.84375 5.6875 -3.28125 5.6875 -2.3125 Z M 5.6875 -2.3125 \"/>\n",
       "</g>\n",
       "<g id=\"glyph-8-0-f8a2e1a8\">\n",
       "<path d=\"M 3.28125 2.390625 C 3.28125 2.390625 2.65625 2.390625 2.65625 2.390625 C 1.53125 0.90625 0.828125 -1.140625 0.828125 -2.90625 C 0.828125 -4.6875 1.53125 -6.734375 2.65625 -8.203125 C 2.65625 -8.203125 3.28125 -8.203125 3.28125 -8.203125 C 2.28125 -6.609375 1.734375 -4.703125 1.734375 -2.90625 C 1.734375 -1.109375 2.28125 0.78125 3.28125 2.390625 Z M 3.28125 2.390625 \"/>\n",
       "</g>\n",
       "<g id=\"glyph-8-1-f8a2e1a8\">\n",
       "<path d=\"M 3.90625 0 C 3.90625 0 2.90625 0 2.90625 0 C 2.90625 0 2.90625 -5.6875 2.90625 -5.6875 C 2.90625 -5.6875 1.140625 -5.6875 1.140625 -5.6875 C 1.140625 -5.6875 1.140625 -6.390625 1.140625 -6.390625 C 2.671875 -6.578125 2.90625 -6.75 3.25 -7.96875 C 3.25 -7.96875 3.90625 -7.96875 3.90625 -7.96875 C 3.90625 -7.96875 3.90625 0 3.90625 0 Z M 3.90625 0 \"/>\n",
       "</g>\n",
       "<g id=\"glyph-8-2-f8a2e1a8\">\n",
       "<path d=\"M 2.15625 0 C 2.15625 0 0.984375 0 0.984375 0 C 0.984375 0 0.984375 -1.171875 0.984375 -1.171875 C 0.984375 -1.171875 2.15625 -1.171875 2.15625 -1.171875 C 2.15625 -1.171875 2.15625 0 2.15625 0 Z M 2.15625 0 \"/>\n",
       "</g>\n",
       "<g id=\"glyph-8-3-f8a2e1a8\">\n",
       "<path d=\"M 5.703125 -3.84375 C 5.703125 -1.21875 4.78125 0.171875 3.09375 0.171875 C 1.390625 0.171875 0.484375 -1.21875 0.484375 -3.90625 C 0.484375 -6.578125 1.375 -7.96875 3.09375 -7.96875 C 4.828125 -7.96875 5.703125 -6.609375 5.703125 -3.84375 Z M 4.6875 -3.921875 C 4.6875 -6.0625 4.15625 -7.09375 3.09375 -7.09375 C 2.03125 -7.09375 1.5 -6.078125 1.5 -3.890625 C 1.5 -1.703125 2.03125 -0.65625 3.078125 -0.65625 C 4.171875 -0.65625 4.6875 -1.671875 4.6875 -3.921875 Z M 4.6875 -3.921875 \"/>\n",
       "</g>\n",
       "<g id=\"glyph-8-4-f8a2e1a8\">\n",
       "<path d=\"M 2.875 -2.90625 C 2.875 -1.140625 2.171875 0.90625 1.046875 2.390625 C 1.046875 2.390625 0.421875 2.390625 0.421875 2.390625 C 1.421875 0.78125 1.96875 -1.109375 1.96875 -2.90625 C 1.96875 -4.703125 1.421875 -6.59375 0.421875 -8.203125 C 0.421875 -8.203125 1.046875 -8.203125 1.046875 -8.203125 C 2.171875 -6.734375 2.875 -4.6875 2.875 -2.90625 Z M 2.875 -2.90625 \"/>\n",
       "</g>\n",
       "<g id=\"glyph-9-0-f8a2e1a8\">\n",
       "<path d=\"M 5.84375 -1.90625 C 5.84375 -1.90625 4.671875 -1.90625 4.671875 -1.90625 C 4.671875 -1.90625 4.671875 0 4.671875 0 C 4.671875 0 3.671875 0 3.671875 0 C 3.671875 0 3.671875 -1.90625 3.671875 -1.90625 C 3.671875 -1.90625 0.3125 -1.90625 0.3125 -1.90625 C 0.3125 -1.90625 0.3125 -2.953125 0.3125 -2.953125 C 0.3125 -2.953125 3.9375 -7.96875 3.9375 -7.96875 C 3.9375 -7.96875 4.671875 -7.96875 4.671875 -7.96875 C 4.671875 -7.96875 4.671875 -2.796875 4.671875 -2.796875 C 4.671875 -2.796875 5.84375 -2.796875 5.84375 -2.796875 C 5.84375 -2.796875 5.84375 -1.90625 5.84375 -1.90625 Z M 3.671875 -2.796875 C 3.671875 -2.796875 3.671875 -6.28125 3.671875 -6.28125 C 3.671875 -6.28125 1.1875 -2.796875 1.1875 -2.796875 C 1.1875 -2.796875 3.671875 -2.796875 3.671875 -2.796875 Z M 3.671875 -2.796875 \"/>\n",
       "</g>\n",
       "<g id=\"glyph-9-1-f8a2e1a8\">\n",
       "<path d=\"M 2.15625 0 C 2.15625 0 0.984375 0 0.984375 0 C 0.984375 0 0.984375 -1.171875 0.984375 -1.171875 C 0.984375 -1.171875 2.15625 -1.171875 2.15625 -1.171875 C 2.15625 -1.171875 2.15625 0 2.15625 0 Z M 2.15625 0 \"/>\n",
       "</g>\n",
       "<g id=\"glyph-10-0-f8a2e1a8\">\n",
       "<path d=\"M 3.28125 2.390625 C 3.28125 2.390625 2.65625 2.390625 2.65625 2.390625 C 1.53125 0.90625 0.828125 -1.140625 0.828125 -2.90625 C 0.828125 -4.6875 1.53125 -6.734375 2.65625 -8.203125 C 2.65625 -8.203125 3.28125 -8.203125 3.28125 -8.203125 C 2.28125 -6.609375 1.734375 -4.703125 1.734375 -2.90625 C 1.734375 -1.109375 2.28125 0.78125 3.28125 2.390625 Z M 3.28125 2.390625 \"/>\n",
       "</g>\n",
       "<g id=\"glyph-10-1-f8a2e1a8\">\n",
       "<path d=\"M 3.90625 0 C 3.90625 0 2.90625 0 2.90625 0 C 2.90625 0 2.90625 -5.6875 2.90625 -5.6875 C 2.90625 -5.6875 1.140625 -5.6875 1.140625 -5.6875 C 1.140625 -5.6875 1.140625 -6.390625 1.140625 -6.390625 C 2.671875 -6.578125 2.90625 -6.75 3.25 -7.96875 C 3.25 -7.96875 3.90625 -7.96875 3.90625 -7.96875 C 3.90625 -7.96875 3.90625 0 3.90625 0 Z M 3.90625 0 \"/>\n",
       "</g>\n",
       "<g id=\"glyph-10-2-f8a2e1a8\">\n",
       "<path d=\"M 2.875 -2.90625 C 2.875 -1.140625 2.171875 0.90625 1.046875 2.390625 C 1.046875 2.390625 0.421875 2.390625 0.421875 2.390625 C 1.421875 0.78125 1.96875 -1.109375 1.96875 -2.90625 C 1.96875 -4.703125 1.421875 -6.59375 0.421875 -8.203125 C 0.421875 -8.203125 1.046875 -8.203125 1.046875 -8.203125 C 2.171875 -6.734375 2.875 -4.6875 2.875 -2.90625 Z M 2.875 -2.90625 \"/>\n",
       "</g>\n",
       "<g id=\"glyph-11-0-f8a2e1a8\">\n",
       "<path d=\"M 5.703125 -3.84375 C 5.703125 -1.21875 4.78125 0.171875 3.09375 0.171875 C 1.390625 0.171875 0.484375 -1.21875 0.484375 -3.90625 C 0.484375 -6.578125 1.375 -7.96875 3.09375 -7.96875 C 4.828125 -7.96875 5.703125 -6.609375 5.703125 -3.84375 Z M 4.6875 -3.921875 C 4.6875 -6.0625 4.15625 -7.09375 3.09375 -7.09375 C 2.03125 -7.09375 1.5 -6.078125 1.5 -3.890625 C 1.5 -1.703125 2.03125 -0.65625 3.078125 -0.65625 C 4.171875 -0.65625 4.6875 -1.671875 4.6875 -3.921875 Z M 4.6875 -3.921875 \"/>\n",
       "</g>\n",
       "<g id=\"glyph-12-0-f8a2e1a8\">\n",
       "<path d=\"M 2.765625 2.765625 C 2.765625 2.765625 2.0625 2.0625 2.0625 2.0625 C 2.0625 2.0625 6.078125 -1.953125 6.078125 -1.953125 C 6.078125 -1.953125 4.828125 -3.203125 4.828125 -3.203125 C 4.828125 -3.203125 5.328125 -3.703125 5.328125 -3.703125 C 6.546875 -2.765625 6.828125 -2.703125 7.9375 -3.34375 C 7.9375 -3.34375 8.40625 -2.875 8.40625 -2.875 C 8.40625 -2.875 2.765625 2.765625 2.765625 2.765625 Z M 2.765625 2.765625 \"/>\n",
       "</g>\n",
       "<g id=\"glyph-12-1-f8a2e1a8\">\n",
       "<path d=\"M 1.53125 1.53125 C 1.53125 1.53125 0.703125 0.703125 0.703125 0.703125 C 0.703125 0.703125 1.53125 -0.125 1.53125 -0.125 C 1.53125 -0.125 2.359375 0.703125 2.359375 0.703125 C 2.359375 0.703125 1.53125 1.53125 1.53125 1.53125 Z M 1.53125 1.53125 \"/>\n",
       "</g>\n",
       "<g id=\"glyph-12-2-f8a2e1a8\">\n",
       "<path d=\"M 5.9375 2.21875 C 4.75 3.40625 3.15625 3.40625 2.015625 2.265625 C 1.03125 1.28125 0.84375 0.1875 1.734375 -1.171875 C 1.734375 -1.171875 2.4375 -0.46875 2.4375 -0.46875 C 1.96875 0.34375 2.03125 1.03125 2.625 1.625 C 3.390625 2.390625 4.34375 2.40625 5.15625 1.59375 C 5.984375 0.765625 5.984375 -0.203125 5.21875 -0.96875 C 4.78125 -1.40625 4.390625 -1.546875 3.671875 -1.484375 C 3.671875 -1.484375 3.03125 -2.125 3.03125 -2.125 C 3.03125 -2.125 6.40625 -4.65625 6.40625 -4.65625 C 6.40625 -4.65625 9.328125 -1.734375 9.328125 -1.734375 C 9.328125 -1.734375 8.625 -1.03125 8.625 -1.03125 C 8.625 -1.03125 6.265625 -3.390625 6.265625 -3.390625 C 6.265625 -3.390625 4.59375 -2.15625 4.59375 -2.15625 C 5.15625 -2.0625 5.578125 -1.859375 5.96875 -1.46875 C 7.0625 -0.375 7.0625 1.09375 5.9375 2.21875 Z M 5.9375 2.21875 \"/>\n",
       "</g>\n",
       "<g id=\"glyph-13-0-f8a2e1a8\">\n",
       "<path d=\"M 1.53125 1.53125 C 1.53125 1.53125 0.703125 0.703125 0.703125 0.703125 C 0.703125 0.703125 1.53125 -0.125 1.53125 -0.125 C 1.53125 -0.125 2.359375 0.703125 2.359375 0.703125 C 2.359375 0.703125 1.53125 1.53125 1.53125 1.53125 Z M 1.53125 1.53125 \"/>\n",
       "</g>\n",
       "<g id=\"glyph-14-0-f8a2e1a8\">\n",
       "<path d=\"M 5.953125 2.21875 C 4.75 3.40625 3.15625 3.40625 2.015625 2.265625 C 1.03125 1.28125 0.84375 0.1875 1.734375 -1.171875 C 1.734375 -1.171875 2.4375 -0.46875 2.4375 -0.46875 C 1.96875 0.34375 2.03125 1.03125 2.625 1.625 C 3.390625 2.390625 4.34375 2.40625 5.15625 1.59375 C 5.984375 0.765625 5.984375 -0.203125 5.21875 -0.96875 C 4.78125 -1.40625 4.390625 -1.546875 3.671875 -1.484375 C 3.671875 -1.484375 3.03125 -2.125 3.03125 -2.125 C 3.03125 -2.125 6.40625 -4.65625 6.40625 -4.65625 C 6.40625 -4.65625 9.328125 -1.734375 9.328125 -1.734375 C 9.328125 -1.734375 8.625 -1.03125 8.625 -1.03125 C 8.625 -1.03125 6.265625 -3.390625 6.265625 -3.390625 C 6.265625 -3.390625 4.59375 -2.15625 4.59375 -2.15625 C 5.15625 -2.0625 5.578125 -1.859375 5.96875 -1.46875 C 7.0625 -0.375 7.0625 1.09375 5.953125 2.21875 Z M 5.953125 2.21875 \"/>\n",
       "</g>\n",
       "<g id=\"glyph-15-0-f8a2e1a8\">\n",
       "<path d=\"M 2.765625 -2.765625 C 2.765625 -2.765625 2.0625 -2.0625 2.0625 -2.0625 C 2.0625 -2.0625 -1.953125 -6.078125 -1.953125 -6.078125 C -1.953125 -6.078125 -3.203125 -4.828125 -3.203125 -4.828125 C -3.203125 -4.828125 -3.703125 -5.328125 -3.703125 -5.328125 C -2.765625 -6.546875 -2.703125 -6.828125 -3.34375 -7.9375 C -3.34375 -7.9375 -2.875 -8.40625 -2.875 -8.40625 C -2.875 -8.40625 2.765625 -2.765625 2.765625 -2.765625 Z M 2.765625 -2.765625 \"/>\n",
       "</g>\n",
       "<g id=\"glyph-15-1-f8a2e1a8\">\n",
       "<path d=\"M 1.53125 -1.53125 C 1.53125 -1.53125 0.703125 -0.703125 0.703125 -0.703125 C 0.703125 -0.703125 -0.125 -1.53125 -0.125 -1.53125 C -0.125 -1.53125 0.703125 -2.359375 0.703125 -2.359375 C 0.703125 -2.359375 1.53125 -1.53125 1.53125 -1.53125 Z M 1.53125 -1.53125 \"/>\n",
       "</g>\n",
       "<g id=\"glyph-15-2-f8a2e1a8\">\n",
       "<path d=\"M 2.21875 -5.9375 C 3.40625 -4.75 3.40625 -3.15625 2.265625 -2.015625 C 1.28125 -1.03125 0.1875 -0.84375 -1.171875 -1.734375 C -1.171875 -1.734375 -0.46875 -2.4375 -0.46875 -2.4375 C 0.34375 -1.96875 1.03125 -2.03125 1.625 -2.625 C 2.390625 -3.390625 2.40625 -4.34375 1.59375 -5.15625 C 0.765625 -5.984375 -0.203125 -5.984375 -0.96875 -5.21875 C -1.40625 -4.78125 -1.546875 -4.390625 -1.484375 -3.671875 C -1.484375 -3.671875 -2.125 -3.03125 -2.125 -3.03125 C -2.125 -3.03125 -4.65625 -6.40625 -4.65625 -6.40625 C -4.65625 -6.40625 -1.734375 -9.328125 -1.734375 -9.328125 C -1.734375 -9.328125 -1.03125 -8.625 -1.03125 -8.625 C -1.03125 -8.625 -3.390625 -6.265625 -3.390625 -6.265625 C -3.390625 -6.265625 -2.15625 -4.59375 -2.15625 -4.59375 C -2.0625 -5.15625 -1.859375 -5.578125 -1.46875 -5.96875 C -0.375 -7.0625 1.09375 -7.0625 2.21875 -5.9375 Z M 2.21875 -5.9375 \"/>\n",
       "</g>\n",
       "<g id=\"glyph-16-0-f8a2e1a8\">\n",
       "<path d=\"M 1.3125 -6.75 C 3.171875 -4.890625 3.5 -3.25 2.3125 -2.0625 C 1.109375 -0.859375 -0.515625 -1.203125 -2.421875 -3.109375 C -4.3125 -5 -4.671875 -6.609375 -3.453125 -7.828125 C -2.234375 -9.046875 -0.640625 -8.703125 1.3125 -6.75 Z M 0.546875 -6.078125 C -0.96875 -7.59375 -2.078125 -7.953125 -2.828125 -7.203125 C -3.578125 -6.453125 -3.234375 -5.359375 -1.6875 -3.8125 C -0.140625 -2.265625 0.96875 -1.90625 1.703125 -2.640625 C 2.484375 -3.421875 2.125 -4.5 0.546875 -6.078125 Z M 0.546875 -6.078125 \"/>\n",
       "</g>\n",
       "<g id=\"glyph-17-0-f8a2e1a8\">\n",
       "<path d=\"M 1.53125 -1.53125 C 1.53125 -1.53125 0.703125 -0.703125 0.703125 -0.703125 C 0.703125 -0.703125 -0.125 -1.53125 -0.125 -1.53125 C -0.125 -1.53125 0.703125 -2.359375 0.703125 -2.359375 C 0.703125 -2.359375 1.53125 -1.53125 1.53125 -1.53125 Z M 1.53125 -1.53125 \"/>\n",
       "</g>\n",
       "<g id=\"glyph-18-0-f8a2e1a8\">\n",
       "<path d=\"M 2.21875 -5.9375 C 3.40625 -4.75 3.40625 -3.15625 2.265625 -2.015625 C 1.28125 -1.03125 0.1875 -0.84375 -1.171875 -1.734375 C -1.171875 -1.734375 -0.46875 -2.4375 -0.46875 -2.4375 C 0.34375 -1.96875 1.03125 -2.03125 1.625 -2.625 C 2.390625 -3.390625 2.40625 -4.34375 1.59375 -5.15625 C 0.765625 -5.984375 -0.203125 -5.984375 -0.96875 -5.21875 C -1.40625 -4.78125 -1.546875 -4.390625 -1.484375 -3.671875 C -1.484375 -3.671875 -2.125 -3.03125 -2.125 -3.03125 C -2.125 -3.03125 -4.65625 -6.40625 -4.65625 -6.40625 C -4.65625 -6.40625 -1.734375 -9.328125 -1.734375 -9.328125 C -1.734375 -9.328125 -1.03125 -8.625 -1.03125 -8.625 C -1.03125 -8.625 -3.390625 -6.265625 -3.390625 -6.265625 C -3.390625 -6.265625 -2.15625 -4.59375 -2.15625 -4.59375 C -2.0625 -5.15625 -1.859375 -5.578125 -1.46875 -5.96875 C -0.375 -7.0625 1.09375 -7.0625 2.21875 -5.9375 Z M 2.21875 -5.9375 \"/>\n",
       "</g>\n",
       "<g id=\"glyph-19-0-f8a2e1a8\">\n",
       "<path d=\"M 3.84375 5.703125 C 1.21875 5.703125 -0.171875 4.78125 -0.171875 3.09375 C -0.171875 1.390625 1.21875 0.484375 3.90625 0.484375 C 6.578125 0.484375 7.96875 1.375 7.96875 3.09375 C 7.96875 4.828125 6.609375 5.703125 3.84375 5.703125 Z M 3.921875 4.6875 C 6.0625 4.6875 7.09375 4.15625 7.09375 3.09375 C 7.09375 2.03125 6.078125 1.5 3.890625 1.5 C 1.703125 1.5 0.65625 2.03125 0.65625 3.078125 C 0.65625 4.171875 1.671875 4.6875 3.921875 4.6875 Z M 3.921875 4.6875 \"/>\n",
       "</g>\n",
       "<g id=\"glyph-19-1-f8a2e1a8\">\n",
       "<path d=\"M 0 2.15625 C 0 2.15625 0 0.984375 0 0.984375 C 0 0.984375 1.171875 0.984375 1.171875 0.984375 C 1.171875 0.984375 1.171875 2.15625 1.171875 2.15625 C 1.171875 2.15625 0 2.15625 0 2.15625 Z M 0 2.15625 \"/>\n",
       "</g>\n",
       "<g id=\"glyph-20-0-f8a2e1a8\">\n",
       "<path d=\"M 6.75 1.3125 C 4.890625 3.171875 3.25 3.5 2.0625 2.3125 C 0.859375 1.109375 1.203125 -0.515625 3.109375 -2.421875 C 5 -4.3125 6.609375 -4.671875 7.828125 -3.453125 C 9.046875 -2.234375 8.703125 -0.640625 6.75 1.3125 Z M 6.078125 0.546875 C 7.59375 -0.96875 7.953125 -2.078125 7.203125 -2.828125 C 6.453125 -3.578125 5.359375 -3.234375 3.8125 -1.6875 C 2.265625 -0.140625 1.90625 0.96875 2.640625 1.703125 C 3.421875 2.484375 4.5 2.125 6.078125 0.546875 Z M 6.078125 0.546875 \"/>\n",
       "</g>\n",
       "</g>\n",
       "</defs>\n",
       "<rect x=\"-67.5\" y=\"-45\" width=\"810\" height=\"540\" fill=\"rgb(100%, 100%, 100%)\" fill-opacity=\"1\"/>\n",
       "<path fill-rule=\"nonzero\" fill=\"rgb(100%, 100%, 100%)\" fill-opacity=\"1\" d=\"M 124.5 438 L 550.5 438 L 550.5 12 L 124.5 12 Z M 124.5 438 \"/>\n",
       "<path fill=\"none\" stroke-width=\"3\" stroke-linecap=\"butt\" stroke-linejoin=\"miter\" stroke=\"rgb(100%, 0%, 0%)\" stroke-opacity=\"1\" stroke-miterlimit=\"2\" d=\"M 229.109375 300 L 432.489583 503.380208 \" transform=\"matrix(0.75, 0, 0, 0.75, 0, 0)\"/>\n",
       "<path fill=\"none\" stroke-width=\"3\" stroke-linecap=\"butt\" stroke-linejoin=\"miter\" stroke=\"rgb(100%, 0%, 0%)\" stroke-opacity=\"1\" stroke-miterlimit=\"2\" d=\"M 229.109375 300 L 432.489583 96.619792 \" transform=\"matrix(0.75, 0, 0, 0.75, 0, 0)\"/>\n",
       "<path fill=\"none\" stroke-width=\"3\" stroke-linecap=\"butt\" stroke-linejoin=\"miter\" stroke=\"rgb(0%, 50.196081%, 0%)\" stroke-opacity=\"1\" stroke-miterlimit=\"2\" d=\"M 450 520.890625 L 653.380208 317.510417 \" transform=\"matrix(0.75, 0, 0, 0.75, 0, 0)\"/>\n",
       "<path fill=\"none\" stroke-width=\"3\" stroke-linecap=\"butt\" stroke-linejoin=\"miter\" stroke=\"rgb(0%, 50.196081%, 0%)\" stroke-opacity=\"1\" stroke-miterlimit=\"2\" d=\"M 450 520.890625 L 450 103.875 \" transform=\"matrix(0.75, 0, 0, 0.75, 0, 0)\"/>\n",
       "<path fill=\"none\" stroke-width=\"3\" stroke-linecap=\"butt\" stroke-linejoin=\"miter\" stroke=\"rgb(0%, 50.196081%, 0%)\" stroke-opacity=\"1\" stroke-miterlimit=\"2\" d=\"M 450 79.109375 L 653.380208 282.489583 \" transform=\"matrix(0.75, 0, 0, 0.75, 0, 0)\"/>\n",
       "<path fill-rule=\"nonzero\" fill=\"rgb(100%, 0%, 0%)\" fill-opacity=\"1\" d=\"M 322.148438 375.316406 L 324.085938 368.847656 L 328.867188 382.035156 L 315.664062 377.269531 Z M 325.351562 386.832031 \"/>\n",
       "<path fill-rule=\"nonzero\" fill=\"rgb(100%, 0%, 0%)\" fill-opacity=\"1\" d=\"M 322.148438 74.683594 L 315.679688 72.746094 L 328.867188 67.964844 L 324.101562 81.167969 Z M 333.664062 71.480469 \"/>\n",
       "<path fill-rule=\"nonzero\" fill=\"rgb(0%, 50.196081%, 0%)\" fill-opacity=\"1\" d=\"M 487.816406 240.351562 L 481.347656 238.414062 L 494.535156 233.632812 L 489.769531 246.835938 Z M 499.332031 237.148438 \"/>\n",
       "<path fill-rule=\"nonzero\" fill=\"rgb(0%, 50.196081%, 0%)\" fill-opacity=\"1\" d=\"M 337.503906 81.050781 L 331.550781 84.253906 L 337.503906 71.550781 L 343.457031 84.253906 Z M 343.378906 70.636719 \"/>\n",
       "<path fill-rule=\"nonzero\" fill=\"rgb(0%, 50.196081%, 0%)\" fill-opacity=\"1\" d=\"M 487.816406 209.648438 L 489.753906 203.179688 L 494.535156 216.367188 L 481.332031 211.601562 Z M 491.019531 221.164062 \"/>\n",
       "<path fill-rule=\"nonzero\" fill=\"rgb(100%, 100%, 100%)\" fill-opacity=\"1\" stroke-width=\"3\" stroke-linecap=\"butt\" stroke-linejoin=\"miter\" stroke=\"rgb(100%, 0%, 0%)\" stroke-opacity=\"1\" stroke-miterlimit=\"2\" d=\"M 257.3125 300 C 257.3125 284.427083 244.6875 271.802083 229.109375 271.802083 C 213.536458 271.802083 200.911458 284.427083 200.911458 300 C 200.911458 315.572917 213.536458 328.197917 229.109375 328.197917 C 244.6875 328.197917 257.3125 315.572917 257.3125 300 Z M 257.3125 300 \" transform=\"matrix(0.75, 0, 0, 0.75, 0, 0)\"/>\n",
       "<path fill-rule=\"nonzero\" fill=\"rgb(100%, 100%, 100%)\" fill-opacity=\"1\" stroke-width=\"3\" stroke-linecap=\"butt\" stroke-linejoin=\"miter\" stroke=\"rgb(100%, 0%, 0%)\" stroke-opacity=\"1\" stroke-miterlimit=\"2\" d=\"M 464.583333 535.46875 L 464.583333 506.307292 L 435.416667 506.307292 L 435.416667 535.46875 Z M 464.583333 535.46875 \" transform=\"matrix(0.75, 0, 0, 0.75, 0, 0)\"/>\n",
       "<path fill-rule=\"nonzero\" fill=\"rgb(100%, 100%, 100%)\" fill-opacity=\"1\" stroke-width=\"3\" stroke-linecap=\"butt\" stroke-linejoin=\"miter\" stroke=\"rgb(100%, 0%, 0%)\" stroke-opacity=\"1\" stroke-miterlimit=\"2\" d=\"M 685.46875 314.583333 L 685.46875 285.416667 L 656.307292 285.416667 L 656.307292 314.583333 Z M 685.46875 314.583333 \" transform=\"matrix(0.75, 0, 0, 0.75, 0, 0)\"/>\n",
       "<path fill-rule=\"nonzero\" fill=\"rgb(100%, 100%, 100%)\" fill-opacity=\"1\" stroke-width=\"3\" stroke-linecap=\"butt\" stroke-linejoin=\"miter\" stroke=\"rgb(100%, 0%, 0%)\" stroke-opacity=\"1\" stroke-miterlimit=\"2\" d=\"M 464.583333 93.692708 L 464.583333 64.53125 L 435.416667 64.53125 L 435.416667 93.692708 Z M 464.583333 93.692708 \" transform=\"matrix(0.75, 0, 0, 0.75, 0, 0)\"/>\n",
       "<g fill=\"rgb(0%, 0%, 0%)\" fill-opacity=\"1\">\n",
       "<use xlink:href=\"#glyph-0-0-f8a2e1a8\" x=\"171.833344\" y=\"222.547485\"/>\n",
       "</g>\n",
       "<g fill=\"rgb(0%, 0%, 0%)\" fill-opacity=\"1\">\n",
       "<use xlink:href=\"#glyph-1-0-f8a2e1a8\" x=\"178.088345\" y=\"222.547485\"/>\n",
       "</g>\n",
       "<g fill=\"rgb(0%, 0%, 0%)\" fill-opacity=\"1\">\n",
       "<use xlink:href=\"#glyph-1-1-f8a2e1a8\" x=\"181.834591\" y=\"222.547485\"/>\n",
       "</g>\n",
       "<g fill=\"rgb(0%, 0%, 0%)\" fill-opacity=\"1\">\n",
       "<use xlink:href=\"#glyph-2-0-f8a2e1a8\" x=\"185.580854\" y=\"222.547485\"/>\n",
       "</g>\n",
       "<g fill=\"rgb(0%, 0%, 0%)\" fill-opacity=\"1\">\n",
       "<use xlink:href=\"#glyph-3-0-f8a2e1a8\" x=\"191.835852\" y=\"222.547485\"/>\n",
       "</g>\n",
       "<g fill=\"rgb(0%, 0%, 0%)\" fill-opacity=\"1\">\n",
       "<use xlink:href=\"#glyph-1-2-f8a2e1a8\" x=\"194.963345\" y=\"222.547485\"/>\n",
       "</g>\n",
       "<g fill=\"rgb(0%, 0%, 0%)\" fill-opacity=\"1\">\n",
       "<use xlink:href=\"#glyph-1-3-f8a2e1a8\" x=\"201.218342\" y=\"222.547485\"/>\n",
       "</g>\n",
       "<g fill=\"rgb(0%, 0%, 0%)\" fill-opacity=\"1\">\n",
       "<use xlink:href=\"#glyph-4-0-f8a2e1a8\" x=\"337.5\" y=\"388.214149\"/>\n",
       "</g>\n",
       "<g fill=\"rgb(0%, 0%, 0%)\" fill-opacity=\"1\">\n",
       "<use xlink:href=\"#glyph-5-0-f8a2e1a8\" x=\"343.75502\" y=\"388.214149\"/>\n",
       "</g>\n",
       "<g fill=\"rgb(0%, 0%, 0%)\" fill-opacity=\"1\">\n",
       "<use xlink:href=\"#glyph-5-1-f8a2e1a8\" x=\"347.501266\" y=\"388.214149\"/>\n",
       "</g>\n",
       "<g fill=\"rgb(0%, 0%, 0%)\" fill-opacity=\"1\">\n",
       "<use xlink:href=\"#glyph-4-1-f8a2e1a8\" x=\"353.756241\" y=\"388.214149\"/>\n",
       "</g>\n",
       "<g fill=\"rgb(0%, 0%, 0%)\" fill-opacity=\"1\">\n",
       "<use xlink:href=\"#glyph-6-0-f8a2e1a8\" x=\"356.883751\" y=\"388.214149\"/>\n",
       "</g>\n",
       "<g fill=\"rgb(0%, 0%, 0%)\" fill-opacity=\"1\">\n",
       "<use xlink:href=\"#glyph-5-2-f8a2e1a8\" x=\"363.138771\" y=\"388.214149\"/>\n",
       "</g>\n",
       "<g fill=\"rgb(0%, 0%, 0%)\" fill-opacity=\"1\">\n",
       "<use xlink:href=\"#glyph-7-0-f8a2e1a8\" x=\"503.166664\" y=\"222.547485\"/>\n",
       "</g>\n",
       "<g fill=\"rgb(0%, 0%, 0%)\" fill-opacity=\"1\">\n",
       "<use xlink:href=\"#glyph-8-0-f8a2e1a8\" x=\"509.421661\" y=\"222.547485\"/>\n",
       "</g>\n",
       "<g fill=\"rgb(0%, 0%, 0%)\" fill-opacity=\"1\">\n",
       "<use xlink:href=\"#glyph-8-1-f8a2e1a8\" x=\"513.167908\" y=\"222.547485\"/>\n",
       "</g>\n",
       "<g fill=\"rgb(0%, 0%, 0%)\" fill-opacity=\"1\">\n",
       "<use xlink:href=\"#glyph-8-2-f8a2e1a8\" x=\"519.422928\" y=\"222.547485\"/>\n",
       "</g>\n",
       "<g fill=\"rgb(0%, 0%, 0%)\" fill-opacity=\"1\">\n",
       "<use xlink:href=\"#glyph-8-3-f8a2e1a8\" x=\"522.550415\" y=\"222.547485\"/>\n",
       "</g>\n",
       "<g fill=\"rgb(0%, 0%, 0%)\" fill-opacity=\"1\">\n",
       "<use xlink:href=\"#glyph-8-4-f8a2e1a8\" x=\"528.805435\" y=\"222.547485\"/>\n",
       "</g>\n",
       "<g fill=\"rgb(0%, 0%, 0%)\" fill-opacity=\"1\">\n",
       "<use xlink:href=\"#glyph-9-0-f8a2e1a8\" x=\"337.5\" y=\"56.880833\"/>\n",
       "</g>\n",
       "<g fill=\"rgb(0%, 0%, 0%)\" fill-opacity=\"1\">\n",
       "<use xlink:href=\"#glyph-10-0-f8a2e1a8\" x=\"343.75502\" y=\"56.880833\"/>\n",
       "</g>\n",
       "<g fill=\"rgb(0%, 0%, 0%)\" fill-opacity=\"1\">\n",
       "<use xlink:href=\"#glyph-10-1-f8a2e1a8\" x=\"347.501266\" y=\"56.880833\"/>\n",
       "</g>\n",
       "<g fill=\"rgb(0%, 0%, 0%)\" fill-opacity=\"1\">\n",
       "<use xlink:href=\"#glyph-9-1-f8a2e1a8\" x=\"353.756241\" y=\"56.880833\"/>\n",
       "</g>\n",
       "<g fill=\"rgb(0%, 0%, 0%)\" fill-opacity=\"1\">\n",
       "<use xlink:href=\"#glyph-11-0-f8a2e1a8\" x=\"356.883751\" y=\"56.880833\"/>\n",
       "</g>\n",
       "<g fill=\"rgb(0%, 0%, 0%)\" fill-opacity=\"1\">\n",
       "<use xlink:href=\"#glyph-10-2-f8a2e1a8\" x=\"363.138771\" y=\"56.880833\"/>\n",
       "</g>\n",
       "<g fill=\"rgb(0%, 0%, 0%)\" fill-opacity=\"1\">\n",
       "<use xlink:href=\"#glyph-12-0-f8a2e1a8\" x=\"244.445263\" y=\"293.865143\"/>\n",
       "</g>\n",
       "<g fill=\"rgb(0%, 0%, 0%)\" fill-opacity=\"1\">\n",
       "<use xlink:href=\"#glyph-13-0-f8a2e1a8\" x=\"248.86821\" y=\"298.288078\"/>\n",
       "</g>\n",
       "<g fill=\"rgb(0%, 0%, 0%)\" fill-opacity=\"1\">\n",
       "<use xlink:href=\"#glyph-14-0-f8a2e1a8\" x=\"251.079689\" y=\"300.49958\"/>\n",
       "</g>\n",
       "<g fill=\"rgb(0%, 0%, 0%)\" fill-opacity=\"1\">\n",
       "<use xlink:href=\"#glyph-15-0-f8a2e1a8\" x=\"240.698479\" y=\"152.388073\"/>\n",
       "</g>\n",
       "<g fill=\"rgb(0%, 0%, 0%)\" fill-opacity=\"1\">\n",
       "<use xlink:href=\"#glyph-15-1-f8a2e1a8\" x=\"245.121426\" y=\"147.965126\"/>\n",
       "</g>\n",
       "<g fill=\"rgb(0%, 0%, 0%)\" fill-opacity=\"1\">\n",
       "<use xlink:href=\"#glyph-15-2-f8a2e1a8\" x=\"247.332905\" y=\"145.753647\"/>\n",
       "</g>\n",
       "<g fill=\"rgb(0%, 0%, 0%)\" fill-opacity=\"1\">\n",
       "<use xlink:href=\"#glyph-16-0-f8a2e1a8\" x=\"406.365166\" y=\"318.054749\"/>\n",
       "</g>\n",
       "<g fill=\"rgb(0%, 0%, 0%)\" fill-opacity=\"1\">\n",
       "<use xlink:href=\"#glyph-17-0-f8a2e1a8\" x=\"410.788101\" y=\"313.63179\"/>\n",
       "</g>\n",
       "<g fill=\"rgb(0%, 0%, 0%)\" fill-opacity=\"1\">\n",
       "<use xlink:href=\"#glyph-18-0-f8a2e1a8\" x=\"412.99958\" y=\"311.420311\"/>\n",
       "</g>\n",
       "<g fill=\"rgb(0%, 0%, 0%)\" fill-opacity=\"1\">\n",
       "<use xlink:href=\"#glyph-19-0-f8a2e1a8\" x=\"326.649376\" y=\"226.467133\"/>\n",
       "</g>\n",
       "<g fill=\"rgb(0%, 0%, 0%)\" fill-opacity=\"1\">\n",
       "<use xlink:href=\"#glyph-19-1-f8a2e1a8\" x=\"326.649376\" y=\"232.72213\"/>\n",
       "</g>\n",
       "<g fill=\"rgb(0%, 0%, 0%)\" fill-opacity=\"1\">\n",
       "<use xlink:href=\"#glyph-19-0-f8a2e1a8\" x=\"326.649376\" y=\"235.84964\"/>\n",
       "</g>\n",
       "<g fill=\"rgb(0%, 0%, 0%)\" fill-opacity=\"1\">\n",
       "<use xlink:href=\"#glyph-20-0-f8a2e1a8\" x=\"410.111938\" y=\"128.198467\"/>\n",
       "</g>\n",
       "<g fill=\"rgb(0%, 0%, 0%)\" fill-opacity=\"1\">\n",
       "<use xlink:href=\"#glyph-12-1-f8a2e1a8\" x=\"414.534874\" y=\"132.621426\"/>\n",
       "</g>\n",
       "<g fill=\"rgb(0%, 0%, 0%)\" fill-opacity=\"1\">\n",
       "<use xlink:href=\"#glyph-12-2-f8a2e1a8\" x=\"416.746353\" y=\"134.832905\"/>\n",
       "</g>\n",
       "</svg>\n"
      ]
     },
     "metadata": {},
     "output_type": "display_data"
    },
    {
     "data": {
      "text/plain": [
       "\"NOT FEASIBLE\""
      ]
     },
     "metadata": {},
     "output_type": "display_data"
    },
    {
     "name": "stdout",
     "output_type": "stream",
     "text": [
      "Set parameter Username\n",
      "Academic license - for non-commercial use only - expires 2024-11-27\n",
      "Set parameter DualReductions to value 0\n",
      "Set parameter LogFile to value \"my_log_file.txt\"\n",
      "Set parameter DualReductions to value 0\n",
      "Set parameter LogFile to value \"my_log_file.txt\"\n",
      "Warning for adding constraints: zero or small (< 1e-13) coefficients, ignored\n",
      "Gurobi Optimizer version 11.0.0 build v11.0.0rc2 (mac64[arm] - Darwin 23.1.0 23B81)\n",
      "\n",
      "CPU model: Apple M1\n",
      "Thread count: 8 physical cores, 8 logical processors, using up to 8 threads\n",
      "\n",
      "Optimize a model with 914 rows, 407 columns and 2280 nonzeros\n",
      "Model fingerprint: 0x4d179c3a\n",
      "Variable types: 211 continuous, 196 integer (196 binary)\n",
      "Coefficient statistics:\n",
      "  Matrix range     [1e-01, 7e+00]\n",
      "  Objective range  [1e+00, 1e+00]\n",
      "  Bounds range     [5e+00, 5e+00]\n",
      "  RHS range        [1e+00, 7e+00]\n",
      "Presolve removed 35 rows and 0 columns\n",
      "Presolve time: 0.00s\n",
      "\n",
      "Explored 0 nodes (0 simplex iterations) in 0.00 seconds (0.00 work units)\n",
      "Thread count was 1 (of 8 available processors)\n",
      "\n",
      "Solution count 0\n",
      "\n",
      "Model is infeasible\n",
      "Best objective -, best bound -, gap -\n",
      "\n",
      "User-callback calls 32, time in user-callback 0.00 sec\n"
     ]
    },
    {
     "ename": "BoundsError",
     "evalue": "BoundsError: attempt to access 5×4 LinearAlgebra.Adjoint{Int64, SparseMatrixCSC{Int64, Int64}} with 10 stored entries at index [10, 1:4]",
     "output_type": "error",
     "traceback": [
      "BoundsError: attempt to access 5×4 LinearAlgebra.Adjoint{Int64, SparseMatrixCSC{Int64, Int64}} with 10 stored entries at index [10, 1:4]\n",
      "\n",
      "Stacktrace:\n",
      " [1] throw_boundserror(A::LinearAlgebra.Adjoint{Int64, SparseMatrixCSC{Int64, Int64}}, I::Tuple{Int64, Base.Slice{Base.OneTo{Int64}}})\n",
      "   @ Base ./abstractarray.jl:734\n",
      " [2] checkbounds\n",
      "   @ ./abstractarray.jl:699 [inlined]\n",
      " [3] view\n",
      "   @ ./subarray.jl:179 [inlined]\n",
      " [4] maybeview\n",
      "   @ ./views.jl:148 [inlined]\n",
      " [5] dotview\n",
      "   @ ./broadcast.jl:1244 [inlined]\n",
      " [6] dc_flow!(g::MetaGraph{Int64, SimpleDiGraph{Int64}, String, Float64, Branch, Nothing, MetaGraphsNext.var\"#11#13\", Float64}; outages::Vector{Int64}, trip::Int64)\n",
      "   @ Main ~/vsCode/TUD/topo_sandbox/jl_notebook_cell_df34fa98e69747e1a8f8a730347b8e2f_X40sZmlsZQ==.jl:4\n",
      " [7] top-level scope\n",
      "   @ ~/vsCode/TUD/topo_sandbox/jl_notebook_cell_df34fa98e69747e1a8f8a730347b8e2f_Y116sZmlsZQ==.jl:66"
     ]
    }
   ],
   "source": [
    "# g, bus_confs, contingencies = create_case(sys)\n",
    "g, bus_confs, contingencies, coord = create_mini_case(false)\n",
    "is_single_ρ = true\n",
    "ρ_min_bound = 0.\n",
    "n_1_connectedness = false\n",
    "allow_branch_openings = true\n",
    "# bus_confs = BusConf[]\n",
    "\n",
    "# g[\"1\",\"5\"].p_max = 2\n",
    "\n",
    "model = secured_dc_OTS(g,\n",
    "                # contingencies = contingencies,\n",
    "                # contingencies =1:20,#:20, #vcat(1:16,19:20),#,19,20],\n",
    "                contingencies = 1:ne(g),\n",
    "                is_single_ρ=is_single_ρ,\n",
    "                ρ_min_bound=ρ_min_bound,\n",
    "                n_1_connectedness = n_1_connectedness,\n",
    "                allow_branch_openings = allow_branch_openings,\n",
    "                bus_confs = bus_confs,\n",
    "                )\n",
    "\n",
    "# forcing = [5, 7, 9, 11, 12, 16]\n",
    "# for i in 1:20\n",
    "#     @constraint(model, model[:v_branch][i] == (i in forcing ? 1 : 0))\n",
    "# end\n",
    "# @constraint(model, model[:v_branch][15]==0)\n",
    "\n",
    "optimize!(model)\n",
    "trip = nothing #12\n",
    "g_base = dc_flow(g, trip = trip)\n",
    "layout = isa(coord, Dict{String, Point2}) ? coord : Stress(Ptype=Float32)\n",
    "draw(g_base, trip = trip, layout = layout);\n",
    "\n",
    "openings = []\n",
    "applied_conf=BusConf[]\n",
    "\n",
    "if is_solved_and_feasible(model)\n",
    "    store_result(model, \"store_result.csv\")\n",
    "    display(\"overload: $(value(model[:overload]))\")\n",
    "\n",
    "    if allow_branch_openings\n",
    "        openings = [i for (i,v_branch) in enumerate(value.(model[:v_branch])) if v_branch == 1]\n",
    "        display(\"open:$openings\")\n",
    "        display([collect(edge_labels(g))[i] for i in openings])\n",
    "    end\n",
    "    \n",
    "    if bus_confs ≠ BusConf[]\n",
    "        display(\"v_bus: $(value.(model[:v_bus]))\")\n",
    "        display(\"γ_bus: $(value.(model[:γ_bus]))\")\n",
    "        applied_conf = BusConf[bus_confs[i] for (i, v) in enumerate(value.(model[:v_bus])) if isapprox(v, 1, atol=1e-9)]\n",
    "        display(\"applied_conf: $applied_conf\")\n",
    "    end\n",
    "    # openings = [10]\n",
    "    g_result, openings_result=add_subBus(g, applied_conf, openings)\n",
    "    dc_flow!(g_result, outages = [openings_result])\n",
    "    draw(g_result , outages = openings_result, layout = layout);\n",
    "else\n",
    "    display(\"NOT FEASIBLE\")\n",
    "end\n",
    "\n",
    "play_openings = [1,10]\n",
    "play_conf = applied_conf\n",
    "g_play=add_subBus(g, play_conf)\n",
    "balance!(g_play)\n",
    "play_trip = 1\n",
    "dc_flow!(g_play, outages = play_openings, trip = play_trip)\n",
    "# draw(g_play , outages = play_openings, trip = play_trip, layout = layout);\n",
    "nothing;\n",
    "\n",
    "display(solution_summary(model))"
   ]
  },
  {
   "cell_type": "code",
   "execution_count": 34,
   "metadata": {},
   "outputs": [
    {
     "ename": "UndefVarError",
     "evalue": "UndefVarError: `g_result` not defined",
     "output_type": "error",
     "traceback": [
      "UndefVarError: `g_result` not defined\n",
      "\n",
      "Stacktrace:\n",
      " [1] top-level scope\n",
      "   @ ~/vsCode/TUD/topo_sandbox/jl_notebook_cell_df34fa98e69747e1a8f8a730347b8e2f_Y120sZmlsZQ==.jl:1"
     ]
    }
   ],
   "source": [
    "g_play = copy(g_result)\n",
    "trip = nothing\n",
    "dc_flow!(g_play, outages = openings, trip = trip)\n",
    "draw(g_play,  outages = openings, trip = trip, layout = layout);"
   ]
  },
  {
   "cell_type": "code",
   "execution_count": null,
   "metadata": {},
   "outputs": [],
   "source": [
    "filter_latex_formulation(model, \"\")"
   ]
  },
  {
   "cell_type": "code",
   "execution_count": 98,
   "metadata": {},
   "outputs": [
    {
     "ename": "MathOptInterface.ResultIndexBoundsError{MathOptInterface.VariablePrimal}",
     "evalue": "Result index of attribute MathOptInterface.VariablePrimal(1) out of bounds. There are currently 0 solution(s) in the model.",
     "output_type": "error",
     "traceback": [
      "Result index of attribute MathOptInterface.VariablePrimal(1) out of bounds. There are currently 0 solution(s) in the model.\n",
      "\n",
      "Stacktrace:\n",
      "  [1] check_result_index_bounds\n",
      "    @ ~/.julia/packages/MathOptInterface/2CULs/src/attributes.jl:207 [inlined]\n",
      "  [2] get(model::Gurobi.Optimizer, attr::MathOptInterface.VariablePrimal, x::MathOptInterface.VariableIndex)\n",
      "    @ Gurobi ~/.julia/packages/Gurobi/yvF0V/src/MOI_wrapper/MOI_wrapper.jl:2893\n",
      "  [3] get(b::MathOptInterface.Bridges.LazyBridgeOptimizer{Gurobi.Optimizer}, attr::MathOptInterface.VariablePrimal, index::MathOptInterface.VariableIndex)\n",
      "    @ MathOptInterface.Bridges ~/.julia/packages/MathOptInterface/2CULs/src/Bridges/bridge_optimizer.jl:1265\n",
      "  [4] get(model::MathOptInterface.Utilities.CachingOptimizer{MathOptInterface.Bridges.LazyBridgeOptimizer{Gurobi.Optimizer}, MathOptInterface.Utilities.UniversalFallback{MathOptInterface.Utilities.Model{Float64}}}, attr::MathOptInterface.VariablePrimal, index::MathOptInterface.VariableIndex)\n",
      "    @ MathOptInterface.Utilities ~/.julia/packages/MathOptInterface/2CULs/src/Utilities/cachingoptimizer.jl:932\n",
      "  [5] _moi_get_result(::MathOptInterface.Utilities.CachingOptimizer{MathOptInterface.Bridges.LazyBridgeOptimizer{Gurobi.Optimizer}, MathOptInterface.Utilities.UniversalFallback{MathOptInterface.Utilities.Model{Float64}}}, ::MathOptInterface.VariablePrimal, ::Vararg{Any})\n",
      "    @ JuMP ~/.julia/packages/JuMP/kSaGf/src/optimizer_interface.jl:729\n",
      "  [6] get(model::Model, attr::MathOptInterface.VariablePrimal, v::VariableRef)\n",
      "    @ JuMP ~/.julia/packages/JuMP/kSaGf/src/optimizer_interface.jl:769\n",
      "  [7] value(v::VariableRef; result::Int64)\n",
      "    @ JuMP ~/.julia/packages/JuMP/kSaGf/src/variables.jl:1703\n",
      "  [8] value\n",
      "    @ ~/.julia/packages/JuMP/kSaGf/src/variables.jl:1702 [inlined]\n",
      "  [9] #1917\n",
      "    @ ~/vsCode/TUD/topo_sandbox/jl_notebook_cell_df34fa98e69747e1a8f8a730347b8e2f_Y123sZmlsZQ==.jl:1 [inlined]\n",
      " [10] foreach(f::var\"#1917#1918\", itr::Vector{VariableRef})\n",
      "    @ Base ./abstractarray.jl:3094\n",
      " [11] top-level scope\n",
      "    @ ~/vsCode/TUD/topo_sandbox/jl_notebook_cell_df34fa98e69747e1a8f8a730347b8e2f_Y123sZmlsZQ==.jl:1"
     ]
    }
   ],
   "source": [
    "foreach(k->println(\"$k: $(value(k))\"), all_variables(model))"
   ]
  },
  {
   "cell_type": "code",
   "execution_count": 38,
   "metadata": {},
   "outputs": [
    {
     "ename": "UndefVarError",
     "evalue": "UndefVarError: `model` not defined",
     "output_type": "error",
     "traceback": [
      "UndefVarError: `model` not defined\n",
      "\n",
      "Stacktrace:\n",
      " [1] top-level scope\n",
      "   @ ~/vsCode/TUD/topo_sandbox/jl_notebook_cell_df34fa98e69747e1a8f8a730347b8e2f_Y124sZmlsZQ==.jl:1"
     ]
    }
   ],
   "source": [
    "compute_conflict!(model)\n"
   ]
  },
  {
   "cell_type": "code",
   "execution_count": 39,
   "metadata": {},
   "outputs": [
    {
     "ename": "UndefVarError",
     "evalue": "UndefVarError: `model` not defined",
     "output_type": "error",
     "traceback": [
      "UndefVarError: `model` not defined\n",
      "\n",
      "Stacktrace:\n",
      " [1] top-level scope\n",
      "   @ ~/vsCode/TUD/topo_sandbox/jl_notebook_cell_df34fa98e69747e1a8f8a730347b8e2f_Y125sZmlsZQ==.jl:1"
     ]
    }
   ],
   "source": [
    "get_attribute(model, MOI.ConflictStatus())\n",
    "iis_model, _ = copy_conflict(model)\n",
    "print(iis_model)\n",
    "    "
   ]
  },
  {
   "cell_type": "code",
   "execution_count": 40,
   "metadata": {},
   "outputs": [
    {
     "ename": "UndefVarError",
     "evalue": "UndefVarError: `model` not defined",
     "output_type": "error",
     "traceback": [
      "UndefVarError: `model` not defined\n",
      "\n",
      "Stacktrace:\n",
      " [1] top-level scope\n",
      "   @ ~/vsCode/TUD/topo_sandbox/jl_notebook_cell_df34fa98e69747e1a8f8a730347b8e2f_Y126sZmlsZQ==.jl:2"
     ]
    }
   ],
   "source": [
    "list_of_conflicting_constraints = ConstraintRef[]\n",
    "for (F, S) in list_of_constraint_types(model)\n",
    "    for con in all_constraints(model, F, S)\n",
    "        if get_attribute(con, MOI.ConstraintConflictStatus()) == MOI.IN_CONFLICT\n",
    "            push!(list_of_conflicting_constraints, con)\n",
    "        end\n",
    "    end\n",
    "end"
   ]
  },
  {
   "cell_type": "code",
   "execution_count": 41,
   "metadata": {},
   "outputs": [
    {
     "data": {
      "text/plain": [
       "ConstraintRef[]"
      ]
     },
     "metadata": {},
     "output_type": "display_data"
    }
   ],
   "source": [
    "list_of_conflicting_constraints"
   ]
  },
  {
   "cell_type": "code",
   "execution_count": 42,
   "metadata": {},
   "outputs": [
    {
     "ename": "UndefVarError",
     "evalue": "UndefVarError: `model` not defined",
     "output_type": "error",
     "traceback": [
      "UndefVarError: `model` not defined\n",
      "\n",
      "Stacktrace:\n",
      " [1] top-level scope\n",
      "   @ ~/vsCode/TUD/topo_sandbox/jl_notebook_cell_df34fa98e69747e1a8f8a730347b8e2f_Y131sZmlsZQ==.jl:1"
     ]
    }
   ],
   "source": [
    "filter_latex_formulation(model, \"\")"
   ]
  },
  {
   "cell_type": "code",
   "execution_count": 43,
   "metadata": {},
   "outputs": [
    {
     "data": {
      "text/plain": [
       "3×3 Matrix{Float64}:\n",
       " 3.88889  3.22222  2.88889\n",
       " 3.22222  3.55556  3.22222\n",
       " 2.88889  3.22222  3.88889"
      ]
     },
     "metadata": {},
     "output_type": "display_data"
    },
    {
     "data": {
      "text/plain": [
       "3×3 Matrix{Float64}:\n",
       "  0.888889  0.222222  -0.111111\n",
       "  0.222222  0.555556   0.222222\n",
       " -0.111111  0.222222   0.888889"
      ]
     },
     "metadata": {},
     "output_type": "display_data"
    },
    {
     "data": {
      "text/plain": [
       "3×3 Matrix{Float64}:\n",
       "  0.555556  -0.111111  -0.444444\n",
       " -0.111111   0.222222  -0.111111\n",
       " -0.444444  -0.111111   0.555556"
      ]
     },
     "metadata": {},
     "output_type": "display_data"
    }
   ],
   "source": [
    "A = [[1, 0] [-1, 1] [ 0, -1]]\n",
    "# A = [[1, 0] [-1, 0] [ 0, 0]]\n",
    "B = A'*A\n",
    "Binv = inv(B + fill(1/3,3,3))\n",
    "display(inv(B + fill(1/30,3,3)))\n",
    "display(Binv)\n",
    "display(Binv - fill(1/3,3,3))\n",
    "# A*Binv*[1, -1, 1]\n",
    "# A*Binv\n",
    "# B = A'*A + fill(1/3, 3, 3)\n",
    "# inv(B)\n"
   ]
  },
  {
   "cell_type": "code",
   "execution_count": 44,
   "metadata": {},
   "outputs": [
    {
     "data": {
      "text/plain": [
       "2×2 Matrix{Float64}:\n",
       " 5.25  4.75\n",
       " 4.75  5.25"
      ]
     },
     "metadata": {},
     "output_type": "display_data"
    },
    {
     "data": {
      "text/plain": [
       "2×2 Matrix{Float64}:\n",
       " 0.75  0.25\n",
       " 0.25  0.75"
      ]
     },
     "metadata": {},
     "output_type": "display_data"
    },
    {
     "data": {
      "text/plain": [
       "2×2 Matrix{Float64}:\n",
       "  0.25  -0.25\n",
       " -0.25   0.25"
      ]
     },
     "metadata": {},
     "output_type": "display_data"
    }
   ],
   "source": [
    "A = [1 -1]\n",
    "B = A'*A\n",
    "Binv = inv(B + fill(1/2, 2, 2))\n",
    "display(inv(B + fill(1/20, 2, 2)))\n",
    "display(Binv)\n",
    "display(Binv - fill(1/2, 2, 2))\n"
   ]
  }
 ],
 "metadata": {
  "kernelspec": {
   "display_name": "Julia 1.10.0",
   "language": "julia",
   "name": "julia-1.10"
  },
  "language_info": {
   "file_extension": ".jl",
   "mimetype": "application/julia",
   "name": "julia",
   "version": "1.10.0"
  }
 },
 "nbformat": 4,
 "nbformat_minor": 2
}
