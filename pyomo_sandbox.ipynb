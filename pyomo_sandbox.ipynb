{
 "cells": [
  {
   "cell_type": "code",
   "execution_count": 72,
   "metadata": {},
   "outputs": [],
   "source": [
    "import pyomo.environ as pyo\n",
    "import matplotlib.pyplot as plt\n",
    "\n",
    "solver = pyo.SolverFactory('glpk')"
   ]
  },
  {
   "cell_type": "code",
   "execution_count": 107,
   "metadata": {},
   "outputs": [],
   "source": [
    "def plot_results(P01M, P02M, P1,P2, b01, b02, model):\n",
    "    coef = 2\n",
    "    nb = 20\n",
    "    vec_range = [coef * i / nb for i in range(nb+1)]\n",
    "\n",
    "    plt.plot([p1*P01M for p1 in vec_range], [P02M for i in range(nb+1)], color = 'red')\n",
    "    plt.plot([P01M for i in range(nb+1)], [p2*P02M for p2 in vec_range], color = 'red')\n",
    "    plt.plot([p1 * P01M for p1 in vec_range], [(1+b02/b01) * P01M - p1 * P01M for p1 in vec_range], color = 'blue')\n",
    "    plt.plot([p1 * P01M for p1 in vec_range], [(1+b01/b02) * P02M - p1 * P01M for p1 in vec_range], color = 'blue')\n",
    "    plt.plot(P1, P2, 'x')\n",
    "    plt.plot(P1 - model.ls1.value, P2 - model.ls2.value, 'o', color = 'red' if model.br.value == 0 else 'green')\n",
    "    plt.xlim(0, P01M * coef)\n",
    "    plt.ylim(0, P02M * coef)\n",
    "    plt.show()"
   ]
  },
  {
   "cell_type": "code",
   "execution_count": 118,
   "metadata": {},
   "outputs": [],
   "source": [
    "P01M = 1.5\n",
    "P02M = 1\n",
    "P1 = 1.7\n",
    "P2 = 0.4\n",
    "b01 = .75\n",
    "b02 = 1\n"
   ]
  },
  {
   "cell_type": "code",
   "execution_count": 119,
   "metadata": {},
   "outputs": [
    {
     "name": "stdout",
     "output_type": "stream",
     "text": [
      "\n",
      "Problem: \n",
      "- Name: unknown\n",
      "  Lower bound: 0.2\n",
      "  Upper bound: 0.2\n",
      "  Number of objectives: 1\n",
      "  Number of constraints: 4\n",
      "  Number of variables: 3\n",
      "  Number of nonzeros: 10\n",
      "  Sense: minimize\n",
      "Solver: \n",
      "- Status: ok\n",
      "  Termination condition: optimal\n",
      "  Statistics: \n",
      "    Branch and bound: \n",
      "      Number of bounded subproblems: 3\n",
      "      Number of created subproblems: 3\n",
      "  Error rc: 0\n",
      "  Time: 0.01598811149597168\n",
      "Solution: \n",
      "- number of solutions: 0\n",
      "  number of solutions displayed: 0\n",
      "\n",
      "3 Var Declarations\n",
      "    br : Size=1, Index=None\n",
      "        Key  : Lower : Value : Upper : Fixed : Stale : Domain\n",
      "        None :     0 :   0.0 :     1 : False : False : Binary\n",
      "    ls1 : Size=1, Index=None\n",
      "        Key  : Lower : Value : Upper : Fixed : Stale : Domain\n",
      "        None :     0 :   0.2 :   1.7 : False : False : NonNegativeReals\n",
      "    ls2 : Size=1, Index=None\n",
      "        Key  : Lower : Value : Upper : Fixed : Stale : Domain\n",
      "        None :     0 :   0.0 :   0.4 : False : False : NonNegativeReals\n",
      "\n",
      "1 Objective Declarations\n",
      "    obj : Size=1, Index=None, Active=True\n",
      "        Key  : Active : Sense    : Expression\n",
      "        None :   True : minimize : ls1 + ls2 - 0.0001*br\n",
      "\n",
      "4 Constraint Declarations\n",
      "    const_close1 : Size=1, Index=None, Active=True\n",
      "        Key  : Lower : Body                                                    : Upper : Active\n",
      "        None :  -Inf : 0.42857142857142855*(2.1 - ls1 - ls2) - (1 - br)*1000.0 :   1.5 :   True\n",
      "    const_close2 : Size=1, Index=None, Active=True\n",
      "        Key  : Lower : Body                                                   : Upper : Active\n",
      "        None :  -Inf : 0.5714285714285714*(2.1 - ls1 - ls2) - (1 - br)*1000.0 :   1.0 :   True\n",
      "    const_open1 : Size=1, Index=None, Active=True\n",
      "        Key  : Lower : Body                  : Upper : Active\n",
      "        None :  -Inf : 1.7 - ls1 - 1000.0*br :   1.5 :   True\n",
      "    const_open2 : Size=1, Index=None, Active=True\n",
      "        Key  : Lower : Body                  : Upper : Active\n",
      "        None :  -Inf : 0.4 - ls2 - 1000.0*br :   1.0 :   True\n",
      "\n",
      "8 Declarations: ls1 ls2 br const_open1 const_open2 const_close1 const_close2 obj\n"
     ]
    },
    {
     "data": {
      "image/png": "[encoded data removed]",
      "text/plain": [
       "<Figure size 640x480 with 1 Axes>"
      ]
     },
     "metadata": {},
     "output_type": "display_data"
    }
   ],
   "source": [
    "bM = 1e3\n",
    "\n",
    "model = pyo.ConcreteModel()\n",
    "model.ls1 = pyo.Var(bounds = (0, P1), domain = pyo.NonNegativeReals)\n",
    "model.ls2 = pyo.Var(bounds = (0, P2), domain = pyo.NonNegativeReals)\n",
    "model.br = pyo.Var(domain = pyo.Binary)\n",
    "\n",
    "def constr_br_open(p, ls, br, bM, p_max):\n",
    "    return p - ls - br * bM <= p_max\n",
    "\n",
    "def constr_br_close(p1, p2, ls1, ls2, b01, b02, br, bM, p_max):\n",
    "    return b01 / (b01 + b02) * (p1 + p2 - ls1 - ls2) - (1 - br) * bM <= p_max\n",
    "\n",
    "model.const_open1 = pyo.Constraint(rule = constr_br_open(P1, model.ls1, model.br, bM, P01M))\n",
    "model.const_open2 = pyo.Constraint(rule = constr_br_open(P2, model.ls2, model.br, bM, P02M))\n",
    "model.const_close1 = pyo.Constraint(rule = constr_br_close(P1, P2, model.ls1, model.ls2, b01, b02, model.br, bM, P01M))\n",
    "model.const_close2 = pyo.Constraint(rule = constr_br_close(P1, P2, model.ls1, model.ls2, b02, b01, model.br, bM, P02M))\n",
    "\n",
    "model.obj = pyo.Objective(rule = model.ls1 + model.ls2 - model.br / 10000, sense = pyo.minimize) # - model.br['br'] / bM\n",
    "# solver.solve(model)\n",
    "print(solver.solve(model))\n",
    "model.pprint()\n",
    "plot_results(P01M, P02M, P1,P2, b01, b02, model)"
   ]
  }
 ],
 "metadata": {
  "kernelspec": {
   "display_name": ".venv",
   "language": "python",
   "name": "python3"
  },
  "language_info": {
   "codemirror_mode": {
    "name": "ipython",
    "version": 3
   },
   "file_extension": ".py",
   "mimetype": "text/x-python",
   "name": "python",
   "nbconvert_exporter": "python",
   "pygments_lexer": "ipython3",
   "version": "3.11.6"
  }
 },
 "nbformat": 4,
 "nbformat_minor": 2
}
